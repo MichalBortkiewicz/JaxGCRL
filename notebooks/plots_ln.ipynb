{
 "cells": [
  {
   "metadata": {
    "ExecuteTime": {
     "end_time": "2024-08-05T07:38:23.543628Z",
     "start_time": "2024-08-05T07:38:22.498051Z"
    }
   },
   "cell_type": "code",
   "source": [
    "import os.path\n",
    "\n",
    "import matplotlib.pyplot as plt\n",
    "import matplotlib\n",
    "\n",
    "import wandb\n",
    "import pandas as pd\n",
    "from rliable import library as rly\n",
    "from rliable import metrics\n",
    "from rliable import plot_utils\n",
    "import numpy as np"
   ],
   "id": "40133d989f40aeb1",
   "outputs": [
    {
     "name": "stderr",
     "output_type": "stream",
     "text": [
      "/home/mbortkie/miniconda3/envs/c_r_l/lib/python3.10/site-packages/requests/__init__.py:86: RequestsDependencyWarning: Unable to find acceptable character detection dependency (chardet or charset_normalizer).\n",
      "  warnings.warn(\n"
     ]
    }
   ],
   "execution_count": 1
  },
  {
   "metadata": {
    "ExecuteTime": {
     "end_time": "2024-08-05T07:38:23.548306Z",
     "start_time": "2024-08-05T07:38:23.545499Z"
    }
   },
   "cell_type": "code",
   "source": [
    "plt.rcParams[\"legend.title_fontsize\"] = \"large\"\n",
    "plt.rcParams.update({'font.size': 12})\n",
    "\n",
    "matplotlib.rc(\"xtick\", labelsize=48)\n",
    "matplotlib.rc(\"ytick\", labelsize=48)"
   ],
   "id": "37045507b979a9b9",
   "outputs": [],
   "execution_count": 2
  },
  {
   "metadata": {
    "ExecuteTime": {
     "end_time": "2024-08-05T07:38:23.628976Z",
     "start_time": "2024-08-05T07:38:23.549352Z"
    }
   },
   "cell_type": "code",
   "source": [
    "# Initialize the wandb API\n",
    "api = wandb.Api()\n",
    "\n",
    "# Define your project and entity (replace with your specific values)\n",
    "entity = \"cl-probing\"  # e.g., your username or team name\n",
    "project = \"layer_norm\"  # e.g., your project name\n",
    "figures_path = f\"./figures/{project}\"\n",
    "os.makedirs(figures_path, exist_ok=True)"
   ],
   "id": "130e7ab98ecfe0c5",
   "outputs": [],
   "execution_count": 3
  },
  {
   "metadata": {
    "ExecuteTime": {
     "end_time": "2024-08-05T07:38:23.703233Z",
     "start_time": "2024-08-05T07:38:23.630698Z"
    }
   },
   "cell_type": "code",
   "source": [
    "metric = \"eval/episode_success_any\"\n",
    "metric_label = \"Success rate\"\n",
    "window_size = 10  # for smoothing the results\n",
    "env = \"ant_u_maze\"\n",
    "env_title_mapping = {\n",
    "    \"ant_ball\": \"Ant Ball\",\n",
    "    \"ant\": \"Ant\",\n",
    "    \"ant_big_maze\": \"Ant Big Maze\",\n",
    "    \"ant_u_maze\": \"Ant U-Maze\",\n",
    "}\n",
    "plot_legend= True if env==\"ant\" else False"
   ],
   "id": "754ea54057742fcd",
   "outputs": [],
   "execution_count": 4
  },
  {
   "metadata": {
    "ExecuteTime": {
     "end_time": "2024-08-05T07:38:23.792770Z",
     "start_time": "2024-08-05T07:38:23.704444Z"
    }
   },
   "cell_type": "code",
   "source": [
    "# h_dim=1024 - not ready yet\n",
    "# exp_names = [\n",
    "#     \"ant_1:16_l_symmetric_infonce_ef_l2_nh_4_h_dim_1024_\",\n",
    "#     \"ant_1:16_l_symmetric_infonce_ef_l2_nh_3_h_dim_1024_\",\n",
    "#     \"ant_1:16_l_symmetric_infonce_ef_l2_nh_2_h_dim_1024_\",\n",
    "# ]\n",
    "#\n",
    "# exp_names_mapping = {\n",
    "#     \"ant_1:16_l_symmetric_infonce_ef_l2_nh_4_h_dim_1024_\": \"Depth 4\",\n",
    "#     \"ant_1:16_l_symmetric_infonce_ef_l2_nh_3_h_dim_1024_\": \"Depth 3\",\n",
    "#     \"ant_1:16_l_symmetric_infonce_ef_l2_nh_2_h_dim_1024_\": \"Depth 2\",\n",
    "# }\n",
    "\n",
    "#\n",
    "\n",
    "# TODO: add 1024\n",
    "exp_names = [\n",
    "    \"ant_1:16_l_symmetric_infonce_ef_l2_nh_4\",\n",
    "    \"ant_1:16_l_symmetric_infonce_ef_l2_nh_3\",\n",
    "    \"ant_1:16_l_symmetric_infonce_ef_l2_nh_2\",\n",
    "    \"ant_1:16_l_symmetric_infonce_ef_l2_nh_4--use_ln\",\n",
    "    \"ant_1:16_l_symmetric_infonce_ef_l2_nh_3--use_ln\",\n",
    "    \"ant_1:16_l_symmetric_infonce_ef_l2_nh_2--use_ln\",\n",
    "    \"ant_1:16_l_symmetric_infonce_ef_l2_nh_4_h_dim_512_\",\n",
    "    \"ant_1:16_l_symmetric_infonce_ef_l2_nh_3_h_dim_512_\",\n",
    "    \"ant_1:16_l_symmetric_infonce_ef_l2_nh_2_h_dim_512_\",\n",
    "    \"ant_1:16_l_symmetric_infonce_ef_l2_nh_4_h_dim_512_--use_ln\",\n",
    "    \"ant_1:16_l_symmetric_infonce_ef_l2_nh_3_h_dim_512_--use_ln\",\n",
    "    \"ant_1:16_l_symmetric_infonce_ef_l2_nh_2_h_dim_512_--use_ln\",\n",
    "    \"ant_1:16_l_symmetric_infonce_ef_l2_nh_4_h_dim_1024_\",\n",
    "    \"ant_1:16_l_symmetric_infonce_ef_l2_nh_3_h_dim_1024_\",\n",
    "    \"ant_1:16_l_symmetric_infonce_ef_l2_nh_2_h_dim_1024_\",\n",
    "    \"ant_1:16_l_symmetric_infonce_ef_l2_nh_4_h_dim_1024_--use_ln\",\n",
    "    \"ant_1:16_l_symmetric_infonce_ef_l2_nh_3_h_dim_1024_--use_ln\",\n",
    "    \"ant_1:16_l_symmetric_infonce_ef_l2_nh_2_h_dim_1024_--use_ln\",\n",
    "    \n",
    "]\n",
    "\n",
    "exp_names_mapping = {\n",
    "    \"ant_1:16_l_symmetric_infonce_ef_l2_nh_4\": \"Depth 4 #256\",\n",
    "    \"ant_1:16_l_symmetric_infonce_ef_l2_nh_3\": \"Depth 3 #256\",\n",
    "    \"ant_1:16_l_symmetric_infonce_ef_l2_nh_2\": \"Depth 2 #256\",\n",
    "    \"ant_1:16_l_symmetric_infonce_ef_l2_nh_4--use_ln\": \"Depth 4 #256 LN\",\n",
    "    \"ant_1:16_l_symmetric_infonce_ef_l2_nh_3--use_ln\": \"Depth 3 #256 LN\",\n",
    "    \"ant_1:16_l_symmetric_infonce_ef_l2_nh_2--use_ln\": \"Depth 2 #256 LN\",\n",
    "    \"ant_1:16_l_symmetric_infonce_ef_l2_nh_4_h_dim_512_\": \"Depth 4 #512\",\n",
    "    \"ant_1:16_l_symmetric_infonce_ef_l2_nh_3_h_dim_512_\": \"Depth 3 #512\",\n",
    "    \"ant_1:16_l_symmetric_infonce_ef_l2_nh_2_h_dim_512_\": \"Depth 2 #512\",\n",
    "    \"ant_1:16_l_symmetric_infonce_ef_l2_nh_4_h_dim_512_--use_ln\": \"Depth 4 #512 LN\",\n",
    "    \"ant_1:16_l_symmetric_infonce_ef_l2_nh_3_h_dim_512_--use_ln\": \"Depth 3 #512 LN\",\n",
    "    \"ant_1:16_l_symmetric_infonce_ef_l2_nh_2_h_dim_512_--use_ln\": \"Depth 2 #512 LN\",\n",
    "    \"ant_1:16_l_symmetric_infonce_ef_l2_nh_4_h_dim_1024_\": \"Depth 4 #1024\",\n",
    "    \"ant_1:16_l_symmetric_infonce_ef_l2_nh_3_h_dim_1024_\": \"Depth 3 #1024\",\n",
    "    \"ant_1:16_l_symmetric_infonce_ef_l2_nh_2_h_dim_1024_\": \"Depth 2 #1024\",\n",
    "    \"ant_1:16_l_symmetric_infonce_ef_l2_nh_4_h_dim_1024_--use_ln\": \"Depth 4 #1024 LN\",\n",
    "    \"ant_1:16_l_symmetric_infonce_ef_l2_nh_3_h_dim_1024_--use_ln\": \"Depth 3 #1024 LN\",\n",
    "    \"ant_1:16_l_symmetric_infonce_ef_l2_nh_2_h_dim_1024_--use_ln\": \"Depth 2 #1024 LN\",\n",
    "}\n",
    "\n",
    "# Energy functions\n",
    "# exp_names = [\n",
    "#     \"ant_l_symmetric_infonce_ef_l1\",\n",
    "#     \"ant_l_symmetric_infonce_ef_l2\",\n",
    "#     \"ant_l_symmetric_infonce_ef_l2_no_sqrt\",\n",
    "#     \"ant_l_symmetric_infonce_ef_dot\",\n",
    "#     \"ant_l_symmetric_infonce_ef_cos\",\n",
    "# ]\n",
    "#\n",
    "# exp_names_mapping = {\n",
    "#     \"ant_l_symmetric_infonce_ef_l1\": \"L1\",\n",
    "#     \"ant_l_symmetric_infonce_ef_l2\": \"L2\",\n",
    "#     \"ant_l_symmetric_infonce_ef_l2_no_sqrt\": \"L2 w/o sqrt\",\n",
    "#     \"ant_l_symmetric_infonce_ef_dot\": \"Dot\",\n",
    "#     \"ant_l_symmetric_infonce_ef_cos\": \"Cos\",\n",
    "# }"
   ],
   "id": "65705af504b4fc63",
   "outputs": [],
   "execution_count": 5
  },
  {
   "metadata": {
    "ExecuteTime": {
     "end_time": "2024-08-05T07:38:24.177962Z",
     "start_time": "2024-08-05T07:38:23.793983Z"
    }
   },
   "cell_type": "code",
   "source": [
    "# Define filters for the run config (replace with your specific filters)\n",
    "filters = {\n",
    "    \"config.batch_size\": 256,  # example filter, modify as needed\n",
    "    # \"config.n_hidden\": 2,\n",
    "    # \"config.h_dim\": 256,\n",
    "    # \"config.use_ln\": True,\n",
    "    # \"config.env_name\": env,\n",
    "    # \"config.env_name\": {\"$in\": list(env_title_mapping.keys())},\n",
    "    \"config.exp_name\": {\"$in\": exp_names},\n",
    "    \"state\": \"finished\"\n",
    "}\n",
    "\n",
    "# Fetch the runs from the API\n",
    "runs = api.runs(path=f\"{entity}/{project}\", filters=filters)"
   ],
   "id": "572ab9fa9177f1fb",
   "outputs": [],
   "execution_count": 6
  },
  {
   "metadata": {
    "ExecuteTime": {
     "end_time": "2024-08-05T07:38:24.495401Z",
     "start_time": "2024-08-05T07:38:24.179168Z"
    }
   },
   "cell_type": "code",
   "source": "len(runs)",
   "id": "c818e4a424b683f5",
   "outputs": [
    {
     "data": {
      "text/plain": [
       "270"
      ]
     },
     "execution_count": 7,
     "metadata": {},
     "output_type": "execute_result"
    }
   ],
   "execution_count": 7
  },
  {
   "metadata": {
    "ExecuteTime": {
     "end_time": "2024-08-05T07:38:24.501280Z",
     "start_time": "2024-08-05T07:38:24.496814Z"
    }
   },
   "cell_type": "code",
   "source": [
    "# Function to extract metrics from runs\n",
    "def extract_run_data(run):\n",
    "    # Extract run config and metrics\n",
    "    config = run.config\n",
    "    summary = run.summary._json_dict\n",
    "    # TODO: potentially just load csv\n",
    "    if os.path.exists(f\"./data/history_{run.id}.csv\"):\n",
    "        history = pd.read_csv(f\"./data/history_{run.id}.csv\")\n",
    "    else:\n",
    "        history = run.history(pandas=True)\n",
    "        history.to_csv(f\"./data/history_{run.id}.csv\", index=False)\n",
    "    # Combine run information into a single dictionary\n",
    "\n",
    "    run_data = {\n",
    "        \"run_id\": run.id,\n",
    "        \"name\": run.name,\n",
    "        **config,\n",
    "        **summary\n",
    "    }\n",
    "    return run_data, history\n",
    "\n",
    "def create_rliable_compatible_data(df, metric):\n",
    "    return df[metric].to_numpy()\n",
    "\n",
    "def moving_average_smoothing(data, window_size=3):\n",
    "    \"\"\"Apply a moving average filter to the last axis of the input data, ensuring no wrap-around.\"\"\"\n",
    "    pad_width = window_size // 2\n",
    "    padded_data = np.pad(data, pad_width, mode='edge')\n",
    "    smoothed = np.convolve(padded_data, np.ones(window_size)/window_size, mode='valid')\n",
    "    return smoothed"
   ],
   "id": "3c1634a490000b12",
   "outputs": [],
   "execution_count": 8
  },
  {
   "metadata": {
    "ExecuteTime": {
     "end_time": "2024-08-05T07:38:26.316516Z",
     "start_time": "2024-08-05T07:38:24.502250Z"
    }
   },
   "cell_type": "code",
   "source": [
    "# Loop through the runs and collect data\n",
    "all_histories = []\n",
    "\n",
    "for run in runs:\n",
    "    run_data, history = extract_run_data(run)\n",
    "    all_histories.append(history)"
   ],
   "id": "d94492cc0e779154",
   "outputs": [],
   "execution_count": 9
  },
  {
   "metadata": {
    "ExecuteTime": {
     "end_time": "2024-08-05T07:38:26.333210Z",
     "start_time": "2024-08-05T07:38:26.319499Z"
    }
   },
   "cell_type": "code",
   "source": [
    "data = {exp_names_mapping[elem]:[] for elem in exp_names}\n",
    "seeds = {exp_names_mapping[elem]: [] for elem in exp_names}\n",
    "for run, history in zip(runs, all_histories):\n",
    "    a = create_rliable_compatible_data(history, metric)\n",
    "    # if run.config[\"seed\"] not in seeds[exp_names_mapping[run.config[\"exp_name\"]]]:\n",
    "    data[exp_names_mapping[run.config[\"exp_name\"]]].append(a)\n",
    "    # seeds[exp_names_mapping[run.config[\"exp_name\"]]].append(run.config[\"seed\"])"
   ],
   "id": "9e62a0a364624b48",
   "outputs": [],
   "execution_count": 10
  },
  {
   "metadata": {
    "ExecuteTime": {
     "end_time": "2024-08-05T07:38:26.410559Z",
     "start_time": "2024-08-05T07:38:26.334304Z"
    }
   },
   "cell_type": "code",
   "source": "data = {key: np.array(elem)[:,None,:] for key, elem in data.items()}",
   "id": "fd45655960cdad37",
   "outputs": [],
   "execution_count": 11
  },
  {
   "metadata": {
    "ExecuteTime": {
     "end_time": "2024-08-05T07:38:26.493863Z",
     "start_time": "2024-08-05T07:38:26.412172Z"
    }
   },
   "cell_type": "code",
   "source": "data['Depth 4 #256'].shape",
   "id": "43291a2f9ef66509",
   "outputs": [
    {
     "data": {
      "text/plain": [
       "(15, 1, 50)"
      ]
     },
     "execution_count": 12,
     "metadata": {},
     "output_type": "execute_result"
    }
   ],
   "execution_count": 12
  },
  {
   "metadata": {
    "ExecuteTime": {
     "end_time": "2024-08-05T07:38:26.575928Z",
     "start_time": "2024-08-05T07:38:26.495799Z"
    }
   },
   "cell_type": "code",
   "source": "data.keys()",
   "id": "d29f742c1cbdb10c",
   "outputs": [
    {
     "data": {
      "text/plain": [
       "dict_keys(['Depth 4 #256', 'Depth 3 #256', 'Depth 2 #256', 'Depth 4 #256 LN', 'Depth 3 #256 LN', 'Depth 2 #256 LN', 'Depth 4 #512', 'Depth 3 #512', 'Depth 2 #512', 'Depth 4 #512 LN', 'Depth 3 #512 LN', 'Depth 2 #512 LN', 'Depth 4 #1024', 'Depth 3 #1024', 'Depth 2 #1024', 'Depth 4 #1024 LN', 'Depth 3 #1024 LN', 'Depth 2 #1024 LN'])"
      ]
     },
     "execution_count": 13,
     "metadata": {},
     "output_type": "execute_result"
    }
   ],
   "execution_count": 13
  },
  {
   "metadata": {
    "ExecuteTime": {
     "end_time": "2024-08-05T07:38:26.664986Z",
     "start_time": "2024-08-05T07:38:26.577688Z"
    }
   },
   "cell_type": "code",
   "source": [
    "# TODO: same shapes assert\n",
    "for exp_name in exp_names:\n",
    "    print(data[exp_names_mapping[exp_name]].shape)"
   ],
   "id": "2e689d9700fd52b3",
   "outputs": [
    {
     "name": "stdout",
     "output_type": "stream",
     "text": [
      "(15, 1, 50)\n",
      "(15, 1, 50)\n",
      "(15, 1, 50)\n",
      "(15, 1, 50)\n",
      "(15, 1, 50)\n",
      "(15, 1, 50)\n",
      "(15, 1, 50)\n",
      "(15, 1, 50)\n",
      "(15, 1, 50)\n",
      "(15, 1, 50)\n",
      "(15, 1, 50)\n",
      "(15, 1, 50)\n",
      "(15, 1, 50)\n",
      "(15, 1, 50)\n",
      "(15, 1, 50)\n",
      "(15, 1, 50)\n",
      "(15, 1, 50)\n",
      "(15, 1, 50)\n"
     ]
    }
   ],
   "execution_count": 14
  },
  {
   "metadata": {
    "ExecuteTime": {
     "end_time": "2024-08-05T07:38:26.761165Z",
     "start_time": "2024-08-05T07:38:26.666717Z"
    }
   },
   "cell_type": "code",
   "source": [
    "for key, item in data.items():\n",
    "    data[key] = np.apply_along_axis(moving_average_smoothing, axis=-1, arr=item) \n"
   ],
   "id": "17e0083e8c0e0e8e",
   "outputs": [],
   "execution_count": 15
  },
  {
   "metadata": {
    "ExecuteTime": {
     "end_time": "2024-08-05T07:38:26.867836Z",
     "start_time": "2024-08-05T07:38:26.763054Z"
    }
   },
   "cell_type": "code",
   "source": "np.arange(0, 55, 5)",
   "id": "5af7102ade4d4d50",
   "outputs": [
    {
     "data": {
      "text/plain": [
       "array([ 0,  5, 10, 15, 20, 25, 30, 35, 40, 45, 50])"
      ]
     },
     "execution_count": 16,
     "metadata": {},
     "output_type": "execute_result"
    }
   ],
   "execution_count": 16
  },
  {
   "metadata": {
    "ExecuteTime": {
     "end_time": "2024-08-05T07:38:26.947519Z",
     "start_time": "2024-08-05T07:38:26.869718Z"
    }
   },
   "cell_type": "code",
   "source": [
    "# frames = np.arange(0, 55, 5)\n",
    "# frames[-1] -=1\n",
    "# ale_frames_scores_dict = {\n",
    "#     algorithm: score[:, :, frames]\n",
    "#     for algorithm, score in data.items()\n",
    "# }\n",
    "# iqm = lambda scores: np.array(\n",
    "#     [metrics.aggregate_iqm(scores[..., frame]) for frame in range(scores.shape[-1])]\n",
    "# )\n",
    "# iqm_scores, iqm_cis = rly.get_interval_estimates(\n",
    "#     ale_frames_scores_dict, iqm, reps=500\n",
    "# )\n",
    "# plot_utils.plot_sample_efficiency_curve(\n",
    "#     frames + 1,\n",
    "#     iqm_scores,\n",
    "#     iqm_cis,\n",
    "#     algorithms=list(data.keys()),\n",
    "#     xlabel=r\"Number of environment steps (in millions)\",\n",
    "#     ylabel=metric_label,\n",
    "#     legend=plot_legend,\n",
    "#     grid_alpha=0.4\n",
    "# )\n",
    "# plt.title(f\"{env_title_mapping[env]}\", fontsize=\"xx-large\")\n",
    "# plt.tight_layout()\n",
    "# plt.savefig(os.path.join(figures_path, f\"{metric_label}_{env}.png\"))"
   ],
   "id": "ed20c94463a470fd",
   "outputs": [],
   "execution_count": 17
  },
  {
   "metadata": {
    "ExecuteTime": {
     "end_time": "2024-08-05T07:38:27.057758Z",
     "start_time": "2024-08-05T07:38:26.949459Z"
    }
   },
   "cell_type": "code",
   "source": "data_flattened = {key: np.mean(elem[:,:, -10:], axis=-1) for key, elem in data.items()}",
   "id": "f18aaedb6f80a89b",
   "outputs": [],
   "execution_count": 18
  },
  {
   "metadata": {
    "ExecuteTime": {
     "end_time": "2024-08-05T07:38:27.144012Z",
     "start_time": "2024-08-05T07:38:27.059734Z"
    }
   },
   "cell_type": "code",
   "source": [
    "# aggregate_func = lambda x: np.array(\n",
    "#     [\n",
    "#         metrics.aggregate_median(x),\n",
    "#         metrics.aggregate_iqm(x),\n",
    "#         metrics.aggregate_mean(x),\n",
    "#     ]\n",
    "# )\n",
    "# aggregate_scores, aggregate_score_cis = rly.get_interval_estimates(\n",
    "#     data_flattened, aggregate_func, reps=500\n",
    "# )\n",
    "# fig, axes = plot_utils.plot_interval_estimates(\n",
    "#     aggregate_scores,\n",
    "#     aggregate_score_cis,\n",
    "#     metric_names=[\"Median\", \"IQM\", \"Mean\"],\n",
    "#     algorithms=list(data.keys()),\n",
    "#     xlabel=f\"{metric_label} (#neurons = {h_dim})\",\n",
    "#     grid_alpha=0.4,\n",
    "#     max_ticks=3,\n",
    "#     subfigure_width=4,\n",
    "#     xlabel_y_coordinate=-0.5,\n",
    "# )\n",
    "# plt.subplots_adjust(wspace=0.2, left=0.0)\n",
    "# for ax in axes:\n",
    "#     ax.set_xlim((0.4, 0.8))\n",
    "# \n",
    "# \n",
    "# plt.savefig(\n",
    "#     os.path.join(figures_path, f\"{metric_label}_all_{h_dim}.png\"), bbox_inches=\"tight\"\n",
    "# )"
   ],
   "id": "463f5c0e82ce6015",
   "outputs": [],
   "execution_count": 19
  },
  {
   "metadata": {
    "ExecuteTime": {
     "end_time": "2024-08-05T07:38:27.228455Z",
     "start_time": "2024-08-05T07:38:27.145890Z"
    }
   },
   "cell_type": "code",
   "source": "data_flattened['Depth 4 #256'].shape",
   "id": "6ab588302052c55",
   "outputs": [
    {
     "data": {
      "text/plain": [
       "(15, 1)"
      ]
     },
     "execution_count": 20,
     "metadata": {},
     "output_type": "execute_result"
    }
   ],
   "execution_count": 20
  },
  {
   "metadata": {
    "ExecuteTime": {
     "end_time": "2024-08-05T07:38:27.343355Z",
     "start_time": "2024-08-05T07:38:27.230378Z"
    }
   },
   "cell_type": "code",
   "source": "data_flattened.keys()",
   "id": "b8d149bcf0716c13",
   "outputs": [
    {
     "data": {
      "text/plain": [
       "dict_keys(['Depth 4 #256', 'Depth 3 #256', 'Depth 2 #256', 'Depth 4 #256 LN', 'Depth 3 #256 LN', 'Depth 2 #256 LN', 'Depth 4 #512', 'Depth 3 #512', 'Depth 2 #512', 'Depth 4 #512 LN', 'Depth 3 #512 LN', 'Depth 2 #512 LN', 'Depth 4 #1024', 'Depth 3 #1024', 'Depth 2 #1024', 'Depth 4 #1024 LN', 'Depth 3 #1024 LN', 'Depth 2 #1024 LN'])"
      ]
     },
     "execution_count": 21,
     "metadata": {},
     "output_type": "execute_result"
    }
   ],
   "execution_count": 21
  },
  {
   "metadata": {
    "ExecuteTime": {
     "end_time": "2024-08-05T07:38:27.414058Z",
     "start_time": "2024-08-05T07:38:27.345032Z"
    }
   },
   "cell_type": "code",
   "source": [
    "algorithm_pairs = {\n",
    "    f\"Depth {depth} #{n_neurons} LN, Depth {depth} #{n_neurons}\": (\n",
    "        data_flattened[f\"Depth {depth} #{n_neurons} LN\"],\n",
    "        data_flattened[f\"Depth {depth} #{n_neurons}\"]\n",
    "    )\n",
    "    for depth in [2, 3, 4]\n",
    "    for n_neurons in [256, 512, 1024]\n",
    "}"
   ],
   "id": "48ebe2fbb01e07cd",
   "outputs": [],
   "execution_count": 22
  },
  {
   "metadata": {
    "ExecuteTime": {
     "end_time": "2024-08-05T07:38:28.572981Z",
     "start_time": "2024-08-05T07:38:27.415957Z"
    }
   },
   "cell_type": "code",
   "source": "algorithm_pairs.keys()",
   "id": "849549fe6b59b25",
   "outputs": [
    {
     "data": {
      "text/plain": [
       "dict_keys(['Depth 2 #256 LN, Depth 2 #256', 'Depth 2 #512 LN, Depth 2 #512', 'Depth 2 #1024 LN, Depth 2 #1024', 'Depth 3 #256 LN, Depth 3 #256', 'Depth 3 #512 LN, Depth 3 #512', 'Depth 3 #1024 LN, Depth 3 #1024', 'Depth 4 #256 LN, Depth 4 #256', 'Depth 4 #512 LN, Depth 4 #512', 'Depth 4 #1024 LN, Depth 4 #1024'])"
      ]
     },
     "execution_count": 23,
     "metadata": {},
     "output_type": "execute_result"
    }
   ],
   "execution_count": 23
  },
  {
   "metadata": {
    "ExecuteTime": {
     "end_time": "2024-08-05T07:38:31.695823Z",
     "start_time": "2024-08-05T07:38:28.574262Z"
    }
   },
   "cell_type": "code",
   "source": [
    "\n",
    "average_probabilities, average_prob_cis = rly.get_interval_estimates(\n",
    "    algorithm_pairs, metrics.probability_of_improvement, reps=500\n",
    ")\n",
    "\n",
    "ax = plot_utils.plot_probability_of_improvement(average_probabilities, average_prob_cis)\n",
    "\n",
    "ax.set_xlim((0, 1))\n",
    "plt.savefig(\n",
    "    os.path.join(figures_path, f\"{metric_label}_layer_norm.png\"), bbox_inches=\"tight\"\n",
    ")"
   ],
   "id": "23d48d5fc36f0571",
   "outputs": [
    {
     "data": {
      "text/plain": [
       "<Figure size 400x300 with 2 Axes>"
      ],
      "image/png": "[encoded data removed]"
     },
     "metadata": {},
     "output_type": "display_data"
    }
   ],
   "execution_count": 24
  },
  {
   "metadata": {
    "ExecuteTime": {
     "end_time": "2024-08-05T07:38:31.699194Z",
     "start_time": "2024-08-05T07:38:31.697101Z"
    }
   },
   "cell_type": "code",
   "source": "",
   "id": "9915015b7653791e",
   "outputs": [],
   "execution_count": 24
  },
  {
   "metadata": {
    "ExecuteTime": {
     "end_time": "2024-08-05T07:38:31.701908Z",
     "start_time": "2024-08-05T07:38:31.700079Z"
    }
   },
   "cell_type": "code",
   "source": "",
   "id": "a27ce11e8fafc06b",
   "outputs": [],
   "execution_count": 24
  }
 ],
 "metadata": {
  "kernelspec": {
   "display_name": "Python 3",
   "language": "python",
   "name": "python3"
  },
  "language_info": {
   "codemirror_mode": {
    "name": "ipython",
    "version": 2
   },
   "file_extension": ".py",
   "mimetype": "text/x-python",
   "name": "python",
   "nbconvert_exporter": "python",
   "pygments_lexer": "ipython2",
   "version": "2.7.6"
  }
 },
 "nbformat": 4,
 "nbformat_minor": 5
}

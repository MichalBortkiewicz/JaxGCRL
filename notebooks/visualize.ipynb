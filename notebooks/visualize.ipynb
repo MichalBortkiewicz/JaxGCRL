{
 "cells": [
  {
   "cell_type": "code",
   "execution_count": null,
   "metadata": {},
   "outputs": [],
   "source": [
    "import jax\n",
    "from jax import numpy as jp\n",
    "import matplotlib.pyplot as plt\n",
    "from IPython.display import HTML\n",
    "from brax.io import model, html\n",
    "import matplotlib.pyplot as plt \n",
    "from sklearn.preprocessing import StandardScaler\n",
    "from sklearn.decomposition import PCA\n",
    "from src import networks\n",
    "from utils import get_env_config, create_env\n",
    "import pickle\n",
    "import numpy as np"
   ]
  },
  {
   "cell_type": "code",
   "execution_count": null,
   "metadata": {},
   "outputs": [],
   "source": [
    "RUN_FOLDER_PATH = './runs/run_ant_checkpointing_s_1'\n",
    "CKPT_NAME = '/step_32358400.pkl'"
   ]
  },
  {
   "cell_type": "code",
   "execution_count": null,
   "metadata": {},
   "outputs": [],
   "source": [
    "params = model.load_params(RUN_FOLDER_PATH + '/ckpt' + CKPT_NAME)\n",
    "processor_params, policy_params, encoders_params = params\n",
    "sa_encoder_params, g_encoder_params = encoders_params['sa_encoder'], encoders_params['g_encoder']"
   ]
  },
  {
   "cell_type": "code",
   "execution_count": null,
   "metadata": {},
   "outputs": [],
   "source": [
    "args_path = RUN_FOLDER_PATH + '/args.pkl'\n",
    "\n",
    "with open(args_path, \"rb\") as f:\n",
    "    args = pickle.load(f)\n",
    "\n",
    "config = get_env_config(args)"
   ]
  },
  {
   "cell_type": "code",
   "execution_count": null,
   "metadata": {},
   "outputs": [],
   "source": [
    "env = create_env(args)\n",
    "obs_size = env.observation_size\n",
    "action_size = env.action_size"
   ]
  },
  {
   "cell_type": "code",
   "execution_count": null,
   "metadata": {},
   "outputs": [],
   "source": [
    "crl_networks = networks.make_crl_networks(config, env, obs_size, action_size)\n",
    "\n",
    "inference_fn = networks.make_inference_fn(crl_networks)\n",
    "inference_fn = inference_fn(params[:2])\n",
    "\n",
    "sa_encoder = lambda obs: crl_networks.sa_encoder.apply(processor_params, sa_encoder_params, obs)\n",
    "g_encoder = lambda obs: crl_networks.g_encoder.apply(processor_params, g_encoder_params, obs)"
   ]
  },
  {
   "cell_type": "code",
   "execution_count": null,
   "metadata": {},
   "outputs": [],
   "source": [
    "NUM_EPISODES = 1\n",
    "\n",
    "jit_env_reset = jax.jit(env.reset)\n",
    "jit_env_step = jax.jit(env.step)\n",
    "jit_inference_fn = jax.jit(inference_fn)\n",
    "\n",
    "\n",
    "trajectories = []\n",
    "rollouts = []\n",
    "\n",
    "for episode in range(NUM_EPISODES):\n",
    "    trajectory = []\n",
    "    rng = jax.random.PRNGKey(seed=episode)\n",
    "    state = jit_env_reset(rng=rng)\n",
    "    for _ in range(1000):\n",
    "        rollouts.append(state.pipeline_state)\n",
    "        act_rng, rng = jax.random.split(rng)\n",
    "        act, _ = jit_inference_fn(state.obs, act_rng)\n",
    "        trajectory.append((state,act))\n",
    "        state = jit_env_step(state, act)\n",
    "    trajectories.append(trajectory)"
   ]
  },
  {
   "cell_type": "code",
   "execution_count": null,
   "metadata": {},
   "outputs": [],
   "source": [
    "HTML(html.render(env.sys.tree_replace({'opt.timestep': env.dt}), rollouts))"
   ]
  },
  {
   "cell_type": "code",
   "execution_count": null,
   "metadata": {},
   "outputs": [],
   "source": [
    "TRAJECTORY_TO_DRAW = 0\n",
    "\n",
    "raw_observations = np.array([state.obs for (state, _) in trajectories[TRAJECTORY_TO_DRAW]])\n",
    "actions = np.array([act for (_, act) in trajectories[TRAJECTORY_TO_DRAW]])\n",
    "\n",
    "observations = raw_observations[:, :env.obs_dim]\n",
    "\n",
    "encoded_sa = sa_encoder(jp.concatenate((observations, actions), axis = 1))\n",
    "\n",
    "scaled_encodings = StandardScaler().fit_transform(encoded_sa)\n",
    "features = PCA(n_components=2).fit_transform(scaled_encodings)\n",
    "\n",
    "plt.scatter(features[:,0], features[:,1], c=np.arange(0, 1000))\n",
    "plt.colorbar(label=\"timestep\")\n",
    "plt.title(f\"Trajectory (s,a) embeddings, {args.env_name}, {CKPT_NAME}\")"
   ]
  },
  {
   "cell_type": "code",
   "execution_count": null,
   "metadata": {},
   "outputs": [],
   "source": []
  }
 ],
 "metadata": {
  "kernelspec": {
   "display_name": "Python 3 (ipykernel)",
   "language": "python",
   "name": "python3"
  },
  "language_info": {
   "codemirror_mode": {
    "name": "ipython",
    "version": 3
   },
   "file_extension": ".py",
   "mimetype": "text/x-python",
   "name": "python",
   "nbconvert_exporter": "python",
   "pygments_lexer": "ipython3",
   "version": "3.11.5"
  }
 },
 "nbformat": 4,
 "nbformat_minor": 4
}

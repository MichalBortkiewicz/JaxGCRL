{
 "cells": [
  {
   "metadata": {
    "ExecuteTime": {
     "end_time": "2024-08-17T11:22:52.329884Z",
     "start_time": "2024-08-17T11:22:51.946868Z"
    }
   },
   "cell_type": "code",
   "source": [
    "import matplotlib.pyplot as plt\n",
    "import matplotlib\n",
    "import wandb\n",
    "from rliable import library as rly\n",
    "from rliable import metrics\n",
    "from rliable import plot_utils\n",
    "import seaborn as sns\n",
    "import numpy as np\n",
    "import os\n",
    "\n",
    "from utils import *"
   ],
   "id": "dd5b2ca40888f75c",
   "outputs": [
    {
     "name": "stderr",
     "output_type": "stream",
     "text": [
      "/home/mbortkie/miniconda3/envs/c_r_l/lib/python3.10/site-packages/requests/__init__.py:86: RequestsDependencyWarning: Unable to find acceptable character detection dependency (chardet or charset_normalizer).\n",
      "  warnings.warn(\n"
     ]
    }
   ],
   "execution_count": 1
  },
  {
   "metadata": {
    "ExecuteTime": {
     "end_time": "2024-08-17T11:22:52.368291Z",
     "start_time": "2024-08-17T11:22:52.364898Z"
    }
   },
   "cell_type": "code",
   "source": [
    "plt.rcParams[\"legend.title_fontsize\"] = \"large\"\n",
    "plt.rcParams.update({'font.size': 12})\n",
    "\n",
    "matplotlib.rc(\"xtick\", labelsize=48)\n",
    "matplotlib.rc(\"ytick\", labelsize=48)"
   ],
   "id": "bda376939ce94fd7",
   "outputs": [],
   "execution_count": 2
  },
  {
   "metadata": {
    "ExecuteTime": {
     "end_time": "2024-08-17T11:22:53.054591Z",
     "start_time": "2024-08-17T11:22:53.046615Z"
    }
   },
   "cell_type": "code",
   "source": [
    "# Initialize the wandb API\n",
    "api = wandb.Api()\n",
    "\n",
    "# Define your project and entity (replace with your specific values)\n",
    "entity = \"cl-probing\"  # e.g., your username or team name\n",
    "project = \"contrastive_fns\" \n",
    "figures_path = f\"./figures/{project}\"\n",
    "os.makedirs(figures_path, exist_ok=True)\n",
    "take_x_seeds = 5"
   ],
   "id": "dd66b41331b86644",
   "outputs": [],
   "execution_count": 3
  },
  {
   "metadata": {
    "ExecuteTime": {
     "end_time": "2024-08-17T11:22:53.128234Z",
     "start_time": "2024-08-17T11:22:53.124584Z"
    }
   },
   "cell_type": "code",
   "source": [
    "exp_names = [\n",
    "    \"ant_l_ipo_ef_l2\",\n",
    "    \"ant_l_dpo_ef_l2\",\n",
    "    \"ant_l_sppo_ef_l2\",\n",
    "    \"ant_l_fb_ef_l2\",\n",
    "    \"ant_l_flatnce_backward_ef_l2\",\n",
    "    \"ant_l_binary_ef_l2\",\n",
    "    \"ant_l_infonce_ef_l2\",\n",
    "    \"ant_l_infonce_backward_ef_l2\",\n",
    "    \"ant_l_flatnce_ef_l2\",\n",
    "    \"ant_l_symmetric_infonce_ef_l2\",\n",
    "]\n",
    "\n",
    "exp_names_mapping = {\n",
    "    \"ant_l_ipo_ef_l2\": \"IPO\",\n",
    "    \"ant_l_dpo_ef_l2\": \"DPO\",\n",
    "    \"ant_l_sppo_ef_l2\": \"SPPO\",\n",
    "    \"ant_l_fb_ef_l2\": \"Forward-Backward\",\n",
    "    \"ant_l_flatnce_backward_ef_l2\": \"FlatNCE Backward\",\n",
    "    \"ant_l_flatnce_ef_l2\": \"FlatNCE\",\n",
    "    \"ant_l_infonce_ef_l2\": \"InfoNCE\",\n",
    "    \"ant_l_infonce_backward_ef_l2\": \"InfoNCE Backward\",\n",
    "    \"ant_l_symmetric_infonce_ef_l2\": \"Symmetric InfoNCE\",\n",
    "    \"ant_l_binary_ef_l2\": \"Binary\",\n",
    "}\n"
   ],
   "id": "ac19279bde52ecf1",
   "outputs": [],
   "execution_count": 4
  },
  {
   "metadata": {
    "ExecuteTime": {
     "end_time": "2024-08-17T11:22:53.212165Z",
     "start_time": "2024-08-17T11:22:53.200502Z"
    }
   },
   "cell_type": "code",
   "source": [
    "env_title_mapping = {\n",
    "    \"ant_ball\": \"Ant Soccer\",\n",
    "    \"ant\": \"Ant\",\n",
    "    \"ant_big_maze\": \"Ant Big Maze\",\n",
    "    \"ant_u_maze\": \"Ant U-Maze\",\n",
    "}\n",
    "metric_to_metric_label_dict = {\n",
    "    \"eval/episode_success\": \"Time in goal proximity\",\n",
    "    \"eval/episode_success_any\": \"Success rate\",\n",
    "}"
   ],
   "id": "87c3886695f9c5ff",
   "outputs": [],
   "execution_count": 5
  },
  {
   "metadata": {},
   "cell_type": "markdown",
   "source": "# Results for all envs",
   "id": "34edb8f1025dc7e9"
  },
  {
   "metadata": {
    "ExecuteTime": {
     "end_time": "2024-08-17T11:22:53.289056Z",
     "start_time": "2024-08-17T11:22:53.280440Z"
    }
   },
   "cell_type": "code",
   "source": [
    "metrics_ = [\"eval/episode_success_any\", \"eval/episode_success\"]\n",
    "single_env=False\n"
   ],
   "id": "913c828ec013d38c",
   "outputs": [],
   "execution_count": 6
  },
  {
   "metadata": {
    "ExecuteTime": {
     "end_time": "2024-08-17T11:22:53.552517Z",
     "start_time": "2024-08-17T11:22:53.358572Z"
    }
   },
   "cell_type": "code",
   "source": [
    "# Define filters for the run config (replace with your specific filters)\n",
    "filters = {\n",
    "    \"config.batch_size\": 256,  # example filter, modify as needed\n",
    "    \"config.exp_name\": {\"$in\": exp_names},\n",
    "    \"config.env_name\": {\"$in\": list(env_title_mapping.keys())},\n",
    "    \"state\": \"finished\"\n",
    "}\n",
    "\n",
    "# Fetch the runs from the API\n",
    "runs = api.runs(path=f\"{entity}/{project}\", filters=filters)"
   ],
   "id": "fac58890f07195e5",
   "outputs": [],
   "execution_count": 7
  },
  {
   "metadata": {
    "ExecuteTime": {
     "end_time": "2024-08-17T11:22:54.069593Z",
     "start_time": "2024-08-17T11:22:53.586458Z"
    }
   },
   "cell_type": "code",
   "source": "len(runs)",
   "id": "543bd33cb0cbccba",
   "outputs": [
    {
     "data": {
      "text/plain": [
       "393"
      ]
     },
     "execution_count": 8,
     "metadata": {},
     "output_type": "execute_result"
    }
   ],
   "execution_count": 8
  },
  {
   "metadata": {
    "ExecuteTime": {
     "end_time": "2024-08-17T11:23:06.783216Z",
     "start_time": "2024-08-17T11:22:54.161646Z"
    }
   },
   "cell_type": "code",
   "source": [
    "for metric in metrics_:\n",
    "    metric_label = metric_to_metric_label_dict[metric]\n",
    "    data = aggregate_data_from_wandb(\n",
    "        runs, metric, exp_names, exp_names_mapping, env_title_mapping, take_x_seeds, single_env\n",
    "    )\n",
    "    \n",
    "    # Smoothing\n",
    "    for key, item in data.items():\n",
    "        data[key] = np.apply_along_axis(moving_average_smoothing, axis=-1, arr=item) \n",
    "    \n",
    "    data_flattened = {key: np.mean(elem[:,:, -10:], axis=-1) for key, elem in data.items()}\n",
    "    \n",
    "    thresholds = np.linspace(0.0, 1, 41)\n",
    "    score_distributions, score_distributions_cis = rly.create_performance_profile(\n",
    "        data_flattened, thresholds\n",
    "    )\n",
    "    \n",
    "    # Plot score distributions\n",
    "    fig, ax = plt.subplots(ncols=1, figsize=(7, 5))\n",
    "    plot_utils.plot_performance_profiles(\n",
    "        score_distributions,\n",
    "        thresholds,\n",
    "        performance_profile_cis=score_distributions_cis,\n",
    "        colors=dict(zip(list(data_flattened.keys()), sns.color_palette(\"colorblind\"))),\n",
    "        xlabel=rf\"{metric_label} $(\\tau)$\",\n",
    "        ylabel=rf\"Fraction of runs with success rate > $\\tau$\",\n",
    "        ax=ax,\n",
    "        legend=False,\n",
    "        legendsize=\"medium\",\n",
    "        grid_alpha=0.4, \n",
    "        figsize=(12,8),\n",
    "        # use_non_linear_scaling=True\n",
    "    )\n",
    "    plt.xlim((0, 0.7))\n",
    "    plt.tight_layout()\n",
    "    plt.ylabel(rf\"Fraction of runs with success rate > $\\tau$\", wrap=True)\n",
    "    plt.savefig(os.path.join(figures_path, f\"{metric_label}_performance_profile_{single_env if single_env else 'all'}.pdf\"), bbox_inches=\"tight\")\n",
    "    \n",
    "    \n",
    "    # Sample efficiency curve\n",
    "    frames = np.arange(0, 55, 5)\n",
    "    frames[-1] -= 1\n",
    "    ale_frames_scores_dict = {algorithm: score[:, :, frames] for algorithm, score in data.items()}\n",
    "    iqm = lambda scores: np.array([metrics.aggregate_iqm(scores[..., frame]) for frame in range(scores.shape[-1])])\n",
    "    iqm_scores, iqm_cis = rly.get_interval_estimates(ale_frames_scores_dict, iqm, reps=2000)\n",
    "    plot_utils.plot_sample_efficiency_curve(\n",
    "        frames + 1,\n",
    "        iqm_scores,\n",
    "        iqm_cis,\n",
    "        algorithms=list(data.keys()),\n",
    "        xlabel=r\"Number of environment steps (in millions)\",\n",
    "        ylabel=metric_label,\n",
    "        legend=False,\n",
    "        grid_alpha=0.4,\n",
    "        figsize=(8, 6),\n",
    "    )\n",
    "    plt.title(f\"{env_title_mapping[single_env] if single_env else ''}\", fontsize=\"xx-large\")\n",
    "    plt.tight_layout()\n",
    "    plt.savefig(os.path.join(figures_path, f\"{metric_label}_{single_env if single_env else 'all'}.pdf\"))\n",
    "    \n",
    "    \n",
    "    # Interval estimate\n",
    "    aggregate_func = lambda x: np.array(\n",
    "    [\n",
    "        metrics.aggregate_iqm(x),\n",
    "    ]\n",
    "    )\n",
    "    aggregate_scores, aggregate_score_cis = rly.get_interval_estimates(\n",
    "        data_flattened, aggregate_func, reps=500\n",
    "    )\n",
    "    fig, axes = plot_utils.plot_interval_estimates(\n",
    "        aggregate_scores,\n",
    "        aggregate_score_cis,\n",
    "        metric_names=[\"IQM\"],\n",
    "        algorithms=list(data.keys()),\n",
    "        xlabel=f\"{metric_label}\",\n",
    "        grid_alpha=0.4,\n",
    "        max_ticks=3,\n",
    "        subfigure_width=4,\n",
    "        xlabel_y_coordinate=-0.3,\n",
    "    )\n",
    "    plt.subplots_adjust(wspace=0.2, left=0.0)\n",
    "    \n",
    "    plt.savefig(\n",
    "        os.path.join(figures_path, f\"{metric_label}_all_interval_estimate.pdf\"), bbox_inches=\"tight\"\n",
    "    )"
   ],
   "id": "9437849fb5dabe44",
   "outputs": [
    {
     "name": "stdout",
     "output_type": "stream",
     "text": [
      "IPO, Ant Soccer\n",
      "(7, 1, 50)\n",
      "DPO, Ant Soccer\n",
      "(7, 1, 50)\n",
      "SPPO, Ant Soccer\n",
      "(7, 1, 50)\n",
      "Forward-Backward, Ant Soccer\n",
      "(7, 1, 50)\n",
      "FlatNCE Backward, Ant Soccer\n",
      "(7, 1, 50)\n",
      "FlatNCE, Ant Soccer\n",
      "(7, 1, 50)\n",
      "InfoNCE, Ant Soccer\n",
      "(7, 1, 50)\n",
      "InfoNCE Backward, Ant Soccer\n",
      "(7, 1, 50)\n",
      "Symmetric InfoNCE, Ant Soccer\n",
      "(7, 1, 50)\n",
      "Binary, Ant Soccer\n",
      "(7, 1, 50)\n",
      "IPO, Ant\n",
      "(7, 1, 50)\n",
      "DPO, Ant\n",
      "(7, 1, 50)\n",
      "SPPO, Ant\n",
      "(7, 1, 50)\n",
      "Forward-Backward, Ant\n",
      "(7, 1, 50)\n",
      "FlatNCE Backward, Ant\n",
      "(7, 1, 50)\n",
      "FlatNCE, Ant\n",
      "(7, 1, 50)\n",
      "InfoNCE, Ant\n",
      "(7, 1, 50)\n",
      "InfoNCE Backward, Ant\n",
      "(7, 1, 50)\n",
      "Symmetric InfoNCE, Ant\n",
      "(7, 1, 50)\n",
      "Binary, Ant\n",
      "(7, 1, 50)\n",
      "IPO, Ant Big Maze\n",
      "(7, 1, 50)\n",
      "DPO, Ant Big Maze\n",
      "(5, 1, 50)\n",
      "SPPO, Ant Big Maze\n",
      "(7, 1, 50)\n",
      "Forward-Backward, Ant Big Maze\n",
      "(7, 1, 50)\n",
      "FlatNCE Backward, Ant Big Maze\n",
      "(7, 1, 50)\n",
      "FlatNCE, Ant Big Maze\n",
      "(7, 1, 50)\n",
      "InfoNCE, Ant Big Maze\n",
      "(7, 1, 50)\n",
      "InfoNCE Backward, Ant Big Maze\n",
      "(7, 1, 50)\n",
      "Symmetric InfoNCE, Ant Big Maze\n",
      "(7, 1, 50)\n",
      "Binary, Ant Big Maze\n",
      "(7, 1, 50)\n",
      "IPO, Ant U-Maze\n",
      "(7, 1, 50)\n",
      "DPO, Ant U-Maze\n",
      "(7, 1, 50)\n",
      "SPPO, Ant U-Maze\n",
      "(7, 1, 50)\n",
      "Forward-Backward, Ant U-Maze\n",
      "(7, 1, 50)\n",
      "FlatNCE Backward, Ant U-Maze\n",
      "(7, 1, 50)\n",
      "FlatNCE, Ant U-Maze\n",
      "(7, 1, 50)\n",
      "InfoNCE, Ant U-Maze\n",
      "(7, 1, 50)\n",
      "InfoNCE Backward, Ant U-Maze\n",
      "(7, 1, 50)\n",
      "Symmetric InfoNCE, Ant U-Maze\n",
      "(7, 1, 50)\n",
      "Binary, Ant U-Maze\n",
      "(7, 1, 50)\n"
     ]
    },
    {
     "ename": "ValueError",
     "evalue": "all the input array dimensions except for the concatenation axis must match exactly, but along dimension 0, the array at index 0 has size 7 and the array at index 2 has size 5",
     "output_type": "error",
     "traceback": [
      "\u001B[0;31m---------------------------------------------------------------------------\u001B[0m",
      "\u001B[0;31mValueError\u001B[0m                                Traceback (most recent call last)",
      "Cell \u001B[0;32mIn[9], line 3\u001B[0m\n\u001B[1;32m      1\u001B[0m \u001B[38;5;28;01mfor\u001B[39;00m metric \u001B[38;5;129;01min\u001B[39;00m metrics_:\n\u001B[1;32m      2\u001B[0m     metric_label \u001B[38;5;241m=\u001B[39m metric_to_metric_label_dict[metric]\n\u001B[0;32m----> 3\u001B[0m     data \u001B[38;5;241m=\u001B[39m \u001B[43maggregate_data_from_wandb\u001B[49m\u001B[43m(\u001B[49m\n\u001B[1;32m      4\u001B[0m \u001B[43m        \u001B[49m\u001B[43mruns\u001B[49m\u001B[43m,\u001B[49m\u001B[43m \u001B[49m\u001B[43mmetric\u001B[49m\u001B[43m,\u001B[49m\u001B[43m \u001B[49m\u001B[43mexp_names\u001B[49m\u001B[43m,\u001B[49m\u001B[43m \u001B[49m\u001B[43mexp_names_mapping\u001B[49m\u001B[43m,\u001B[49m\u001B[43m \u001B[49m\u001B[43menv_title_mapping\u001B[49m\u001B[43m,\u001B[49m\u001B[43m \u001B[49m\u001B[43mtake_x_seeds\u001B[49m\u001B[43m,\u001B[49m\u001B[43m \u001B[49m\u001B[43msingle_env\u001B[49m\n\u001B[1;32m      5\u001B[0m \u001B[43m    \u001B[49m\u001B[43m)\u001B[49m\n\u001B[1;32m      7\u001B[0m     \u001B[38;5;66;03m# Smoothing\u001B[39;00m\n\u001B[1;32m      8\u001B[0m     \u001B[38;5;28;01mfor\u001B[39;00m key, item \u001B[38;5;129;01min\u001B[39;00m data\u001B[38;5;241m.\u001B[39mitems():\n",
      "File \u001B[0;32m~/repos/crl/notebooks/utils.py:112\u001B[0m, in \u001B[0;36maggregate_data_from_wandb\u001B[0;34m(runs, metric, exp_names, exp_names_mapping, env_title_mapping, take_x_seeds, single_env, download_again)\u001B[0m\n\u001B[1;32m    108\u001B[0m             \u001B[38;5;28mprint\u001B[39m(data[method][env]\u001B[38;5;241m.\u001B[39mshape)\n\u001B[1;32m    110\u001B[0m \u001B[38;5;66;03m# Create final data structure dict of arrays (methods->array)\u001B[39;00m\n\u001B[1;32m    111\u001B[0m \u001B[38;5;66;03m# array shape: num_seeds x num_envs x timesteps\u001B[39;00m\n\u001B[0;32m--> 112\u001B[0m data_new \u001B[38;5;241m=\u001B[39m {key: np\u001B[38;5;241m.\u001B[39mconcatenate((\u001B[38;5;28mlist\u001B[39m(data[key]\u001B[38;5;241m.\u001B[39mvalues())), axis\u001B[38;5;241m=\u001B[39m\u001B[38;5;241m1\u001B[39m) \u001B[38;5;28;01mfor\u001B[39;00m key, elem \u001B[38;5;129;01min\u001B[39;00m data\u001B[38;5;241m.\u001B[39mitems()}\n\u001B[1;32m    114\u001B[0m \u001B[38;5;28;01mreturn\u001B[39;00m data_new\n",
      "File \u001B[0;32m~/repos/crl/notebooks/utils.py:112\u001B[0m, in \u001B[0;36m<dictcomp>\u001B[0;34m(.0)\u001B[0m\n\u001B[1;32m    108\u001B[0m             \u001B[38;5;28mprint\u001B[39m(data[method][env]\u001B[38;5;241m.\u001B[39mshape)\n\u001B[1;32m    110\u001B[0m \u001B[38;5;66;03m# Create final data structure dict of arrays (methods->array)\u001B[39;00m\n\u001B[1;32m    111\u001B[0m \u001B[38;5;66;03m# array shape: num_seeds x num_envs x timesteps\u001B[39;00m\n\u001B[0;32m--> 112\u001B[0m data_new \u001B[38;5;241m=\u001B[39m {key: \u001B[43mnp\u001B[49m\u001B[38;5;241;43m.\u001B[39;49m\u001B[43mconcatenate\u001B[49m\u001B[43m(\u001B[49m\u001B[43m(\u001B[49m\u001B[38;5;28;43mlist\u001B[39;49m\u001B[43m(\u001B[49m\u001B[43mdata\u001B[49m\u001B[43m[\u001B[49m\u001B[43mkey\u001B[49m\u001B[43m]\u001B[49m\u001B[38;5;241;43m.\u001B[39;49m\u001B[43mvalues\u001B[49m\u001B[43m(\u001B[49m\u001B[43m)\u001B[49m\u001B[43m)\u001B[49m\u001B[43m)\u001B[49m\u001B[43m,\u001B[49m\u001B[43m \u001B[49m\u001B[43maxis\u001B[49m\u001B[38;5;241;43m=\u001B[39;49m\u001B[38;5;241;43m1\u001B[39;49m\u001B[43m)\u001B[49m \u001B[38;5;28;01mfor\u001B[39;00m key, elem \u001B[38;5;129;01min\u001B[39;00m data\u001B[38;5;241m.\u001B[39mitems()}\n\u001B[1;32m    114\u001B[0m \u001B[38;5;28;01mreturn\u001B[39;00m data_new\n",
      "\u001B[0;31mValueError\u001B[0m: all the input array dimensions except for the concatenation axis must match exactly, but along dimension 0, the array at index 0 has size 7 and the array at index 2 has size 5"
     ]
    }
   ],
   "execution_count": 9
  },
  {
   "metadata": {
    "ExecuteTime": {
     "end_time": "2024-08-17T11:23:06.730984Z",
     "start_time": "2024-08-16T22:03:12.218728Z"
    }
   },
   "cell_type": "code",
   "source": "",
   "id": "68d668c4537be7a9",
   "outputs": [],
   "execution_count": null
  }
 ],
 "metadata": {
  "kernelspec": {
   "display_name": "Python 3",
   "language": "python",
   "name": "python3"
  },
  "language_info": {
   "codemirror_mode": {
    "name": "ipython",
    "version": 2
   },
   "file_extension": ".py",
   "mimetype": "text/x-python",
   "name": "python",
   "nbconvert_exporter": "python",
   "pygments_lexer": "ipython2",
   "version": "2.7.6"
  }
 },
 "nbformat": 4,
 "nbformat_minor": 5
}

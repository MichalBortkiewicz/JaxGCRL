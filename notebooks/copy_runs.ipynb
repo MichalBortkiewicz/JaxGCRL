{
 "cells": [
  {
   "cell_type": "code",
   "id": "9605dafabec6c5fb",
   "metadata": {
    "collapsed": true,
    "ExecuteTime": {
     "end_time": "2024-08-05T09:26:49.776299Z",
     "start_time": "2024-08-05T09:26:47.780081Z"
    }
   },
   "source": [
    "import wandb\n",
    "import numpy as np\n",
    "# Set your API key\n",
    "wandb.login()\n",
    "\n",
    "# Set the source and destination projects\n",
    "src_entity = \"cl-probing\"\n",
    "src_project = \"contrastive_fns\"\n",
    "dst_entity = \"cl-probing\"\n",
    "dst_project = \"logsumexp_penalty\"\n",
    "\n",
    "# Initialize the wandb API\n",
    "api = wandb.Api()\n",
    "\n",
    "# Get the runs from the source project\n",
    "exp_names = [\"ant_l_symmetric_infonce_ef_l2\"]\n",
    "\n",
    "filters = {\n",
    "    \"config.batch_size\": 256,  # example filter, modify as needed\n",
    "    \"config.exp_name\": {\"$in\": exp_names},\n",
    "    \"state\": \"finished\"\n",
    "}\n",
    "runs = api.runs(path=f\"{src_entity}/{src_project}\", filters=filters)\n",
    "name = \"ant_l_symmetric_infonce_ef_l2_p_0.1\"\n",
    "\n",
    "print(len(runs))"
   ],
   "outputs": [
    {
     "name": "stderr",
     "output_type": "stream",
     "text": [
      "/home/mbortkie/miniconda3/envs/c_r_l/lib/python3.10/site-packages/requests/__init__.py:86: RequestsDependencyWarning: Unable to find acceptable character detection dependency (chardet or charset_normalizer).\n",
      "  warnings.warn(\n",
      "/home/mbortkie/miniconda3/envs/c_r_l/lib/python3.10/site-packages/requests/__init__.py:86: RequestsDependencyWarning: Unable to find acceptable character detection dependency (chardet or charset_normalizer).\n",
      "  warnings.warn(\n",
      "\u001B[34m\u001B[1mwandb\u001B[0m: Currently logged in as: \u001B[33mmichalbortkiewicz\u001B[0m (\u001B[33mcl-probing\u001B[0m). Use \u001B[1m`wandb login --relogin`\u001B[0m to force relogin\n"
     ]
    },
    {
     "name": "stdout",
     "output_type": "stream",
     "text": [
      "20\n"
     ]
    }
   ],
   "execution_count": 1
  },
  {
   "metadata": {
    "ExecuteTime": {
     "end_time": "2024-08-05T09:32:50.979506Z",
     "start_time": "2024-08-05T09:26:49.778492Z"
    }
   },
   "cell_type": "code",
   "source": [
    "# Iterate through the runs and copy them to the destination project\n",
    "for run in runs: \n",
    "    history = run.history()\n",
    "    files = run.files()\n",
    "\n",
    "\n",
    "    # Create a new run in the destination project\n",
    "\n",
    "    # Log the history to the new run\n",
    "    new_run = wandb.init(\n",
    "        project=dst_project,\n",
    "        entity=dst_entity,\n",
    "        config=run.config,\n",
    "        name=name,\n",
    "        resume=\"allow\"\n",
    "    )\n",
    "    for index, row in history.iterrows():\n",
    "        step_size = history['_step'].values[1]\n",
    "        new_run.log(row.to_dict(), step= int(index * step_size)//2)\n",
    "\n",
    "    # Upload the files to the new run\n",
    "    for file in files:\n",
    "        file.download(replace=True)\n",
    "        new_run.save(file.name, policy=\"now\")\n",
    "\n",
    "    # Finish the new run\n",
    "    new_run.finish()\n"
   ],
   "id": "initial_id",
   "outputs": [
    {
     "data": {
      "text/plain": [
       "<IPython.core.display.HTML object>"
      ],
      "text/html": [
       "wandb version 0.17.5 is available!  To upgrade, please run:\n",
       " $ pip install wandb --upgrade"
      ]
     },
     "metadata": {},
     "output_type": "display_data"
    },
    {
     "data": {
      "text/plain": [
       "<IPython.core.display.HTML object>"
      ],
      "text/html": [
       "Tracking run with wandb version 0.16.4"
      ]
     },
     "metadata": {},
     "output_type": "display_data"
    },
    {
     "data": {
      "text/plain": [
       "<IPython.core.display.HTML object>"
      ],
      "text/html": [
       "Run data is saved locally in <code>/home/mbortkie/repos/crl/notebooks/wandb/run-20240805_112650-yoe8k35r</code>"
      ]
     },
     "metadata": {},
     "output_type": "display_data"
    },
    {
     "data": {
      "text/plain": [
       "<IPython.core.display.HTML object>"
      ],
      "text/html": [
       "Syncing run <strong><a href='https://wandb.ai/cl-probing/logsumexp_penalty/runs/yoe8k35r' target=\"_blank\">ant_l_symmetric_infonce_ef_l2_p_0.1</a></strong> to <a href='https://wandb.ai/cl-probing/logsumexp_penalty' target=\"_blank\">Weights & Biases</a> (<a href='https://wandb.me/run' target=\"_blank\">docs</a>)<br/>"
      ]
     },
     "metadata": {},
     "output_type": "display_data"
    },
    {
     "data": {
      "text/plain": [
       "<IPython.core.display.HTML object>"
      ],
      "text/html": [
       " View project at <a href='https://wandb.ai/cl-probing/logsumexp_penalty' target=\"_blank\">https://wandb.ai/cl-probing/logsumexp_penalty</a>"
      ]
     },
     "metadata": {},
     "output_type": "display_data"
    },
    {
     "data": {
      "text/plain": [
       "<IPython.core.display.HTML object>"
      ],
      "text/html": [
       " View run at <a href='https://wandb.ai/cl-probing/logsumexp_penalty/runs/yoe8k35r' target=\"_blank\">https://wandb.ai/cl-probing/logsumexp_penalty/runs/yoe8k35r</a>"
      ]
     },
     "metadata": {},
     "output_type": "display_data"
    },
    {
     "data": {
      "text/plain": [
       "<IPython.core.display.HTML object>"
      ],
      "text/html": [
       "<style>\n",
       "    table.wandb td:nth-child(1) { padding: 0 10px; text-align: left ; width: auto;} td:nth-child(2) {text-align: left ; width: 100%}\n",
       "    .wandb-row { display: flex; flex-direction: row; flex-wrap: wrap; justify-content: flex-start; width: 100% }\n",
       "    .wandb-col { display: flex; flex-direction: column; flex-basis: 100%; flex: 1; padding: 10px; }\n",
       "    </style>\n",
       "<div class=\"wandb-row\"><div class=\"wandb-col\"><h3>Run history:</h3><br/><table class=\"wandb\"><tr><td>eval/episode_dist</td><td>▂▃██▆▆▅▅▇▄▅▄▂▂▂▂▃▂▂▂▃▂▃▁▂▃▁▂▂▃▃▂▂▂▂▃▄▂▃▂</td></tr><tr><td>eval/episode_reward_survive</td><td>▂▂▇█▇█▄▅▇▄▅▄▂▃▂▂▂▃▄▃▃▄▃▁▂▃▂▃▂▃▃▁▂▃▃▃▅▃▃▂</td></tr><tr><td>eval/episode_success</td><td>▁▁▂▃▄▄▂▄▃▄▃▃▃▅▃▅▂▆▆▄▄█▄▄▃▄▄▃▄▃▄▃▄▃▄▃▃▅▃▂</td></tr><tr><td>eval/episode_success_any</td><td>▁▁▂▄▄▆▃▅▄▅▄▄▄▆▄▆▃▆█▅▅█▄▆▅▆▅▅▆▄▅▃▅▇▅▅▅▇▄▃</td></tr><tr><td>eval/episode_success_easy</td><td>▁▁▂▅▅▅▃▅▄▄▃▄▄▆▄▆▃▆▇▅▄█▄▄▄▅▅▄▅▄▄▃▄▅▄▄▄▅▃▃</td></tr><tr><td>eval/episode_success_hard</td><td>▁▁▁▁▁▁▁▁▁▁▁▁▁▁▁▁▁▁▁▁▁▁▁▁▁▁▁▁▁▁▁▁▁▁▁▁▁▁▁▁</td></tr><tr><td>step</td><td>▁▁▁▂▂▂▂▂▃▃▃▃▃▃▄▄▄▄▄▄▅▅▅▅▅▅▆▆▆▆▆▆▇▇▇▇▇███</td></tr><tr><td>training/actor_loss</td><td>▁▇███▇▇█████████████████████████████████</td></tr><tr><td>training/alpha</td><td>▁█▂▂▂▂▂▂▂▂▂▂▂▂▂▂▂▂▂▂▂▂▂▂▂▂▂▂▂▂▂▂▂▂▂▂▂▂▂▂</td></tr><tr><td>training/alpha_loss</td><td>▁█▁▁▁▁▁▁▁▁▁▁▁▁▁▁▁▁▁▁▁▁▁▁▁▁▁▁▁▁▁▁▁▁▁▁▁▁▁▁</td></tr><tr><td>training/binary_accuracy</td><td>▁███████████████████████████████████████</td></tr><tr><td>training/c_target</td><td>▁▁▁▁▁▁▁▁▁▁▁▁▁▁▁▁▁▁▁▁▁▁▁▁▁▁▁▁▁▁▁▁▁▁▁▁▁▁▁▁</td></tr><tr><td>training/categorical_accuracy</td><td>▁▆▇▇████████▇▇▇▇▇▇▇█████████████████████</td></tr><tr><td>training/crl_critic_loss</td><td>▁████▇▇▇████████████▇▇▇▇▇▇▇▇▇▇▇▇▇▇▇▇▇▇▇▇</td></tr><tr><td>training/entropy</td><td>█▅▁▁▁▁▁▁▁▁▁▁▁▁▁▁▁▁▁▁▁▁▁▁▁▁▁▁▁▁▁▁▁▁▁▁▁▁▁▁</td></tr><tr><td>training/g_repr_mean</td><td>▁█▆▄▄▃▃▃▃▃▃▃▃▃▃▃▃▄▄▄▄▄▄▄▄▄▄▃▃▃▃▃▃▃▃▃▃▃▃▃</td></tr><tr><td>training/g_repr_std</td><td>▁█▆▅▄▄▄▄▃▃▃▃▃▃▃▃▃▃▃▃▃▃▃▃▃▃▃▃▃▃▃▃▃▃▃▃▃▃▃▃</td></tr><tr><td>training/l_align</td><td>▁███████████████████████████████████████</td></tr><tr><td>training/l_unif</td><td>▇█▆▅▄▄▄▄▃▃▃▃▃▃▃▃▂▂▂▂▂▂▂▂▁▁▁▁▁▁▁▁▁▁▁▁▁▁▁▁</td></tr><tr><td>training/logits_neg</td><td>█▁▂▂▂▂▂▂▂▂▂▂▂▂▂▂▂▂▂▂▂▂▂▂▂▂▂▂▂▂▂▂▂▂▂▂▂▂▂▂</td></tr><tr><td>training/logits_pos</td><td>█▁▁▁▁▁▁▁▁▁▁▁▁▁▁▁▁▁▁▁▁▁▁▁▁▁▁▁▁▁▁▁▁▁▁▁▁▁▁▁</td></tr><tr><td>training/logsumexp</td><td>▁▇▄▅▅▅▆▆▆▆▆▆▆▆▆▆▇▇▇▇▇▇▇▇████████████████</td></tr><tr><td>training/sa_repr_mean</td><td>▁█▆▄▃▃▃▃▃▃▃▃▃▃▃▃▃▄▄▄▄▄▄▄▄▄▄▃▃▃▃▃▃▃▃▃▃▃▃▃</td></tr><tr><td>training/sa_repr_std</td><td>▁█▆▅▅▄▄▄▄▄▄▄▄▄▄▄▄▄▄▄▄▄▄▄▄▄▄▃▃▃▃▃▃▃▃▃▃▃▃▃</td></tr><tr><td>training/sps</td><td>▁▅██████████████████████████████████████</td></tr></table><br/></div><div class=\"wandb-col\"><h3>Run summary:</h3><br/><table class=\"wandb\"><tr><td>eval/episode_dist</td><td>6545.0957</td></tr><tr><td>eval/episode_reward_survive</td><td>510.4375</td></tr><tr><td>eval/episode_success</td><td>20.35938</td></tr><tr><td>eval/episode_success_any</td><td>0.09375</td></tr><tr><td>eval/episode_success_easy</td><td>61.58594</td></tr><tr><td>eval/episode_success_hard</td><td>0</td></tr><tr><td>step</td><td>50853888.0</td></tr><tr><td>training/actor_loss</td><td>3.2145</td></tr><tr><td>training/alpha</td><td>0.01037</td></tr><tr><td>training/alpha_loss</td><td>-1e-05</td></tr><tr><td>training/binary_accuracy</td><td>0.99609</td></tr><tr><td>training/c_target</td><td>0</td></tr><tr><td>training/categorical_accuracy</td><td>0.22781</td></tr><tr><td>training/crl_critic_loss</td><td>6.34948</td></tr><tr><td>training/entropy</td><td>-4.00051</td></tr><tr><td>training/g_repr_mean</td><td>7.56528</td></tr><tr><td>training/g_repr_std</td><td>1.69357</td></tr><tr><td>training/l_align</td><td>7.16158</td></tr><tr><td>training/l_unif</td><td>-0.8431</td></tr><tr><td>training/logits_neg</td><td>-9.27935</td></tr><tr><td>training/logits_pos</td><td>-3.58079</td></tr><tr><td>training/logsumexp</td><td>0.30999</td></tr><tr><td>training/sa_repr_mean</td><td>7.47207</td></tr><tr><td>training/sa_repr_std</td><td>1.88878</td></tr><tr><td>training/sps</td><td>32554.73131</td></tr></table><br/></div></div>"
      ]
     },
     "metadata": {},
     "output_type": "display_data"
    },
    {
     "data": {
      "text/plain": [
       "<IPython.core.display.HTML object>"
      ],
      "text/html": [
       " View run <strong style=\"color:#cdcd00\">ant_l_symmetric_infonce_ef_l2_p_0.1</strong> at: <a href='https://wandb.ai/cl-probing/logsumexp_penalty/runs/yoe8k35r' target=\"_blank\">https://wandb.ai/cl-probing/logsumexp_penalty/runs/yoe8k35r</a><br/> View job at <a href='https://wandb.ai/cl-probing/logsumexp_penalty/jobs/QXJ0aWZhY3RDb2xsZWN0aW9uOjM3NzgwMzA4NA==/version_details/v7' target=\"_blank\">https://wandb.ai/cl-probing/logsumexp_penalty/jobs/QXJ0aWZhY3RDb2xsZWN0aW9uOjM3NzgwMzA4NA==/version_details/v7</a><br/>Synced 6 W&B file(s), 1 media file(s), 0 artifact file(s) and 4 other file(s)"
      ]
     },
     "metadata": {},
     "output_type": "display_data"
    },
    {
     "data": {
      "text/plain": [
       "<IPython.core.display.HTML object>"
      ],
      "text/html": [
       "Find logs at: <code>./wandb/run-20240805_112650-yoe8k35r/logs</code>"
      ]
     },
     "metadata": {},
     "output_type": "display_data"
    },
    {
     "data": {
      "text/plain": [
       "<IPython.core.display.HTML object>"
      ],
      "text/html": [
       "wandb version 0.17.5 is available!  To upgrade, please run:\n",
       " $ pip install wandb --upgrade"
      ]
     },
     "metadata": {},
     "output_type": "display_data"
    },
    {
     "data": {
      "text/plain": [
       "<IPython.core.display.HTML object>"
      ],
      "text/html": [
       "Tracking run with wandb version 0.16.4"
      ]
     },
     "metadata": {},
     "output_type": "display_data"
    },
    {
     "data": {
      "text/plain": [
       "<IPython.core.display.HTML object>"
      ],
      "text/html": [
       "Run data is saved locally in <code>/home/mbortkie/repos/crl/notebooks/wandb/run-20240805_112707-l17bk6qm</code>"
      ]
     },
     "metadata": {},
     "output_type": "display_data"
    },
    {
     "data": {
      "text/plain": [
       "<IPython.core.display.HTML object>"
      ],
      "text/html": [
       "Syncing run <strong><a href='https://wandb.ai/cl-probing/logsumexp_penalty/runs/l17bk6qm' target=\"_blank\">ant_l_symmetric_infonce_ef_l2_p_0.1</a></strong> to <a href='https://wandb.ai/cl-probing/logsumexp_penalty' target=\"_blank\">Weights & Biases</a> (<a href='https://wandb.me/run' target=\"_blank\">docs</a>)<br/>"
      ]
     },
     "metadata": {},
     "output_type": "display_data"
    },
    {
     "data": {
      "text/plain": [
       "<IPython.core.display.HTML object>"
      ],
      "text/html": [
       " View project at <a href='https://wandb.ai/cl-probing/logsumexp_penalty' target=\"_blank\">https://wandb.ai/cl-probing/logsumexp_penalty</a>"
      ]
     },
     "metadata": {},
     "output_type": "display_data"
    },
    {
     "data": {
      "text/plain": [
       "<IPython.core.display.HTML object>"
      ],
      "text/html": [
       " View run at <a href='https://wandb.ai/cl-probing/logsumexp_penalty/runs/l17bk6qm' target=\"_blank\">https://wandb.ai/cl-probing/logsumexp_penalty/runs/l17bk6qm</a>"
      ]
     },
     "metadata": {},
     "output_type": "display_data"
    },
    {
     "data": {
      "text/plain": [
       "<IPython.core.display.HTML object>"
      ],
      "text/html": [
       "<style>\n",
       "    table.wandb td:nth-child(1) { padding: 0 10px; text-align: left ; width: auto;} td:nth-child(2) {text-align: left ; width: 100%}\n",
       "    .wandb-row { display: flex; flex-direction: row; flex-wrap: wrap; justify-content: flex-start; width: 100% }\n",
       "    .wandb-col { display: flex; flex-direction: column; flex-basis: 100%; flex: 1; padding: 10px; }\n",
       "    </style>\n",
       "<div class=\"wandb-row\"><div class=\"wandb-col\"><h3>Run history:</h3><br/><table class=\"wandb\"><tr><td>eval/episode_dist</td><td>▁█▄▅▆▅▅▆▄▅▂▃▅▄▄▃▃▃▃▂▃▃▄▃▃▅▄▃▄▂▄▄▄▃▄▃▂▃▃▂</td></tr><tr><td>eval/episode_reward_survive</td><td>▁█▅▄▇▅▆█▇▆▄▆▇▆▆▇▆▅▅▅▅▅▇▆▅▇▇▆▆▅▇▆▇▅▆▅▄▅▅▅</td></tr><tr><td>eval/episode_success</td><td>▁▂▂▁▃▃▃▅▅▅▅▇▆▇▅██▇▄▄▄▅▅▆▅▆▇▅▅▆▆▆▅▄▅▅▄▅▆▆</td></tr><tr><td>eval/episode_success_any</td><td>▁▂▃▂▄▄▃▅▆▄▆▆▅▆▆█▇▆▅▆▆▆▆█▆▆▆▆▅█▇▆▅▄▅▅▄▅▇▇</td></tr><tr><td>eval/episode_success_easy</td><td>▁▂▄▂▅▄▄▆▆▄▅▇▆▆▅██▇▄▅▅▆▆▇▆▆▆▆▅▇▆▇▅▄▅▅▄▅▇▇</td></tr><tr><td>eval/episode_success_hard</td><td>▁▁▁▁▁▁▁▁▁▁▁▁▁▁▁▁▁▁▁▁▁▁▁▁▁▁▁▁▁▁▁▁▁▁▁▁▁▁▁▁</td></tr><tr><td>step</td><td>▁▁▁▂▂▂▂▂▃▃▃▃▃▃▄▄▄▄▄▄▅▅▅▅▅▅▆▆▆▆▆▆▇▇▇▇▇███</td></tr><tr><td>training/actor_loss</td><td>▁███▇▇▇▇▇▇▇▇▇▇▇▇▇▇▇▇▇▇▇▇▇▇▇▇▇▇▇▇▇▇▇▇▇▇▇▇</td></tr><tr><td>training/alpha</td><td>▁█▂▂▂▂▂▂▂▂▂▂▂▂▂▂▂▂▂▂▂▂▂▂▂▂▂▂▂▂▂▂▂▂▂▂▂▂▂▂</td></tr><tr><td>training/alpha_loss</td><td>▁█▁▁▁▁▁▁▁▁▁▁▁▁▁▁▁▁▁▁▁▁▁▁▁▁▁▁▁▁▁▁▁▁▁▁▁▁▁▁</td></tr><tr><td>training/binary_accuracy</td><td>▁███████████████████████████████████████</td></tr><tr><td>training/c_target</td><td>▁▁▁▁▁▁▁▁▁▁▁▁▁▁▁▁▁▁▁▁▁▁▁▁▁▁▁▁▁▁▁▁▁▁▁▁▁▁▁▁</td></tr><tr><td>training/categorical_accuracy</td><td>▁▄▆▇▇███████▇▇▇▇▇▇▇▇▇▇▇▇▇▇▇▇▇▇▇▇████████</td></tr><tr><td>training/crl_critic_loss</td><td>▁█▇▇▇▇▆▆▆▆▆▆▆▆▆▆▆▆▆▆▆▆▆▆▆▆▆▆▆▆▆▆▆▆▆▆▆▆▆▆</td></tr><tr><td>training/entropy</td><td>█▆▁▁▁▁▁▁▁▁▁▁▁▁▁▁▁▁▁▁▁▁▁▁▁▁▁▁▁▁▁▁▁▁▁▁▁▁▁▁</td></tr><tr><td>training/g_repr_mean</td><td>▁█▅▄▄▄▄▄▄▄▄▄▄▄▄▄▄▄▄▄▄▄▄▄▄▄▄▄▄▄▄▄▄▄▄▄▄▄▄▄</td></tr><tr><td>training/g_repr_std</td><td>▁█▆▅▅▄▄▄▅▅▅▅▅▅▅▅▅▅▅▅▅▅▅▅▅▅▅▅▅▅▅▅▅▅▅▅▅▅▅▅</td></tr><tr><td>training/l_align</td><td>▁██▇▇▇▇▇▇▇▇▇▇▇▇▇▇▇▇▇▇▇▇▇▇▇▇▇▇▇▇▇▇▇▇▇▇▇▇▇</td></tr><tr><td>training/l_unif</td><td>▇█▇▆▄▄▄▃▃▃▃▃▃▃▃▃▃▃▃▃▃▃▂▂▂▂▂▂▂▂▂▂▂▁▁▁▁▁▁▁</td></tr><tr><td>training/logits_neg</td><td>█▂▂▂▂▂▂▂▁▁▁▁▁▁▁▁▁▁▁▁▁▁▁▁▁▁▁▁▁▁▁▁▁▁▁▁▁▁▁▁</td></tr><tr><td>training/logits_pos</td><td>█▁▁▂▂▂▂▂▂▂▂▂▂▂▂▂▂▂▂▂▂▂▂▂▂▂▂▂▂▂▂▂▂▂▂▂▂▂▂▂</td></tr><tr><td>training/logsumexp</td><td>▁▅▄▄▅▅▅▆▆▆▆▆▆▆▆▆▆▆▆▆▆▆▆▆▆▆▆▆▇▇▇▇▇▇▇█████</td></tr><tr><td>training/sa_repr_mean</td><td>▁█▅▄▄▄▄▄▄▄▄▄▄▄▄▄▄▄▄▄▄▄▄▄▄▄▄▄▄▄▄▄▄▄▄▄▄▄▄▄</td></tr><tr><td>training/sa_repr_std</td><td>▁█▆▆▆▅▅▅▅▅▅▅▆▆▆▆▆▆▆▆▆▆▆▆▆▆▆▆▆▆▆▆▆▆▆▆▆▆▆▆</td></tr><tr><td>training/sps</td><td>▁▅██████████████████████████████████████</td></tr></table><br/></div><div class=\"wandb-col\"><h3>Run summary:</h3><br/><table class=\"wandb\"><tr><td>eval/episode_dist</td><td>5667.38965</td></tr><tr><td>eval/episode_reward_survive</td><td>608.60938</td></tr><tr><td>eval/episode_success</td><td>69.04688</td></tr><tr><td>eval/episode_success_any</td><td>0.28125</td></tr><tr><td>eval/episode_success_easy</td><td>170.15625</td></tr><tr><td>eval/episode_success_hard</td><td>0</td></tr><tr><td>step</td><td>50853888.0</td></tr><tr><td>training/actor_loss</td><td>3.13901</td></tr><tr><td>training/alpha</td><td>0.01064</td></tr><tr><td>training/alpha_loss</td><td>-0.0</td></tr><tr><td>training/binary_accuracy</td><td>0.99609</td></tr><tr><td>training/c_target</td><td>0</td></tr><tr><td>training/categorical_accuracy</td><td>0.24188</td></tr><tr><td>training/crl_critic_loss</td><td>6.16211</td></tr><tr><td>training/entropy</td><td>-3.99993</td></tr><tr><td>training/g_repr_mean</td><td>7.63639</td></tr><tr><td>training/g_repr_std</td><td>2.22901</td></tr><tr><td>training/l_align</td><td>6.99365</td></tr><tr><td>training/l_unif</td><td>-0.86406</td></tr><tr><td>training/logits_neg</td><td>-9.57013</td></tr><tr><td>training/logits_pos</td><td>-3.49683</td></tr><tr><td>training/logsumexp</td><td>0.32514</td></tr><tr><td>training/sa_repr_mean</td><td>7.60344</td></tr><tr><td>training/sa_repr_std</td><td>2.37516</td></tr><tr><td>training/sps</td><td>32643.81042</td></tr></table><br/></div></div>"
      ]
     },
     "metadata": {},
     "output_type": "display_data"
    },
    {
     "data": {
      "text/plain": [
       "<IPython.core.display.HTML object>"
      ],
      "text/html": [
       " View run <strong style=\"color:#cdcd00\">ant_l_symmetric_infonce_ef_l2_p_0.1</strong> at: <a href='https://wandb.ai/cl-probing/logsumexp_penalty/runs/l17bk6qm' target=\"_blank\">https://wandb.ai/cl-probing/logsumexp_penalty/runs/l17bk6qm</a><br/> View job at <a href='https://wandb.ai/cl-probing/logsumexp_penalty/jobs/QXJ0aWZhY3RDb2xsZWN0aW9uOjM3NzgwMzA4NA==/version_details/v7' target=\"_blank\">https://wandb.ai/cl-probing/logsumexp_penalty/jobs/QXJ0aWZhY3RDb2xsZWN0aW9uOjM3NzgwMzA4NA==/version_details/v7</a><br/>Synced 6 W&B file(s), 1 media file(s), 0 artifact file(s) and 4 other file(s)"
      ]
     },
     "metadata": {},
     "output_type": "display_data"
    },
    {
     "data": {
      "text/plain": [
       "<IPython.core.display.HTML object>"
      ],
      "text/html": [
       "Find logs at: <code>./wandb/run-20240805_112707-l17bk6qm/logs</code>"
      ]
     },
     "metadata": {},
     "output_type": "display_data"
    },
    {
     "data": {
      "text/plain": [
       "<IPython.core.display.HTML object>"
      ],
      "text/html": [
       "wandb version 0.17.5 is available!  To upgrade, please run:\n",
       " $ pip install wandb --upgrade"
      ]
     },
     "metadata": {},
     "output_type": "display_data"
    },
    {
     "data": {
      "text/plain": [
       "<IPython.core.display.HTML object>"
      ],
      "text/html": [
       "Tracking run with wandb version 0.16.4"
      ]
     },
     "metadata": {},
     "output_type": "display_data"
    },
    {
     "data": {
      "text/plain": [
       "<IPython.core.display.HTML object>"
      ],
      "text/html": [
       "Run data is saved locally in <code>/home/mbortkie/repos/crl/notebooks/wandb/run-20240805_112720-5emjk2zx</code>"
      ]
     },
     "metadata": {},
     "output_type": "display_data"
    },
    {
     "data": {
      "text/plain": [
       "<IPython.core.display.HTML object>"
      ],
      "text/html": [
       "Syncing run <strong><a href='https://wandb.ai/cl-probing/logsumexp_penalty/runs/5emjk2zx' target=\"_blank\">ant_l_symmetric_infonce_ef_l2_p_0.1</a></strong> to <a href='https://wandb.ai/cl-probing/logsumexp_penalty' target=\"_blank\">Weights & Biases</a> (<a href='https://wandb.me/run' target=\"_blank\">docs</a>)<br/>"
      ]
     },
     "metadata": {},
     "output_type": "display_data"
    },
    {
     "data": {
      "text/plain": [
       "<IPython.core.display.HTML object>"
      ],
      "text/html": [
       " View project at <a href='https://wandb.ai/cl-probing/logsumexp_penalty' target=\"_blank\">https://wandb.ai/cl-probing/logsumexp_penalty</a>"
      ]
     },
     "metadata": {},
     "output_type": "display_data"
    },
    {
     "data": {
      "text/plain": [
       "<IPython.core.display.HTML object>"
      ],
      "text/html": [
       " View run at <a href='https://wandb.ai/cl-probing/logsumexp_penalty/runs/5emjk2zx' target=\"_blank\">https://wandb.ai/cl-probing/logsumexp_penalty/runs/5emjk2zx</a>"
      ]
     },
     "metadata": {},
     "output_type": "display_data"
    },
    {
     "data": {
      "text/plain": [
       "<IPython.core.display.HTML object>"
      ],
      "text/html": [
       "<style>\n",
       "    table.wandb td:nth-child(1) { padding: 0 10px; text-align: left ; width: auto;} td:nth-child(2) {text-align: left ; width: 100%}\n",
       "    .wandb-row { display: flex; flex-direction: row; flex-wrap: wrap; justify-content: flex-start; width: 100% }\n",
       "    .wandb-col { display: flex; flex-direction: column; flex-basis: 100%; flex: 1; padding: 10px; }\n",
       "    </style>\n",
       "<div class=\"wandb-row\"><div class=\"wandb-col\"><h3>Run history:</h3><br/><table class=\"wandb\"><tr><td>eval/episode_dist</td><td>▁█▄▆▆▄▄▆▆▅▆▃▂▃▄▄▃▄▄▃▃▄▄▃▂▃▃▃▄▂▃▅▅▄▄▅▄▅▄▃</td></tr><tr><td>eval/episode_reward_survive</td><td>▁█▄▆▇▇▇█▇▇▇▅▃▄▇▆▆▆▆▇▆▇▆▆▅▆▆▆▅▆▅▇▇▆▇▇▆▇▇▆</td></tr><tr><td>eval/episode_success</td><td>▁▁▁▂▁▃▃▂▂▂▃▃▃▅▄▃▅▄▄▅▅▆▄▅▄▅▄▄▂█▄▄▃▄▅▄▅▅▄▄</td></tr><tr><td>eval/episode_success_any</td><td>▁▂▂▃▂▄▆▄▃▄▃▅▃▄▅▄▅▆▅▅▆▆▄▅▅▆▅▅▄█▅▅▄▅▆▅▅▄▅▆</td></tr><tr><td>eval/episode_success_easy</td><td>▁▂▂▃▂▄▅▃▃▃▃▄▃▄▄▄▅▄▄▅▆▆▄▅▅▆▅▅▃█▄▅▄▄▅▅▄▄▅▅</td></tr><tr><td>eval/episode_success_hard</td><td>▁▁▁▁▁▁▁▁▁▁▁▁▁▁▁▁▁▁▁▁▁▁▁▁▁▁▁▁▁▁▁▁▁▁▁▁▁▁▁▁</td></tr><tr><td>step</td><td>▁▁▁▂▂▂▂▂▃▃▃▃▃▃▄▄▄▄▄▄▅▅▅▅▅▅▆▆▆▆▆▆▇▇▇▇▇███</td></tr><tr><td>training/actor_loss</td><td>▁▇█████▇▇▇▇▇▇▇▇▇▇▇▇▇▇▇▇▇▇▇▇▇▇▇▇▇▇▇▇▇▇▇▇▇</td></tr><tr><td>training/alpha</td><td>▁█▂▂▂▂▂▂▂▂▂▂▂▂▂▂▂▂▂▂▂▂▂▂▂▂▂▂▂▂▂▂▂▂▂▂▂▂▂▂</td></tr><tr><td>training/alpha_loss</td><td>▁█▁▁▁▁▁▁▁▁▁▁▁▁▁▁▁▁▁▁▁▁▁▁▁▁▁▁▁▁▁▁▁▁▁▁▁▁▁▁</td></tr><tr><td>training/binary_accuracy</td><td>▁███████████████████████████████████████</td></tr><tr><td>training/c_target</td><td>▁▁▁▁▁▁▁▁▁▁▁▁▁▁▁▁▁▁▁▁▁▁▁▁▁▁▁▁▁▁▁▁▁▁▁▁▁▁▁▁</td></tr><tr><td>training/categorical_accuracy</td><td>▁▆▆▆▇▇▇█████████▇▇▇▇▇▇▇▇▇▇▇▇▇▇▇▇▇▇▇█████</td></tr><tr><td>training/crl_critic_loss</td><td>▁█████▇▇▇▇▇▇▇▇▇▇▇▇▇▇▇▇▇▇▇▇▇▇▇▇▇▇▇▇▇▇▇▇▇▇</td></tr><tr><td>training/entropy</td><td>█▅▁▁▁▁▁▁▁▁▁▁▁▁▁▁▁▁▁▁▁▁▁▁▁▁▁▁▁▁▁▁▁▁▁▁▁▁▁▁</td></tr><tr><td>training/g_repr_mean</td><td>▁█▆▅▄▄▄▄▄▄▄▄▄▄▄▄▄▄▄▄▄▄▄▄▄▄▄▄▄▄▄▄▄▄▄▄▄▄▄▄</td></tr><tr><td>training/g_repr_std</td><td>▁█▆▅▄▄▄▄▃▃▃▃▃▃▃▃▃▃▃▃▃▃▃▃▃▃▃▄▄▄▄▄▄▄▃▄▄▄▄▃</td></tr><tr><td>training/l_align</td><td>▁███████████████████████████████████████</td></tr><tr><td>training/l_unif</td><td>▇█▆▅▄▄▃▃▂▂▂▂▁▁▂▂▂▂▂▂▂▂▂▁▂▂▂▂▁▁▁▁▁▁▁▁▁▁▁▁</td></tr><tr><td>training/logits_neg</td><td>█▁▂▂▂▂▂▁▁▁▁▁▁▁▁▁▂▂▁▁▁▁▁▁▁▁▁▁▁▁▁▁▁▁▁▁▁▁▁▁</td></tr><tr><td>training/logits_pos</td><td>█▁▁▁▁▁▁▁▁▁▁▁▁▁▁▁▁▁▁▁▁▁▁▁▁▁▁▁▁▁▁▁▁▁▁▁▁▁▁▁</td></tr><tr><td>training/logsumexp</td><td>▁▅▄▅▅▆▆▆▇▇▇█████▇▇▇▇▇▇▇█████████████████</td></tr><tr><td>training/sa_repr_mean</td><td>▁█▆▅▄▄▄▄▄▄▄▄▄▄▄▄▄▄▄▄▄▄▄▄▄▄▄▄▄▄▄▄▄▄▄▄▄▄▄▄</td></tr><tr><td>training/sa_repr_std</td><td>▁█▆▅▄▄▄▄▄▄▄▄▄▄▄▄▃▃▃▃▃▄▄▄▄▄▄▄▄▄▄▄▄▄▄▄▄▄▄▄</td></tr><tr><td>training/sps</td><td>▁▅██████████████████████████████████████</td></tr></table><br/></div><div class=\"wandb-col\"><h3>Run summary:</h3><br/><table class=\"wandb\"><tr><td>eval/episode_dist</td><td>9733.35449</td></tr><tr><td>eval/episode_reward_survive</td><td>804.9375</td></tr><tr><td>eval/episode_success</td><td>51.8125</td></tr><tr><td>eval/episode_success_any</td><td>0.25781</td></tr><tr><td>eval/episode_success_easy</td><td>150.77344</td></tr><tr><td>eval/episode_success_hard</td><td>0</td></tr><tr><td>step</td><td>50853888.0</td></tr><tr><td>training/actor_loss</td><td>2.93355</td></tr><tr><td>training/alpha</td><td>0.01252</td></tr><tr><td>training/alpha_loss</td><td>-1e-05</td></tr><tr><td>training/binary_accuracy</td><td>0.99609</td></tr><tr><td>training/c_target</td><td>0</td></tr><tr><td>training/categorical_accuracy</td><td>0.25051</td></tr><tr><td>training/crl_critic_loss</td><td>5.87207</td></tr><tr><td>training/entropy</td><td>-4.0006</td></tr><tr><td>training/g_repr_mean</td><td>8.1761</td></tr><tr><td>training/g_repr_std</td><td>2.19731</td></tr><tr><td>training/l_align</td><td>6.67454</td></tr><tr><td>training/l_unif</td><td>-0.83476</td></tr><tr><td>training/logits_neg</td><td>-10.02556</td></tr><tr><td>training/logits_pos</td><td>-3.33727</td></tr><tr><td>training/logsumexp</td><td>0.3229</td></tr><tr><td>training/sa_repr_mean</td><td>8.13217</td></tr><tr><td>training/sa_repr_std</td><td>2.25109</td></tr><tr><td>training/sps</td><td>32706.0021</td></tr></table><br/></div></div>"
      ]
     },
     "metadata": {},
     "output_type": "display_data"
    },
    {
     "data": {
      "text/plain": [
       "<IPython.core.display.HTML object>"
      ],
      "text/html": [
       " View run <strong style=\"color:#cdcd00\">ant_l_symmetric_infonce_ef_l2_p_0.1</strong> at: <a href='https://wandb.ai/cl-probing/logsumexp_penalty/runs/5emjk2zx' target=\"_blank\">https://wandb.ai/cl-probing/logsumexp_penalty/runs/5emjk2zx</a><br/> View job at <a href='https://wandb.ai/cl-probing/logsumexp_penalty/jobs/QXJ0aWZhY3RDb2xsZWN0aW9uOjM3NzgwMzA4NA==/version_details/v7' target=\"_blank\">https://wandb.ai/cl-probing/logsumexp_penalty/jobs/QXJ0aWZhY3RDb2xsZWN0aW9uOjM3NzgwMzA4NA==/version_details/v7</a><br/>Synced 6 W&B file(s), 1 media file(s), 0 artifact file(s) and 4 other file(s)"
      ]
     },
     "metadata": {},
     "output_type": "display_data"
    },
    {
     "data": {
      "text/plain": [
       "<IPython.core.display.HTML object>"
      ],
      "text/html": [
       "Find logs at: <code>./wandb/run-20240805_112720-5emjk2zx/logs</code>"
      ]
     },
     "metadata": {},
     "output_type": "display_data"
    },
    {
     "data": {
      "text/plain": [
       "<IPython.core.display.HTML object>"
      ],
      "text/html": [
       "wandb version 0.17.5 is available!  To upgrade, please run:\n",
       " $ pip install wandb --upgrade"
      ]
     },
     "metadata": {},
     "output_type": "display_data"
    },
    {
     "data": {
      "text/plain": [
       "<IPython.core.display.HTML object>"
      ],
      "text/html": [
       "Tracking run with wandb version 0.16.4"
      ]
     },
     "metadata": {},
     "output_type": "display_data"
    },
    {
     "data": {
      "text/plain": [
       "<IPython.core.display.HTML object>"
      ],
      "text/html": [
       "Run data is saved locally in <code>/home/mbortkie/repos/crl/notebooks/wandb/run-20240805_112739-j9037rbd</code>"
      ]
     },
     "metadata": {},
     "output_type": "display_data"
    },
    {
     "data": {
      "text/plain": [
       "<IPython.core.display.HTML object>"
      ],
      "text/html": [
       "Syncing run <strong><a href='https://wandb.ai/cl-probing/logsumexp_penalty/runs/j9037rbd' target=\"_blank\">ant_l_symmetric_infonce_ef_l2_p_0.1</a></strong> to <a href='https://wandb.ai/cl-probing/logsumexp_penalty' target=\"_blank\">Weights & Biases</a> (<a href='https://wandb.me/run' target=\"_blank\">docs</a>)<br/>"
      ]
     },
     "metadata": {},
     "output_type": "display_data"
    },
    {
     "data": {
      "text/plain": [
       "<IPython.core.display.HTML object>"
      ],
      "text/html": [
       " View project at <a href='https://wandb.ai/cl-probing/logsumexp_penalty' target=\"_blank\">https://wandb.ai/cl-probing/logsumexp_penalty</a>"
      ]
     },
     "metadata": {},
     "output_type": "display_data"
    },
    {
     "data": {
      "text/plain": [
       "<IPython.core.display.HTML object>"
      ],
      "text/html": [
       " View run at <a href='https://wandb.ai/cl-probing/logsumexp_penalty/runs/j9037rbd' target=\"_blank\">https://wandb.ai/cl-probing/logsumexp_penalty/runs/j9037rbd</a>"
      ]
     },
     "metadata": {},
     "output_type": "display_data"
    },
    {
     "data": {
      "text/plain": [
       "<IPython.core.display.HTML object>"
      ],
      "text/html": [
       "W&B sync reduced upload amount by 3.5%             "
      ]
     },
     "metadata": {},
     "output_type": "display_data"
    },
    {
     "data": {
      "text/plain": [
       "<IPython.core.display.HTML object>"
      ],
      "text/html": [
       "<style>\n",
       "    table.wandb td:nth-child(1) { padding: 0 10px; text-align: left ; width: auto;} td:nth-child(2) {text-align: left ; width: 100%}\n",
       "    .wandb-row { display: flex; flex-direction: row; flex-wrap: wrap; justify-content: flex-start; width: 100% }\n",
       "    .wandb-col { display: flex; flex-direction: column; flex-basis: 100%; flex: 1; padding: 10px; }\n",
       "    </style>\n",
       "<div class=\"wandb-row\"><div class=\"wandb-col\"><h3>Run history:</h3><br/><table class=\"wandb\"><tr><td>eval/episode_dist</td><td>▁█▇█▆▆▅▆▆▅▅▆▅▅▄▂▄▅▅▄▄▅▅▅▆▅▄▃▄▄▃▄▄▅▅▄▃▄▄▃</td></tr><tr><td>eval/episode_reward_survive</td><td>▁▇▇█▇▇▆▆▇▆▇█▇▇▆▅▇▅▇▆▅▇▆▇▇▇▅▆▆▅▅▆▆▇▇▅▅▆▅▅</td></tr><tr><td>eval/episode_success</td><td>▁▁▁▃▂▂▃▃▅▆▄▅▅▇▆▅█▄▅▆▇▇▆█▅█▄▇▄▅▆▄▇▅▇▆▅▃▅▃</td></tr><tr><td>eval/episode_success_any</td><td>▁▂▂▄▄▃▄▄▆▆▅▆▇▇▇▇█▅▆▆▆▇▅█▅▇▅▆▅▄▆▅▅▆▆▆▅▅▅▄</td></tr><tr><td>eval/episode_success_easy</td><td>▁▂▃▄▄▃▄▄▆▇▅▆▆▇▆▇█▄▆▆▆▇▆█▅█▄▇▅▄▆▅▆▅▆▅▅▃▅▄</td></tr><tr><td>eval/episode_success_hard</td><td>▁▁▁▁▁▁▁▁▁▁▁▁▁▁▁▁▁▁▁▁▁▁▁▁▁▁▁▁▁▁▁▁▁▁▁▁▁▁▁▁</td></tr><tr><td>step</td><td>▁▁▁▂▂▂▂▂▃▃▃▃▃▃▄▄▄▄▄▄▅▅▅▅▅▅▆▆▆▆▆▆▇▇▇▇▇███</td></tr><tr><td>training/actor_loss</td><td>▁▇███▇▇▇▇▇▇▇▇▇▇▇▇▇▇▇▇▇▇▇▇▇▇▇▇▇▇▇▇▇▇▇▇▇▇▇</td></tr><tr><td>training/alpha</td><td>▁█▂▂▂▂▂▂▂▂▂▂▂▂▂▂▂▂▂▂▂▂▂▂▂▂▂▂▂▂▂▂▂▂▂▂▂▂▂▂</td></tr><tr><td>training/alpha_loss</td><td>▁█▁▁▁▁▁▁▁▁▁▁▁▁▁▁▁▁▁▁▁▁▁▁▁▁▁▁▁▁▁▁▁▁▁▁▁▁▁▁</td></tr><tr><td>training/binary_accuracy</td><td>▁███████████████████████████████████████</td></tr><tr><td>training/c_target</td><td>▁▁▁▁▁▁▁▁▁▁▁▁▁▁▁▁▁▁▁▁▁▁▁▁▁▁▁▁▁▁▁▁▁▁▁▁▁▁▁▁</td></tr><tr><td>training/categorical_accuracy</td><td>▁▅▆▆▇██████████▇▇▇▇▇▇▇▇▇████████████████</td></tr><tr><td>training/crl_critic_loss</td><td>▁███▇▇▇▇▇▇▇▇▇▇▇▇▇▇▇▇▇▇▇▇▇▇▇▇▇▇▇▇▇▇▇▆▆▆▆▇</td></tr><tr><td>training/entropy</td><td>█▅▁▁▁▁▁▁▁▁▁▁▁▁▁▁▁▁▁▁▁▁▁▁▁▁▁▁▁▁▁▁▁▁▁▁▁▁▁▁</td></tr><tr><td>training/g_repr_mean</td><td>▁█▆▄▄▄▄▄▄▄▄▄▄▄▄▄▄▄▄▄▄▄▄▄▄▄▄▄▄▄▄▄▄▄▄▄▄▄▄▄</td></tr><tr><td>training/g_repr_std</td><td>▁█▆▅▅▅▅▅▅▅▅▅▅▅▅▅▅▅▅▄▄▄▄▄▄▄▄▄▄▄▄▄▄▄▄▄▄▄▄▄</td></tr><tr><td>training/l_align</td><td>▁█████▇▇▇▇▇▇▇▇▇▇▇▇▇▇▇▇▇▇▇▇▇▇▇▇▇▇▇▇▇▇▇▇▇▇</td></tr><tr><td>training/l_unif</td><td>▇█▆▆▄▄▄▃▃▃▃▃▃▃▃▃▂▂▂▂▂▂▂▂▂▂▂▂▂▂▂▂▁▁▁▁▁▁▁▁</td></tr><tr><td>training/logits_neg</td><td>█▂▂▂▂▂▂▁▁▁▁▁▁▁▁▁▁▁▁▁▁▁▁▁▁▁▁▁▁▁▁▁▁▁▁▁▁▁▁▁</td></tr><tr><td>training/logits_pos</td><td>█▁▁▁▁▁▂▂▂▂▂▂▂▂▂▂▂▂▂▂▂▂▂▂▂▂▂▂▂▂▂▂▂▂▂▂▂▂▂▂</td></tr><tr><td>training/logsumexp</td><td>▁▅▄▄▅▅▆▆▆▆▆▆▆▆▆▆▆▆▆▆▇▇▇▇▇▇▇▇▇▇▇▇▇███████</td></tr><tr><td>training/sa_repr_mean</td><td>▁█▆▄▄▄▄▄▄▄▄▄▄▄▄▄▄▄▄▄▄▄▄▄▄▄▄▄▄▄▄▄▄▄▄▄▄▄▄▄</td></tr><tr><td>training/sa_repr_std</td><td>▁█▆▅▆▆▆▅▅▅▅▅▅▅▅▅▅▅▅▅▅▅▅▅▄▄▄▄▄▄▅▅▅▅▅▅▅▅▅▄</td></tr><tr><td>training/sps</td><td>▁▅██████████████████████████████████████</td></tr></table><br/></div><div class=\"wandb-col\"><h3>Run summary:</h3><br/><table class=\"wandb\"><tr><td>eval/episode_dist</td><td>7669.60791</td></tr><tr><td>eval/episode_reward_survive</td><td>621.07031</td></tr><tr><td>eval/episode_success</td><td>17.90625</td></tr><tr><td>eval/episode_success_any</td><td>0.125</td></tr><tr><td>eval/episode_success_easy</td><td>70.11719</td></tr><tr><td>eval/episode_success_hard</td><td>0</td></tr><tr><td>step</td><td>50853888.0</td></tr><tr><td>training/actor_loss</td><td>2.98869</td></tr><tr><td>training/alpha</td><td>0.011</td></tr><tr><td>training/alpha_loss</td><td>0.0</td></tr><tr><td>training/binary_accuracy</td><td>0.99609</td></tr><tr><td>training/c_target</td><td>0</td></tr><tr><td>training/categorical_accuracy</td><td>0.24167</td></tr><tr><td>training/crl_critic_loss</td><td>5.9762</td></tr><tr><td>training/entropy</td><td>-4.00067</td></tr><tr><td>training/g_repr_mean</td><td>7.9659</td></tr><tr><td>training/g_repr_std</td><td>2.23563</td></tr><tr><td>training/l_align</td><td>6.78557</td></tr><tr><td>training/l_unif</td><td>-0.84236</td></tr><tr><td>training/logits_neg</td><td>-9.91724</td></tr><tr><td>training/logits_pos</td><td>-3.39278</td></tr><tr><td>training/logsumexp</td><td>0.32993</td></tr><tr><td>training/sa_repr_mean</td><td>8.01536</td></tr><tr><td>training/sa_repr_std</td><td>2.42978</td></tr><tr><td>training/sps</td><td>32659.56566</td></tr></table><br/></div></div>"
      ]
     },
     "metadata": {},
     "output_type": "display_data"
    },
    {
     "data": {
      "text/plain": [
       "<IPython.core.display.HTML object>"
      ],
      "text/html": [
       " View run <strong style=\"color:#cdcd00\">ant_l_symmetric_infonce_ef_l2_p_0.1</strong> at: <a href='https://wandb.ai/cl-probing/logsumexp_penalty/runs/j9037rbd' target=\"_blank\">https://wandb.ai/cl-probing/logsumexp_penalty/runs/j9037rbd</a><br/> View job at <a href='https://wandb.ai/cl-probing/logsumexp_penalty/jobs/QXJ0aWZhY3RDb2xsZWN0aW9uOjM3NzgwMzA4NA==/version_details/v7' target=\"_blank\">https://wandb.ai/cl-probing/logsumexp_penalty/jobs/QXJ0aWZhY3RDb2xsZWN0aW9uOjM3NzgwMzA4NA==/version_details/v7</a><br/>Synced 6 W&B file(s), 1 media file(s), 3 artifact file(s) and 4 other file(s)"
      ]
     },
     "metadata": {},
     "output_type": "display_data"
    },
    {
     "data": {
      "text/plain": [
       "<IPython.core.display.HTML object>"
      ],
      "text/html": [
       "Find logs at: <code>./wandb/run-20240805_112739-j9037rbd/logs</code>"
      ]
     },
     "metadata": {},
     "output_type": "display_data"
    },
    {
     "data": {
      "text/plain": [
       "<IPython.core.display.HTML object>"
      ],
      "text/html": [
       "wandb version 0.17.5 is available!  To upgrade, please run:\n",
       " $ pip install wandb --upgrade"
      ]
     },
     "metadata": {},
     "output_type": "display_data"
    },
    {
     "data": {
      "text/plain": [
       "<IPython.core.display.HTML object>"
      ],
      "text/html": [
       "Tracking run with wandb version 0.16.4"
      ]
     },
     "metadata": {},
     "output_type": "display_data"
    },
    {
     "data": {
      "text/plain": [
       "<IPython.core.display.HTML object>"
      ],
      "text/html": [
       "Run data is saved locally in <code>/home/mbortkie/repos/crl/notebooks/wandb/run-20240805_112756-iwv4amvv</code>"
      ]
     },
     "metadata": {},
     "output_type": "display_data"
    },
    {
     "data": {
      "text/plain": [
       "<IPython.core.display.HTML object>"
      ],
      "text/html": [
       "Syncing run <strong><a href='https://wandb.ai/cl-probing/logsumexp_penalty/runs/iwv4amvv' target=\"_blank\">ant_l_symmetric_infonce_ef_l2_p_0.1</a></strong> to <a href='https://wandb.ai/cl-probing/logsumexp_penalty' target=\"_blank\">Weights & Biases</a> (<a href='https://wandb.me/run' target=\"_blank\">docs</a>)<br/>"
      ]
     },
     "metadata": {},
     "output_type": "display_data"
    },
    {
     "data": {
      "text/plain": [
       "<IPython.core.display.HTML object>"
      ],
      "text/html": [
       " View project at <a href='https://wandb.ai/cl-probing/logsumexp_penalty' target=\"_blank\">https://wandb.ai/cl-probing/logsumexp_penalty</a>"
      ]
     },
     "metadata": {},
     "output_type": "display_data"
    },
    {
     "data": {
      "text/plain": [
       "<IPython.core.display.HTML object>"
      ],
      "text/html": [
       " View run at <a href='https://wandb.ai/cl-probing/logsumexp_penalty/runs/iwv4amvv' target=\"_blank\">https://wandb.ai/cl-probing/logsumexp_penalty/runs/iwv4amvv</a>"
      ]
     },
     "metadata": {},
     "output_type": "display_data"
    },
    {
     "data": {
      "text/plain": [
       "<IPython.core.display.HTML object>"
      ],
      "text/html": [
       "W&B sync reduced upload amount by 3.5%             "
      ]
     },
     "metadata": {},
     "output_type": "display_data"
    },
    {
     "data": {
      "text/plain": [
       "<IPython.core.display.HTML object>"
      ],
      "text/html": [
       "<style>\n",
       "    table.wandb td:nth-child(1) { padding: 0 10px; text-align: left ; width: auto;} td:nth-child(2) {text-align: left ; width: 100%}\n",
       "    .wandb-row { display: flex; flex-direction: row; flex-wrap: wrap; justify-content: flex-start; width: 100% }\n",
       "    .wandb-col { display: flex; flex-direction: column; flex-basis: 100%; flex: 1; padding: 10px; }\n",
       "    </style>\n",
       "<div class=\"wandb-row\"><div class=\"wandb-col\"><h3>Run history:</h3><br/><table class=\"wandb\"><tr><td>eval/episode_dist</td><td>▄█▅▇▆▅▆▄▆▃▄▄▂▃▄▃▂▄▃▃▃▄▃▃▃▃▂▁▃▂▂▃▃▃▃▄▃▂▂▂</td></tr><tr><td>eval/episode_reward_survive</td><td>▁█▄▇▅▆█▆▇▄▅▅▃▅▆▅▆█▆▅▅▇▅▆▅▅▄▄▅▄▄▅▅▅▆▇▆▄▆▃</td></tr><tr><td>eval/episode_success</td><td>▁▁▁▁▃▃▄▃▅▄▆▅▅▅▆▅▆▇▆▄▆▄▆▆▆▅▄█▅▅▆▆▅▅▇▆▇▇▇▅</td></tr><tr><td>eval/episode_success_any</td><td>▁▁▂▂▄▄▅▅▅▄▆▅▅▅▆▅▇▇▅▅▆▄▆▇▆▆▅▇▅▅▅▆▅▅▇▆▇██▆</td></tr><tr><td>eval/episode_success_easy</td><td>▁▁▂▂▄▃▄▄▅▄▆▄▄▅▅▅▆▇▅▅▆▄▆▆▆▅▅█▅▄▆▅▅▅▆▅▆▇▇▆</td></tr><tr><td>eval/episode_success_hard</td><td>▁▁▁▁▁▁▁▁▁▁▁▁▁▁▁▁▁▁▁▁▁▁▁▁▁▁▁▁▁▁▁▁▁▁▁▁▁▁▁▁</td></tr><tr><td>step</td><td>▁▁▁▂▂▂▂▂▃▃▃▃▃▃▄▄▄▄▄▄▅▅▅▅▅▅▆▆▆▆▆▆▇▇▇▇▇███</td></tr><tr><td>training/actor_loss</td><td>▁███▇▇▇▇▇▇▇▇▇▇▇▇▇▇▇▇▇▇▇▇▇▇▇▇▇▇▇▇▇▇▇▇▇▇▇▇</td></tr><tr><td>training/alpha</td><td>▁█▂▂▂▂▂▂▂▂▂▂▂▂▂▂▂▂▂▂▂▂▂▂▂▂▂▂▂▂▂▂▂▂▂▂▂▂▂▂</td></tr><tr><td>training/alpha_loss</td><td>▁█▁▁▁▁▁▁▁▁▁▁▁▁▁▁▁▁▁▁▁▁▁▁▁▁▁▁▁▁▁▁▁▁▁▁▁▁▁▁</td></tr><tr><td>training/binary_accuracy</td><td>▁███████████████████████████████████████</td></tr><tr><td>training/c_target</td><td>▁▁▁▁▁▁▁▁▁▁▁▁▁▁▁▁▁▁▁▁▁▁▁▁▁▁▁▁▁▁▁▁▁▁▁▁▁▁▁▁</td></tr><tr><td>training/categorical_accuracy</td><td>▁▄▆▆▇▇▇▇████▇▇▇▇▇▇▇▇████████████████████</td></tr><tr><td>training/crl_critic_loss</td><td>▁██▇▇▇▇▇▇▇▆▆▇▇▇▇▇▇▆▆▆▆▆▆▆▆▆▆▆▆▆▆▆▆▆▆▆▆▆▆</td></tr><tr><td>training/entropy</td><td>█▆▁▁▁▁▁▁▁▁▁▁▁▁▁▁▁▁▁▁▁▁▁▁▁▁▁▁▁▁▁▁▁▁▁▁▁▁▁▁</td></tr><tr><td>training/g_repr_mean</td><td>▁█▅▄▄▄▄▄▅▅▅▅▅▄▄▄▄▄▄▄▄▄▄▄▄▄▄▄▄▄▄▄▄▄▄▄▄▄▄▄</td></tr><tr><td>training/g_repr_std</td><td>▁█▆▄▄▄▄▄▄▄▄▄▄▄▄▄▅▅▅▅▅▅▅▅▅▅▅▅▅▅▅▅▅▅▅▅▅▅▅▅</td></tr><tr><td>training/l_align</td><td>▁███▇▇▇▇▇▇▇▇▇▇▇▇▇▇▇▇▇▇▇▇▇▇▇▇▇▇▇▇▇▇▇▇▇▇▇▇</td></tr><tr><td>training/l_unif</td><td>▇█▇▆▅▄▄▄▃▃▃▃▃▃▃▃▃▂▂▂▂▁▁▁▁▁▁▁▁▁▁▁▁▁▁▁▁▁▁▁</td></tr><tr><td>training/logits_neg</td><td>█▂▃▂▂▂▂▂▂▂▂▂▂▂▂▂▂▂▁▁▁▁▁▁▁▁▁▁▁▁▁▁▁▁▁▁▁▁▁▁</td></tr><tr><td>training/logits_pos</td><td>█▁▁▁▂▂▂▂▂▂▂▂▂▂▂▂▂▂▂▂▂▂▂▂▂▂▂▂▂▂▂▂▂▂▂▂▂▂▂▂</td></tr><tr><td>training/logsumexp</td><td>▁▄▄▄▄▅▅▅▆▆▆▆▆▆▆▆▆▆▆▇▇▇██████████████████</td></tr><tr><td>training/sa_repr_mean</td><td>▁█▅▄▄▄▄▄▅▅▅▅▅▄▄▄▄▄▄▄▄▄▄▄▄▄▄▄▄▄▄▄▄▄▄▄▄▄▄▄</td></tr><tr><td>training/sa_repr_std</td><td>▁█▆▅▅▅▅▅▅▅▅▅▅▅▅▅▅▅▅▅▅▅▅▅▅▅▅▅▅▅▅▅▅▅▅▅▅▅▅▅</td></tr><tr><td>training/sps</td><td>▁▅██████████████████████████████████████</td></tr></table><br/></div><div class=\"wandb-col\"><h3>Run summary:</h3><br/><table class=\"wandb\"><tr><td>eval/episode_dist</td><td>7139.68262</td></tr><tr><td>eval/episode_reward_survive</td><td>633.49219</td></tr><tr><td>eval/episode_success</td><td>49.8125</td></tr><tr><td>eval/episode_success_any</td><td>0.24219</td></tr><tr><td>eval/episode_success_easy</td><td>142.59375</td></tr><tr><td>eval/episode_success_hard</td><td>0</td></tr><tr><td>step</td><td>50853888.0</td></tr><tr><td>training/actor_loss</td><td>3.05668</td></tr><tr><td>training/alpha</td><td>0.01083</td></tr><tr><td>training/alpha_loss</td><td>0.0</td></tr><tr><td>training/binary_accuracy</td><td>0.99609</td></tr><tr><td>training/c_target</td><td>0</td></tr><tr><td>training/categorical_accuracy</td><td>0.23176</td></tr><tr><td>training/crl_critic_loss</td><td>6.11185</td></tr><tr><td>training/entropy</td><td>-3.99988</td></tr><tr><td>training/g_repr_mean</td><td>8.13741</td></tr><tr><td>training/g_repr_std</td><td>2.23352</td></tr><tr><td>training/l_align</td><td>6.84547</td></tr><tr><td>training/l_unif</td><td>-0.7618</td></tr><tr><td>training/logits_neg</td><td>-9.83329</td></tr><tr><td>training/logits_pos</td><td>-3.42274</td></tr><tr><td>training/logsumexp</td><td>0.28176</td></tr><tr><td>training/sa_repr_mean</td><td>8.12311</td></tr><tr><td>training/sa_repr_std</td><td>2.30787</td></tr><tr><td>training/sps</td><td>32625.99135</td></tr></table><br/></div></div>"
      ]
     },
     "metadata": {},
     "output_type": "display_data"
    },
    {
     "data": {
      "text/plain": [
       "<IPython.core.display.HTML object>"
      ],
      "text/html": [
       " View run <strong style=\"color:#cdcd00\">ant_l_symmetric_infonce_ef_l2_p_0.1</strong> at: <a href='https://wandb.ai/cl-probing/logsumexp_penalty/runs/iwv4amvv' target=\"_blank\">https://wandb.ai/cl-probing/logsumexp_penalty/runs/iwv4amvv</a><br/> View job at <a href='https://wandb.ai/cl-probing/logsumexp_penalty/jobs/QXJ0aWZhY3RDb2xsZWN0aW9uOjM3NzgwMzA4NA==/version_details/v8' target=\"_blank\">https://wandb.ai/cl-probing/logsumexp_penalty/jobs/QXJ0aWZhY3RDb2xsZWN0aW9uOjM3NzgwMzA4NA==/version_details/v8</a><br/>Synced 6 W&B file(s), 1 media file(s), 3 artifact file(s) and 5 other file(s)"
      ]
     },
     "metadata": {},
     "output_type": "display_data"
    },
    {
     "data": {
      "text/plain": [
       "<IPython.core.display.HTML object>"
      ],
      "text/html": [
       "Find logs at: <code>./wandb/run-20240805_112756-iwv4amvv/logs</code>"
      ]
     },
     "metadata": {},
     "output_type": "display_data"
    },
    {
     "data": {
      "text/plain": [
       "<IPython.core.display.HTML object>"
      ],
      "text/html": [
       "wandb version 0.17.5 is available!  To upgrade, please run:\n",
       " $ pip install wandb --upgrade"
      ]
     },
     "metadata": {},
     "output_type": "display_data"
    },
    {
     "data": {
      "text/plain": [
       "<IPython.core.display.HTML object>"
      ],
      "text/html": [
       "Tracking run with wandb version 0.16.4"
      ]
     },
     "metadata": {},
     "output_type": "display_data"
    },
    {
     "data": {
      "text/plain": [
       "<IPython.core.display.HTML object>"
      ],
      "text/html": [
       "Run data is saved locally in <code>/home/mbortkie/repos/crl/notebooks/wandb/run-20240805_112816-fdxh3d7s</code>"
      ]
     },
     "metadata": {},
     "output_type": "display_data"
    },
    {
     "data": {
      "text/plain": [
       "<IPython.core.display.HTML object>"
      ],
      "text/html": [
       "Syncing run <strong><a href='https://wandb.ai/cl-probing/logsumexp_penalty/runs/fdxh3d7s' target=\"_blank\">ant_l_symmetric_infonce_ef_l2_p_0.1</a></strong> to <a href='https://wandb.ai/cl-probing/logsumexp_penalty' target=\"_blank\">Weights & Biases</a> (<a href='https://wandb.me/run' target=\"_blank\">docs</a>)<br/>"
      ]
     },
     "metadata": {},
     "output_type": "display_data"
    },
    {
     "data": {
      "text/plain": [
       "<IPython.core.display.HTML object>"
      ],
      "text/html": [
       " View project at <a href='https://wandb.ai/cl-probing/logsumexp_penalty' target=\"_blank\">https://wandb.ai/cl-probing/logsumexp_penalty</a>"
      ]
     },
     "metadata": {},
     "output_type": "display_data"
    },
    {
     "data": {
      "text/plain": [
       "<IPython.core.display.HTML object>"
      ],
      "text/html": [
       " View run at <a href='https://wandb.ai/cl-probing/logsumexp_penalty/runs/fdxh3d7s' target=\"_blank\">https://wandb.ai/cl-probing/logsumexp_penalty/runs/fdxh3d7s</a>"
      ]
     },
     "metadata": {},
     "output_type": "display_data"
    },
    {
     "data": {
      "text/plain": [
       "<IPython.core.display.HTML object>"
      ],
      "text/html": [
       "W&B sync reduced upload amount by 3.5%             "
      ]
     },
     "metadata": {},
     "output_type": "display_data"
    },
    {
     "data": {
      "text/plain": [
       "<IPython.core.display.HTML object>"
      ],
      "text/html": [
       "<style>\n",
       "    table.wandb td:nth-child(1) { padding: 0 10px; text-align: left ; width: auto;} td:nth-child(2) {text-align: left ; width: 100%}\n",
       "    .wandb-row { display: flex; flex-direction: row; flex-wrap: wrap; justify-content: flex-start; width: 100% }\n",
       "    .wandb-col { display: flex; flex-direction: column; flex-basis: 100%; flex: 1; padding: 10px; }\n",
       "    </style>\n",
       "<div class=\"wandb-row\"><div class=\"wandb-col\"><h3>Run history:</h3><br/><table class=\"wandb\"><tr><td>eval/episode_dist</td><td>▆▃▄▇██▄▄▂▂▅▁▂▃▅▃▄▂▃▃▃▃▅▆▁▄▃▃▁▄▃▃▅▂▃▄▃▃▃▄</td></tr><tr><td>eval/episode_reward_survive</td><td>▄▁▄▆▆▇▄▅▅▅▇▆▆▆█▇▇▆▇▇▇█▇█▆▇▆▆▅█▆▇█▅▆▇▆▆▅█</td></tr><tr><td>eval/episode_success</td><td>▁▁▁▂▂▃▃▃▄▅▄▆▆▅▅▆▆▆█▇▇█▆▇█▆▆▆▇▇▇█▆▆▅▇▆▇▅▇</td></tr><tr><td>eval/episode_success_any</td><td>▁▁▃▅▄▅▅▅▆▆▆█▆▆▇▇▇▇█▇██▆▇▇▇▇▆▇█▆▇▇▆▅▇▆▇▅█</td></tr><tr><td>eval/episode_success_easy</td><td>▁▁▂▄▂▅▄▅▅▆▅▇▆▆▆▇▇▇█▇▇█▆▆▇▆▆▆▇▇▆▇▆▅▅▆▆▆▅▇</td></tr><tr><td>eval/episode_success_hard</td><td>▁▁▁▁▁▁▁▁▁▁▁▁▁▁▁▁▁▁▁▁▁▁▁▁▁▁▁▁▁▁▁▁▁▁▁▁▁▁▁▁</td></tr><tr><td>step</td><td>▁▁▁▂▂▂▂▂▃▃▃▃▃▃▄▄▄▄▄▄▅▅▅▅▅▅▆▆▆▆▆▆▇▇▇▇▇███</td></tr><tr><td>training/actor_loss</td><td>▁▇██████████████████████████████▇▇▇▇▇▇▇█</td></tr><tr><td>training/alpha</td><td>▁█▂▂▂▂▂▂▂▂▂▂▂▂▂▂▂▂▂▂▂▂▂▂▂▂▂▂▂▂▂▂▂▂▂▂▂▂▂▂</td></tr><tr><td>training/alpha_loss</td><td>▁█▁▁▁▁▁▁▁▁▁▁▁▁▁▁▁▁▁▁▁▁▁▁▁▁▁▁▁▁▁▁▁▁▁▁▁▁▁▁</td></tr><tr><td>training/binary_accuracy</td><td>▁███████████████████████████████████████</td></tr><tr><td>training/c_target</td><td>▁▁▁▁▁▁▁▁▁▁▁▁▁▁▁▁▁▁▁▁▁▁▁▁▁▁▁▁▁▁▁▁▁▁▁▁▁▁▁▁</td></tr><tr><td>training/categorical_accuracy</td><td>▁▆▇▇██████▇▇▇▇▇▇▇▇▇▇▇▇▇▇▇▇█████████████▇</td></tr><tr><td>training/crl_critic_loss</td><td>▁█████████████████▇▇▇▇▇▇▇▇▇▇▇▇▇▇▇▇▇▇▇▇▇▇</td></tr><tr><td>training/entropy</td><td>█▆▁▁▁▁▁▁▁▁▁▁▁▁▁▁▁▁▁▁▁▁▁▁▁▁▁▁▁▁▁▁▁▁▁▁▁▁▁▁</td></tr><tr><td>training/g_repr_mean</td><td>▁█▆▄▃▃▃▃▃▃▃▃▃▃▃▃▃▃▃▃▃▃▃▃▃▃▃▃▃▃▃▃▃▃▃▃▃▃▃▃</td></tr><tr><td>training/g_repr_std</td><td>▁█▆▄▄▃▃▃▃▃▃▃▃▃▃▃▃▃▃▃▃▃▃▃▃▃▃▃▃▃▃▃▃▃▃▃▃▃▃▃</td></tr><tr><td>training/l_align</td><td>▁███████████████████████████████████████</td></tr><tr><td>training/l_unif</td><td>▇█▇▅▃▃▃▃▃▃▃▃▃▃▃▃▂▂▂▂▂▂▂▂▁▁▁▁▁▁▁▁▁▁▁▁▁▁▁▁</td></tr><tr><td>training/logits_neg</td><td>█▁▂▂▂▂▂▂▂▂▂▂▂▂▂▂▂▂▂▂▁▁▁▁▁▁▁▁▁▁▁▁▁▁▁▁▁▁▁▁</td></tr><tr><td>training/logits_pos</td><td>█▁▁▁▁▁▁▁▁▁▁▁▁▁▁▁▁▁▁▁▁▁▁▁▁▁▁▁▁▁▁▁▁▁▁▁▁▁▁▁</td></tr><tr><td>training/logsumexp</td><td>▁▇▆▅▆▆▆▆▆▆▆▆▆▆▆▆▆▇▇▇▇▇▇▇▇▇██████████████</td></tr><tr><td>training/sa_repr_mean</td><td>▁█▆▄▃▃▃▃▃▃▃▃▃▃▃▃▃▃▃▃▃▃▃▃▃▃▃▃▃▃▃▃▃▃▃▃▃▃▃▃</td></tr><tr><td>training/sa_repr_std</td><td>▁█▆▄▄▄▄▄▄▄▄▄▄▄▄▄▃▃▃▃▃▃▃▃▃▃▄▄▄▄▄▄▄▄▄▄▄▄▄▄</td></tr><tr><td>training/sps</td><td>▁▆██████████████████████████████████████</td></tr></table><br/></div><div class=\"wandb-col\"><h3>Run summary:</h3><br/><table class=\"wandb\"><tr><td>eval/episode_dist</td><td>3861.42358</td></tr><tr><td>eval/episode_reward_survive</td><td>902.35156</td></tr><tr><td>eval/episode_success</td><td>213.10938</td></tr><tr><td>eval/episode_success_any</td><td>0.53906</td></tr><tr><td>eval/episode_success_easy</td><td>361.625</td></tr><tr><td>eval/episode_success_hard</td><td>0</td></tr><tr><td>step</td><td>50853888.0</td></tr><tr><td>training/actor_loss</td><td>3.30825</td></tr><tr><td>training/alpha</td><td>0.00897</td></tr><tr><td>training/alpha_loss</td><td>1e-05</td></tr><tr><td>training/binary_accuracy</td><td>0.99609</td></tr><tr><td>training/c_target</td><td>0</td></tr><tr><td>training/categorical_accuracy</td><td>0.17071</td></tr><tr><td>training/crl_critic_loss</td><td>6.71288</td></tr><tr><td>training/entropy</td><td>-3.99935</td></tr><tr><td>training/g_repr_mean</td><td>7.18671</td></tr><tr><td>training/g_repr_std</td><td>1.86101</td></tr><tr><td>training/l_align</td><td>7.28601</td></tr><tr><td>training/l_unif</td><td>-0.59299</td></tr><tr><td>training/logits_neg</td><td>-9.56858</td></tr><tr><td>training/logits_pos</td><td>-3.643</td></tr><tr><td>training/logsumexp</td><td>0.19859</td></tr><tr><td>training/sa_repr_mean</td><td>7.36263</td></tr><tr><td>training/sa_repr_std</td><td>2.16369</td></tr><tr><td>training/sps</td><td>22120.62356</td></tr></table><br/></div></div>"
      ]
     },
     "metadata": {},
     "output_type": "display_data"
    },
    {
     "data": {
      "text/plain": [
       "<IPython.core.display.HTML object>"
      ],
      "text/html": [
       " View run <strong style=\"color:#cdcd00\">ant_l_symmetric_infonce_ef_l2_p_0.1</strong> at: <a href='https://wandb.ai/cl-probing/logsumexp_penalty/runs/fdxh3d7s' target=\"_blank\">https://wandb.ai/cl-probing/logsumexp_penalty/runs/fdxh3d7s</a><br/> View job at <a href='https://wandb.ai/cl-probing/logsumexp_penalty/jobs/QXJ0aWZhY3RDb2xsZWN0aW9uOjM3NzgwMzA4NA==/version_details/v9' target=\"_blank\">https://wandb.ai/cl-probing/logsumexp_penalty/jobs/QXJ0aWZhY3RDb2xsZWN0aW9uOjM3NzgwMzA4NA==/version_details/v9</a><br/>Synced 6 W&B file(s), 1 media file(s), 3 artifact file(s) and 4 other file(s)"
      ]
     },
     "metadata": {},
     "output_type": "display_data"
    },
    {
     "data": {
      "text/plain": [
       "<IPython.core.display.HTML object>"
      ],
      "text/html": [
       "Find logs at: <code>./wandb/run-20240805_112816-fdxh3d7s/logs</code>"
      ]
     },
     "metadata": {},
     "output_type": "display_data"
    },
    {
     "data": {
      "text/plain": [
       "<IPython.core.display.HTML object>"
      ],
      "text/html": [
       "wandb version 0.17.5 is available!  To upgrade, please run:\n",
       " $ pip install wandb --upgrade"
      ]
     },
     "metadata": {},
     "output_type": "display_data"
    },
    {
     "data": {
      "text/plain": [
       "<IPython.core.display.HTML object>"
      ],
      "text/html": [
       "Tracking run with wandb version 0.16.4"
      ]
     },
     "metadata": {},
     "output_type": "display_data"
    },
    {
     "data": {
      "text/plain": [
       "<IPython.core.display.HTML object>"
      ],
      "text/html": [
       "Run data is saved locally in <code>/home/mbortkie/repos/crl/notebooks/wandb/run-20240805_112835-5in1ul9r</code>"
      ]
     },
     "metadata": {},
     "output_type": "display_data"
    },
    {
     "data": {
      "text/plain": [
       "<IPython.core.display.HTML object>"
      ],
      "text/html": [
       "Syncing run <strong><a href='https://wandb.ai/cl-probing/logsumexp_penalty/runs/5in1ul9r' target=\"_blank\">ant_l_symmetric_infonce_ef_l2_p_0.1</a></strong> to <a href='https://wandb.ai/cl-probing/logsumexp_penalty' target=\"_blank\">Weights & Biases</a> (<a href='https://wandb.me/run' target=\"_blank\">docs</a>)<br/>"
      ]
     },
     "metadata": {},
     "output_type": "display_data"
    },
    {
     "data": {
      "text/plain": [
       "<IPython.core.display.HTML object>"
      ],
      "text/html": [
       " View project at <a href='https://wandb.ai/cl-probing/logsumexp_penalty' target=\"_blank\">https://wandb.ai/cl-probing/logsumexp_penalty</a>"
      ]
     },
     "metadata": {},
     "output_type": "display_data"
    },
    {
     "data": {
      "text/plain": [
       "<IPython.core.display.HTML object>"
      ],
      "text/html": [
       " View run at <a href='https://wandb.ai/cl-probing/logsumexp_penalty/runs/5in1ul9r' target=\"_blank\">https://wandb.ai/cl-probing/logsumexp_penalty/runs/5in1ul9r</a>"
      ]
     },
     "metadata": {},
     "output_type": "display_data"
    },
    {
     "data": {
      "text/plain": [
       "<IPython.core.display.HTML object>"
      ],
      "text/html": [
       "W&B sync reduced upload amount by 3.5%             "
      ]
     },
     "metadata": {},
     "output_type": "display_data"
    },
    {
     "data": {
      "text/plain": [
       "<IPython.core.display.HTML object>"
      ],
      "text/html": [
       "<style>\n",
       "    table.wandb td:nth-child(1) { padding: 0 10px; text-align: left ; width: auto;} td:nth-child(2) {text-align: left ; width: 100%}\n",
       "    .wandb-row { display: flex; flex-direction: row; flex-wrap: wrap; justify-content: flex-start; width: 100% }\n",
       "    .wandb-col { display: flex; flex-direction: column; flex-basis: 100%; flex: 1; padding: 10px; }\n",
       "    </style>\n",
       "<div class=\"wandb-row\"><div class=\"wandb-col\"><h3>Run history:</h3><br/><table class=\"wandb\"><tr><td>eval/episode_dist</td><td>▁▅█▅▅▆▄▃▄▃▃▃▃▃▃▃▃▂▃▃▄▃▂▂▃▃▃▂▃▅▃▄▃▅▄▅▅▄▃▄</td></tr><tr><td>eval/episode_reward_survive</td><td>▁▅▆▅▆▇▆▆▅▅▅▆▇▇▆▇▇▆▆▆█▆▆▆▇▆▇▆▇█▇█▇█▇▇█▇▇▇</td></tr><tr><td>eval/episode_success</td><td>▁▁▁▂▃▃▃▄▃▄▅▅▆▆▆▆▆▇▆▆▆▆▇▆█▇█▇▇▆▆▆▇▆▆▆▅▆█▆</td></tr><tr><td>eval/episode_success_any</td><td>▁▂▂▃▅▅▅▅▅▅▆▆▇▆▆▆▇█▇▆▇▆█▆▇▆▇▆▇▆█▇▇▇▇▆▇██▇</td></tr><tr><td>eval/episode_success_easy</td><td>▁▁▂▃▄▅▅▅▄▅▆▆▇▇▆▇▇█▆▇▇▆█▆█▇█▇█▇▇▇▇▇▇▆▆▇█▇</td></tr><tr><td>eval/episode_success_hard</td><td>▁▁▁▁▁▁▁▁▁▁▁▁▁▁▁▁▁▁▁▁▁▁▁▁▁▁▁▁▁▁▁▁▁▁▁▁▁▁▁▁</td></tr><tr><td>step</td><td>▁▁▁▂▂▂▂▂▃▃▃▃▃▃▄▄▄▄▄▄▅▅▅▅▅▅▆▆▆▆▆▆▇▇▇▇▇███</td></tr><tr><td>training/actor_loss</td><td>▁███▇▇▇▇▇▇▇▇▇▇▇▇▇▇▇▇▇▇▇▇▇▇▇▇▇▇▆▆▆▆▆▆▆▆▆▆</td></tr><tr><td>training/alpha</td><td>▁█▂▂▂▂▂▂▂▂▂▂▂▂▂▂▂▂▂▂▂▂▂▂▂▂▂▂▂▂▂▂▂▂▂▂▂▂▂▂</td></tr><tr><td>training/alpha_loss</td><td>▁█▁▁▁▁▁▁▁▁▁▁▁▁▁▁▁▁▁▁▁▁▁▁▁▁▁▁▁▁▁▁▁▁▁▁▁▁▁▁</td></tr><tr><td>training/binary_accuracy</td><td>▁███████████████████████████████████████</td></tr><tr><td>training/c_target</td><td>▁▁▁▁▁▁▁▁▁▁▁▁▁▁▁▁▁▁▁▁▁▁▁▁▁▁▁▁▁▁▁▁▁▁▁▁▁▁▁▁</td></tr><tr><td>training/categorical_accuracy</td><td>▁▃▄▄▅▅▆▆▆▆▆▆▅▅▅▅▅▅▅▆▆▆▆▆▆▆▆▆▅▅▆▆▆▆▇▇████</td></tr><tr><td>training/crl_critic_loss</td><td>▁██▇▇▇▇▆▆▆▆▆▆▆▆▆▆▆▆▆▆▆▆▆▆▆▆▆▆▆▆▆▆▆▆▆▆▅▅▅</td></tr><tr><td>training/entropy</td><td>█▆▁▁▁▁▁▁▁▁▁▁▁▁▁▁▁▁▁▁▁▁▁▁▁▁▁▁▁▁▁▁▁▁▁▁▁▁▁▁</td></tr><tr><td>training/g_repr_mean</td><td>▁█▅▄▄▄▄▄▄▄▄▄▄▄▄▄▄▄▄▄▄▄▄▄▄▄▄▄▄▄▄▄▄▄▄▄▅▅▅▅</td></tr><tr><td>training/g_repr_std</td><td>▁█▆▅▆▆▆▆▆▆▆▆▅▅▅▅▅▅▅▅▅▅▅▅▅▅▅▅▅▅▅▅▅▅▅▅▅▅▅▅</td></tr><tr><td>training/l_align</td><td>▁███▇▇▇▇▇▇▇▇▇▇▇▇▇▇▇▇▇▇▇▇▇▇▇▇▇▇▇▆▆▆▆▆▆▆▆▆</td></tr><tr><td>training/l_unif</td><td>▇█▇▆▅▅▄▄▄▃▃▃▄▄▄▄▄▃▃▃▂▂▂▂▂▂▃▃▃▃▃▃▂▂▂▂▁▁▁▁</td></tr><tr><td>training/logits_neg</td><td>█▃▃▃▃▂▂▂▂▂▂▂▂▂▂▂▂▂▂▂▂▂▂▂▂▁▁▁▁▁▁▁▁▁▁▁▁▁▁▁</td></tr><tr><td>training/logits_pos</td><td>█▁▁▁▂▂▂▂▂▂▂▂▂▂▂▂▂▂▂▂▂▂▂▂▂▂▂▂▂▂▂▃▃▃▃▃▃▃▃▃</td></tr><tr><td>training/logsumexp</td><td>▁▃▃▃▃▄▄▄▄▄▄▄▄▄▄▄▄▄▄▅▅▅▅▅▅▅▅▅▄▄▅▅▆▆▆▆▇███</td></tr><tr><td>training/sa_repr_mean</td><td>▁█▅▄▄▄▄▄▄▄▄▄▄▄▄▄▄▄▄▄▄▄▄▅▅▅▅▅▅▅▅▅▅▅▅▅▅▅▅▅</td></tr><tr><td>training/sa_repr_std</td><td>▁█▆▆▇▇▇▇▇▇▇▇▆▆▆▆▆▆▆▆▆▆▆▆▆▆▆▆▆▆▆▆▆▆▆▆▆▆▆▆</td></tr><tr><td>training/sps</td><td>▁▆██████████████████████████████████████</td></tr></table><br/></div><div class=\"wandb-col\"><h3>Run summary:</h3><br/><table class=\"wandb\"><tr><td>eval/episode_dist</td><td>3859.24292</td></tr><tr><td>eval/episode_reward_survive</td><td>834.67969</td></tr><tr><td>eval/episode_success</td><td>187.53906</td></tr><tr><td>eval/episode_success_any</td><td>0.44531</td></tr><tr><td>eval/episode_success_easy</td><td>333.76562</td></tr><tr><td>eval/episode_success_hard</td><td>0</td></tr><tr><td>step</td><td>50853888.0</td></tr><tr><td>training/actor_loss</td><td>2.98602</td></tr><tr><td>training/alpha</td><td>0.01213</td></tr><tr><td>training/alpha_loss</td><td>1e-05</td></tr><tr><td>training/binary_accuracy</td><td>0.99609</td></tr><tr><td>training/c_target</td><td>0</td></tr><tr><td>training/categorical_accuracy</td><td>0.28388</td></tr><tr><td>training/crl_critic_loss</td><td>5.76675</td></tr><tr><td>training/entropy</td><td>-3.99882</td></tr><tr><td>training/g_repr_mean</td><td>8.83172</td></tr><tr><td>training/g_repr_std</td><td>1.90593</td></tr><tr><td>training/l_align</td><td>6.5193</td></tr><tr><td>training/l_unif</td><td>-0.79114</td></tr><tr><td>training/logits_neg</td><td>-10.43231</td></tr><tr><td>training/logits_pos</td><td>-3.25965</td></tr><tr><td>training/logsumexp</td><td>0.38589</td></tr><tr><td>training/sa_repr_mean</td><td>9.04468</td></tr><tr><td>training/sa_repr_std</td><td>2.27933</td></tr><tr><td>training/sps</td><td>22045.92289</td></tr></table><br/></div></div>"
      ]
     },
     "metadata": {},
     "output_type": "display_data"
    },
    {
     "data": {
      "text/plain": [
       "<IPython.core.display.HTML object>"
      ],
      "text/html": [
       " View run <strong style=\"color:#cdcd00\">ant_l_symmetric_infonce_ef_l2_p_0.1</strong> at: <a href='https://wandb.ai/cl-probing/logsumexp_penalty/runs/5in1ul9r' target=\"_blank\">https://wandb.ai/cl-probing/logsumexp_penalty/runs/5in1ul9r</a><br/> View job at <a href='https://wandb.ai/cl-probing/logsumexp_penalty/jobs/QXJ0aWZhY3RDb2xsZWN0aW9uOjM3NzgwMzA4NA==/version_details/v10' target=\"_blank\">https://wandb.ai/cl-probing/logsumexp_penalty/jobs/QXJ0aWZhY3RDb2xsZWN0aW9uOjM3NzgwMzA4NA==/version_details/v10</a><br/>Synced 6 W&B file(s), 1 media file(s), 3 artifact file(s) and 4 other file(s)"
      ]
     },
     "metadata": {},
     "output_type": "display_data"
    },
    {
     "data": {
      "text/plain": [
       "<IPython.core.display.HTML object>"
      ],
      "text/html": [
       "Find logs at: <code>./wandb/run-20240805_112835-5in1ul9r/logs</code>"
      ]
     },
     "metadata": {},
     "output_type": "display_data"
    },
    {
     "data": {
      "text/plain": [
       "<IPython.core.display.HTML object>"
      ],
      "text/html": [
       "wandb version 0.17.5 is available!  To upgrade, please run:\n",
       " $ pip install wandb --upgrade"
      ]
     },
     "metadata": {},
     "output_type": "display_data"
    },
    {
     "data": {
      "text/plain": [
       "<IPython.core.display.HTML object>"
      ],
      "text/html": [
       "Tracking run with wandb version 0.16.4"
      ]
     },
     "metadata": {},
     "output_type": "display_data"
    },
    {
     "data": {
      "text/plain": [
       "<IPython.core.display.HTML object>"
      ],
      "text/html": [
       "Run data is saved locally in <code>/home/mbortkie/repos/crl/notebooks/wandb/run-20240805_112851-166fl7e3</code>"
      ]
     },
     "metadata": {},
     "output_type": "display_data"
    },
    {
     "data": {
      "text/plain": [
       "<IPython.core.display.HTML object>"
      ],
      "text/html": [
       "Syncing run <strong><a href='https://wandb.ai/cl-probing/logsumexp_penalty/runs/166fl7e3' target=\"_blank\">ant_l_symmetric_infonce_ef_l2_p_0.1</a></strong> to <a href='https://wandb.ai/cl-probing/logsumexp_penalty' target=\"_blank\">Weights & Biases</a> (<a href='https://wandb.me/run' target=\"_blank\">docs</a>)<br/>"
      ]
     },
     "metadata": {},
     "output_type": "display_data"
    },
    {
     "data": {
      "text/plain": [
       "<IPython.core.display.HTML object>"
      ],
      "text/html": [
       " View project at <a href='https://wandb.ai/cl-probing/logsumexp_penalty' target=\"_blank\">https://wandb.ai/cl-probing/logsumexp_penalty</a>"
      ]
     },
     "metadata": {},
     "output_type": "display_data"
    },
    {
     "data": {
      "text/plain": [
       "<IPython.core.display.HTML object>"
      ],
      "text/html": [
       " View run at <a href='https://wandb.ai/cl-probing/logsumexp_penalty/runs/166fl7e3' target=\"_blank\">https://wandb.ai/cl-probing/logsumexp_penalty/runs/166fl7e3</a>"
      ]
     },
     "metadata": {},
     "output_type": "display_data"
    },
    {
     "data": {
      "text/plain": [
       "<IPython.core.display.HTML object>"
      ],
      "text/html": [
       "W&B sync reduced upload amount by 3.5%             "
      ]
     },
     "metadata": {},
     "output_type": "display_data"
    },
    {
     "data": {
      "text/plain": [
       "<IPython.core.display.HTML object>"
      ],
      "text/html": [
       "<style>\n",
       "    table.wandb td:nth-child(1) { padding: 0 10px; text-align: left ; width: auto;} td:nth-child(2) {text-align: left ; width: 100%}\n",
       "    .wandb-row { display: flex; flex-direction: row; flex-wrap: wrap; justify-content: flex-start; width: 100% }\n",
       "    .wandb-col { display: flex; flex-direction: column; flex-basis: 100%; flex: 1; padding: 10px; }\n",
       "    </style>\n",
       "<div class=\"wandb-row\"><div class=\"wandb-col\"><h3>Run history:</h3><br/><table class=\"wandb\"><tr><td>eval/episode_dist</td><td>▃▆██▅▅▃▆▅▄▆▄▄▄▁▃▂▄▃▂▂▂▃▃▃▄▄▂▃▃▄▃▂▂▂▂▁▂▁▂</td></tr><tr><td>eval/episode_reward_survive</td><td>▁▅▇█▄▄▃▅▆▅▇▅▄▅▂▄▄▆▄▄▄▅▆▆▆▇█▅▆▆▇▇▅▅▄▅▅▅▄▆</td></tr><tr><td>eval/episode_success</td><td>▁▁▁▁▁▂▂▁▂▂▂▂▃▂▃▃▃▃▃▄▄▅▆▆▄▅▆▆▆▆▅█▇▇▆▇▇▇▇▇</td></tr><tr><td>eval/episode_success_any</td><td>▁▂▂▂▃▄▃▃▅▅▅▅▄▅▆▅▆▆▆▆▇▇▇▇▆▇▇▇▇▆▇▇██▇██▇██</td></tr><tr><td>eval/episode_success_easy</td><td>▁▂▂▂▃▃▃▃▄▄▅▅▄▄▆▅▅▅▅▅▆▇▇▇▆▆▇▇▇▇▆███▇▇█▇▇█</td></tr><tr><td>eval/episode_success_hard</td><td>▁▁▁▁▁▁▁▁▁▁▁▁▁▁▁▁▁▁▁▁▁▁▁▁▁▁▁▁▁▁▁▁▁▁▁▁▁▁▁▁</td></tr><tr><td>step</td><td>▁▁▁▂▂▂▂▂▃▃▃▃▃▃▄▄▄▄▄▄▅▅▅▅▅▅▆▆▆▆▆▆▇▇▇▇▇███</td></tr><tr><td>training/actor_loss</td><td>▁███▇▇▇▇▇▇▇▇▇▇▇▇▇▇▇▇▇▇▇▇▇▇▇▇▇▇▇▇▇▇▇▇▇▇▇▇</td></tr><tr><td>training/alpha</td><td>▁█▂▂▂▂▃▂▂▂▂▂▂▂▂▂▂▂▂▂▂▂▂▂▂▂▂▂▂▂▂▂▂▂▂▂▂▂▂▂</td></tr><tr><td>training/alpha_loss</td><td>▁█▁▁▁▁▁▁▁▁▁▁▁▁▁▁▁▁▁▁▁▁▁▁▁▁▁▁▁▁▁▁▁▁▁▁▁▁▁▁</td></tr><tr><td>training/binary_accuracy</td><td>▁███████████████████████████████████████</td></tr><tr><td>training/c_target</td><td>▁▁▁▁▁▁▁▁▁▁▁▁▁▁▁▁▁▁▁▁▁▁▁▁▁▁▁▁▁▁▁▁▁▁▁▁▁▁▁▁</td></tr><tr><td>training/categorical_accuracy</td><td>▁▄▄▅▇███████▇▆▆▆▆▆▆▆▆▆▆▆▆▆▆▆▆▆▆▆▆▆▆▆▆▆▆▆</td></tr><tr><td>training/crl_critic_loss</td><td>▁██▇▇▆▆▆▆▆▆▆▇▇▇▇▇▇▇▇▇▇▇▇▇▇▇▇▇▇▇▇▇▇▇▇▇▇▇▇</td></tr><tr><td>training/entropy</td><td>█▆▁▁▁▁▁▁▁▁▁▁▁▁▁▁▁▁▁▁▁▁▁▁▁▁▁▁▁▁▁▁▁▁▁▁▁▁▁▁</td></tr><tr><td>training/g_repr_mean</td><td>▁█▆▄▄▄▄▄▄▄▄▄▄▄▄▄▄▄▄▄▄▄▄▄▄▄▄▄▄▄▄▄▄▄▄▄▄▄▄▄</td></tr><tr><td>training/g_repr_std</td><td>▁█▆▅▄▄▄▄▄▄▄▄▅▅▅▅▅▄▄▄▄▄▄▄▄▄▄▄▄▄▄▄▄▄▄▄▄▄▄▄</td></tr><tr><td>training/l_align</td><td>▁███▇▇▇▇▇▇▇▇▇▇▇▇▇▇▇▇▇▇▇▇▇▇▇▇▇▇▇▇▇▇▇▇▇▇▇▇</td></tr><tr><td>training/l_unif</td><td>▇█▇▅▃▂▂▂▂▁▁▁▂▃▂▂▂▂▂▂▂▂▂▂▂▁▁▁▁▁▁▁▂▂▂▁▂▁▁▁</td></tr><tr><td>training/logits_neg</td><td>█▂▂▂▂▁▁▂▁▁▁▁▂▂▂▂▂▂▂▂▂▂▂▁▁▁▁▁▁▁▁▁▁▁▁▁▁▁▁▁</td></tr><tr><td>training/logits_pos</td><td>█▁▁▁▂▂▂▂▂▂▂▂▂▂▂▂▂▂▂▂▂▂▂▂▂▂▂▂▂▂▂▂▂▂▂▂▂▂▂▂</td></tr><tr><td>training/logsumexp</td><td>▁▅▄▄▆▇▇▇▇███▇▆▆▆▆▆▆▆▆▆▆▆▆▆▆▇▇▇▇▇▆▆▆▆▆▆▆▇</td></tr><tr><td>training/sa_repr_mean</td><td>▁█▆▄▄▄▄▄▄▄▄▄▄▄▄▄▄▄▄▄▄▄▄▄▄▄▄▄▄▄▄▄▄▄▄▄▄▄▄▄</td></tr><tr><td>training/sa_repr_std</td><td>▁█▆▅▅▅▅▅▅▅▅▅▅▅▅▅▅▅▅▅▅▅▅▅▅▅▅▅▅▅▅▅▅▅▅▅▅▅▅▅</td></tr><tr><td>training/sps</td><td>▁▆██████████████████████████████████████</td></tr></table><br/></div><div class=\"wandb-col\"><h3>Run summary:</h3><br/><table class=\"wandb\"><tr><td>eval/episode_dist</td><td>2940.58667</td></tr><tr><td>eval/episode_reward_survive</td><td>801.98438</td></tr><tr><td>eval/episode_success</td><td>286.03906</td></tr><tr><td>eval/episode_success_any</td><td>0.54688</td></tr><tr><td>eval/episode_success_easy</td><td>399.89062</td></tr><tr><td>eval/episode_success_hard</td><td>0</td></tr><tr><td>step</td><td>50853888.0</td></tr><tr><td>training/actor_loss</td><td>3.28727</td></tr><tr><td>training/alpha</td><td>0.00941</td></tr><tr><td>training/alpha_loss</td><td>-1e-05</td></tr><tr><td>training/binary_accuracy</td><td>0.99609</td></tr><tr><td>training/c_target</td><td>0</td></tr><tr><td>training/categorical_accuracy</td><td>0.17986</td></tr><tr><td>training/crl_critic_loss</td><td>6.57916</td></tr><tr><td>training/entropy</td><td>-4.00115</td></tr><tr><td>training/g_repr_mean</td><td>7.7705</td></tr><tr><td>training/g_repr_std</td><td>1.99979</td></tr><tr><td>training/l_align</td><td>7.1849</td></tr><tr><td>training/l_unif</td><td>-0.62743</td></tr><tr><td>training/logits_neg</td><td>-9.62111</td></tr><tr><td>training/logits_pos</td><td>-3.59245</td></tr><tr><td>training/logsumexp</td><td>0.2169</td></tr><tr><td>training/sa_repr_mean</td><td>7.97769</td></tr><tr><td>training/sa_repr_std</td><td>2.51159</td></tr><tr><td>training/sps</td><td>21985.44364</td></tr></table><br/></div></div>"
      ]
     },
     "metadata": {},
     "output_type": "display_data"
    },
    {
     "data": {
      "text/plain": [
       "<IPython.core.display.HTML object>"
      ],
      "text/html": [
       " View run <strong style=\"color:#cdcd00\">ant_l_symmetric_infonce_ef_l2_p_0.1</strong> at: <a href='https://wandb.ai/cl-probing/logsumexp_penalty/runs/166fl7e3' target=\"_blank\">https://wandb.ai/cl-probing/logsumexp_penalty/runs/166fl7e3</a><br/> View job at <a href='https://wandb.ai/cl-probing/logsumexp_penalty/jobs/QXJ0aWZhY3RDb2xsZWN0aW9uOjM3NzgwMzA4NA==/version_details/v11' target=\"_blank\">https://wandb.ai/cl-probing/logsumexp_penalty/jobs/QXJ0aWZhY3RDb2xsZWN0aW9uOjM3NzgwMzA4NA==/version_details/v11</a><br/>Synced 6 W&B file(s), 1 media file(s), 3 artifact file(s) and 4 other file(s)"
      ]
     },
     "metadata": {},
     "output_type": "display_data"
    },
    {
     "data": {
      "text/plain": [
       "<IPython.core.display.HTML object>"
      ],
      "text/html": [
       "Find logs at: <code>./wandb/run-20240805_112851-166fl7e3/logs</code>"
      ]
     },
     "metadata": {},
     "output_type": "display_data"
    },
    {
     "data": {
      "text/plain": [
       "<IPython.core.display.HTML object>"
      ],
      "text/html": [
       "wandb version 0.17.5 is available!  To upgrade, please run:\n",
       " $ pip install wandb --upgrade"
      ]
     },
     "metadata": {},
     "output_type": "display_data"
    },
    {
     "data": {
      "text/plain": [
       "<IPython.core.display.HTML object>"
      ],
      "text/html": [
       "Tracking run with wandb version 0.16.4"
      ]
     },
     "metadata": {},
     "output_type": "display_data"
    },
    {
     "data": {
      "text/plain": [
       "<IPython.core.display.HTML object>"
      ],
      "text/html": [
       "Run data is saved locally in <code>/home/mbortkie/repos/crl/notebooks/wandb/run-20240805_112912-vuoumb29</code>"
      ]
     },
     "metadata": {},
     "output_type": "display_data"
    },
    {
     "data": {
      "text/plain": [
       "<IPython.core.display.HTML object>"
      ],
      "text/html": [
       "Syncing run <strong><a href='https://wandb.ai/cl-probing/logsumexp_penalty/runs/vuoumb29' target=\"_blank\">ant_l_symmetric_infonce_ef_l2_p_0.1</a></strong> to <a href='https://wandb.ai/cl-probing/logsumexp_penalty' target=\"_blank\">Weights & Biases</a> (<a href='https://wandb.me/run' target=\"_blank\">docs</a>)<br/>"
      ]
     },
     "metadata": {},
     "output_type": "display_data"
    },
    {
     "data": {
      "text/plain": [
       "<IPython.core.display.HTML object>"
      ],
      "text/html": [
       " View project at <a href='https://wandb.ai/cl-probing/logsumexp_penalty' target=\"_blank\">https://wandb.ai/cl-probing/logsumexp_penalty</a>"
      ]
     },
     "metadata": {},
     "output_type": "display_data"
    },
    {
     "data": {
      "text/plain": [
       "<IPython.core.display.HTML object>"
      ],
      "text/html": [
       " View run at <a href='https://wandb.ai/cl-probing/logsumexp_penalty/runs/vuoumb29' target=\"_blank\">https://wandb.ai/cl-probing/logsumexp_penalty/runs/vuoumb29</a>"
      ]
     },
     "metadata": {},
     "output_type": "display_data"
    },
    {
     "data": {
      "text/plain": [
       "<IPython.core.display.HTML object>"
      ],
      "text/html": [
       "W&B sync reduced upload amount by 3.5%             "
      ]
     },
     "metadata": {},
     "output_type": "display_data"
    },
    {
     "data": {
      "text/plain": [
       "<IPython.core.display.HTML object>"
      ],
      "text/html": [
       "<style>\n",
       "    table.wandb td:nth-child(1) { padding: 0 10px; text-align: left ; width: auto;} td:nth-child(2) {text-align: left ; width: 100%}\n",
       "    .wandb-row { display: flex; flex-direction: row; flex-wrap: wrap; justify-content: flex-start; width: 100% }\n",
       "    .wandb-col { display: flex; flex-direction: column; flex-basis: 100%; flex: 1; padding: 10px; }\n",
       "    </style>\n",
       "<div class=\"wandb-row\"><div class=\"wandb-col\"><h3>Run history:</h3><br/><table class=\"wandb\"><tr><td>eval/episode_dist</td><td>▁██▄▅▆▆▆█▄▃▅▃▂▂▁▃▂▄▄▄▄▄▃▃▂▂▂▁▂▂▅▂▁▂▂▂▂▃▃</td></tr><tr><td>eval/episode_reward_survive</td><td>▁▅▆▄▅▆▆▅▇▆▅▇▄▅▅▅▅▇▇███▇█▇▆▆▅▅▆▆▇▆▅▆▅▆▅▅▇</td></tr><tr><td>eval/episode_success</td><td>▁▁▁▂▂▂▂▂▂▃▃▄▃▄▄▅▄▆▆▆▇█▆█▇▇█▆▅▇▆▅█▆▅▆█▆▆▇</td></tr><tr><td>eval/episode_success_any</td><td>▁▁▂▄▅▅▅▄▄▅▆▅▄▅▅▆▅▇▇▇▇█▆█▇▇▇▆▇▇▇▇█▆▆▇█▆▅▆</td></tr><tr><td>eval/episode_success_easy</td><td>▁▁▂▃▃▄▄▃▄▄▅▅▄▅▅▆▅▇▇▇▇█▆█▇▇▇▆▆▇▇▆█▇▆▆█▆▆▇</td></tr><tr><td>eval/episode_success_hard</td><td>▁▁▁▁▁▁▁▁▁▁▁▁▁▁▁▁▁▁▁▁▁▁▁▁▁▁▁▁▁▁▁▁▁▁▁▁▁▁▁▁</td></tr><tr><td>step</td><td>▁▁▁▂▂▂▂▂▃▃▃▃▃▃▄▄▄▄▄▄▅▅▅▅▅▅▆▆▆▆▆▆▇▇▇▇▇███</td></tr><tr><td>training/actor_loss</td><td>▁███▇▇▇▇▇▇▇▇▇▇▇▇▇▇▇▇▇▇▇▇▇▇▇▇▇▇▇▇▇▇▇▇▇▇▇▇</td></tr><tr><td>training/alpha</td><td>▁█▂▂▂▂▂▂▂▂▂▂▂▂▂▂▂▂▂▂▂▂▂▂▂▂▂▂▂▂▂▂▂▂▂▂▂▂▂▂</td></tr><tr><td>training/alpha_loss</td><td>▁█▁▁▁▁▁▁▁▁▁▁▁▁▁▁▁▁▁▁▁▁▁▁▁▁▁▁▁▁▁▁▁▁▁▁▁▁▁▁</td></tr><tr><td>training/binary_accuracy</td><td>▁███████████████████████████████████████</td></tr><tr><td>training/c_target</td><td>▁▁▁▁▁▁▁▁▁▁▁▁▁▁▁▁▁▁▁▁▁▁▁▁▁▁▁▁▁▁▁▁▁▁▁▁▁▁▁▁</td></tr><tr><td>training/categorical_accuracy</td><td>▁▅▅▆▇▇▇▇▇██▇▇▇▇▇▇▇▇▇▇▇▇▇▇▇▇▇▇▇▇█████████</td></tr><tr><td>training/crl_critic_loss</td><td>▁███▇▇▇▇▇▇▇▇▇▇▇▇▇▇▇▇▇▇▇▇▇▇▇▇▇▆▆▆▆▆▆▆▆▆▆▆</td></tr><tr><td>training/entropy</td><td>█▆▁▁▁▁▁▁▁▁▁▁▁▁▁▁▁▁▁▁▁▁▁▁▁▁▁▁▁▁▁▁▁▁▁▁▁▁▁▁</td></tr><tr><td>training/g_repr_mean</td><td>▁█▆▄▄▄▄▄▄▄▄▄▄▄▄▄▄▄▄▄▄▄▄▄▄▄▄▄▄▄▄▄▄▄▄▄▄▄▄▄</td></tr><tr><td>training/g_repr_std</td><td>▁█▆▅▄▄▄▄▄▄▄▄▄▄▄▄▄▄▄▄▄▄▄▄▄▄▄▄▄▄▄▄▄▄▄▄▄▄▄▄</td></tr><tr><td>training/l_align</td><td>▁███▇▇▇▇▇▇▇▇▇▇▇▇▇▇▇▇▇▇▇▇▇▇▇▇▇▇▇▇▇▇▇▇▇▇▇▇</td></tr><tr><td>training/l_unif</td><td>▇█▇▅▄▄▄▃▃▃▃▃▃▃▃▃▃▃▃▂▂▂▂▂▂▂▂▂▂▁▁▁▁▁▁▁▁▁▁▁</td></tr><tr><td>training/logits_neg</td><td>█▂▃▃▂▂▂▂▂▂▂▂▂▂▂▂▂▂▂▂▂▂▂▁▁▁▁▁▁▁▁▁▁▁▁▁▁▁▁▁</td></tr><tr><td>training/logits_pos</td><td>█▁▁▁▂▂▂▂▂▂▂▂▂▂▂▂▂▂▂▂▂▂▂▂▂▂▂▂▂▂▂▂▂▂▂▂▂▂▂▂</td></tr><tr><td>training/logsumexp</td><td>▁▅▄▄▅▅▆▆▆▆▆▆▆▆▆▆▆▆▆▆▆▆▇▇▇▇▇▇▇▇▇█████▇▇██</td></tr><tr><td>training/sa_repr_mean</td><td>▁█▆▄▄▃▃▃▄▄▄▄▄▄▄▄▄▄▄▄▄▄▄▄▄▄▄▄▄▄▄▄▄▄▄▄▄▄▄▄</td></tr><tr><td>training/sa_repr_std</td><td>▁█▆▅▅▅▄▄▅▅▅▅▅▅▅▅▅▅▅▅▅▅▅▅▅▅▅▅▅▅▅▅▅▅▅▅▅▅▅▅</td></tr><tr><td>training/sps</td><td>▁▆██████████████████████████████████████</td></tr></table><br/></div><div class=\"wandb-col\"><h3>Run summary:</h3><br/><table class=\"wandb\"><tr><td>eval/episode_dist</td><td>3134.06616</td></tr><tr><td>eval/episode_reward_survive</td><td>799.95312</td></tr><tr><td>eval/episode_success</td><td>239.07812</td></tr><tr><td>eval/episode_success_any</td><td>0.46094</td></tr><tr><td>eval/episode_success_easy</td><td>352.58594</td></tr><tr><td>eval/episode_success_hard</td><td>0</td></tr><tr><td>step</td><td>50853888.0</td></tr><tr><td>training/actor_loss</td><td>3.17966</td></tr><tr><td>training/alpha</td><td>0.00926</td></tr><tr><td>training/alpha_loss</td><td>-0.0</td></tr><tr><td>training/binary_accuracy</td><td>0.99609</td></tr><tr><td>training/c_target</td><td>0</td></tr><tr><td>training/categorical_accuracy</td><td>0.21556</td></tr><tr><td>training/crl_critic_loss</td><td>6.26922</td></tr><tr><td>training/entropy</td><td>-4.00185</td></tr><tr><td>training/g_repr_mean</td><td>8.55161</td></tr><tr><td>training/g_repr_std</td><td>1.99753</td></tr><tr><td>training/l_align</td><td>6.93841</td></tr><tr><td>training/l_unif</td><td>-0.69504</td></tr><tr><td>training/logits_neg</td><td>-10.18344</td></tr><tr><td>training/logits_pos</td><td>-3.4692</td></tr><tr><td>training/logsumexp</td><td>0.25852</td></tr><tr><td>training/sa_repr_mean</td><td>8.67552</td></tr><tr><td>training/sa_repr_std</td><td>2.37719</td></tr><tr><td>training/sps</td><td>22155.10887</td></tr></table><br/></div></div>"
      ]
     },
     "metadata": {},
     "output_type": "display_data"
    },
    {
     "data": {
      "text/plain": [
       "<IPython.core.display.HTML object>"
      ],
      "text/html": [
       " View run <strong style=\"color:#cdcd00\">ant_l_symmetric_infonce_ef_l2_p_0.1</strong> at: <a href='https://wandb.ai/cl-probing/logsumexp_penalty/runs/vuoumb29' target=\"_blank\">https://wandb.ai/cl-probing/logsumexp_penalty/runs/vuoumb29</a><br/> View job at <a href='https://wandb.ai/cl-probing/logsumexp_penalty/jobs/QXJ0aWZhY3RDb2xsZWN0aW9uOjM3NzgwMzA4NA==/version_details/v12' target=\"_blank\">https://wandb.ai/cl-probing/logsumexp_penalty/jobs/QXJ0aWZhY3RDb2xsZWN0aW9uOjM3NzgwMzA4NA==/version_details/v12</a><br/>Synced 6 W&B file(s), 1 media file(s), 3 artifact file(s) and 4 other file(s)"
      ]
     },
     "metadata": {},
     "output_type": "display_data"
    },
    {
     "data": {
      "text/plain": [
       "<IPython.core.display.HTML object>"
      ],
      "text/html": [
       "Find logs at: <code>./wandb/run-20240805_112912-vuoumb29/logs</code>"
      ]
     },
     "metadata": {},
     "output_type": "display_data"
    },
    {
     "data": {
      "text/plain": [
       "<IPython.core.display.HTML object>"
      ],
      "text/html": [
       "wandb version 0.17.5 is available!  To upgrade, please run:\n",
       " $ pip install wandb --upgrade"
      ]
     },
     "metadata": {},
     "output_type": "display_data"
    },
    {
     "data": {
      "text/plain": [
       "<IPython.core.display.HTML object>"
      ],
      "text/html": [
       "Tracking run with wandb version 0.16.4"
      ]
     },
     "metadata": {},
     "output_type": "display_data"
    },
    {
     "data": {
      "text/plain": [
       "<IPython.core.display.HTML object>"
      ],
      "text/html": [
       "Run data is saved locally in <code>/home/mbortkie/repos/crl/notebooks/wandb/run-20240805_112929-keg7nclm</code>"
      ]
     },
     "metadata": {},
     "output_type": "display_data"
    },
    {
     "data": {
      "text/plain": [
       "<IPython.core.display.HTML object>"
      ],
      "text/html": [
       "Syncing run <strong><a href='https://wandb.ai/cl-probing/logsumexp_penalty/runs/keg7nclm' target=\"_blank\">ant_l_symmetric_infonce_ef_l2_p_0.1</a></strong> to <a href='https://wandb.ai/cl-probing/logsumexp_penalty' target=\"_blank\">Weights & Biases</a> (<a href='https://wandb.me/run' target=\"_blank\">docs</a>)<br/>"
      ]
     },
     "metadata": {},
     "output_type": "display_data"
    },
    {
     "data": {
      "text/plain": [
       "<IPython.core.display.HTML object>"
      ],
      "text/html": [
       " View project at <a href='https://wandb.ai/cl-probing/logsumexp_penalty' target=\"_blank\">https://wandb.ai/cl-probing/logsumexp_penalty</a>"
      ]
     },
     "metadata": {},
     "output_type": "display_data"
    },
    {
     "data": {
      "text/plain": [
       "<IPython.core.display.HTML object>"
      ],
      "text/html": [
       " View run at <a href='https://wandb.ai/cl-probing/logsumexp_penalty/runs/keg7nclm' target=\"_blank\">https://wandb.ai/cl-probing/logsumexp_penalty/runs/keg7nclm</a>"
      ]
     },
     "metadata": {},
     "output_type": "display_data"
    },
    {
     "data": {
      "text/plain": [
       "<IPython.core.display.HTML object>"
      ],
      "text/html": [
       "W&B sync reduced upload amount by 3.5%             "
      ]
     },
     "metadata": {},
     "output_type": "display_data"
    },
    {
     "data": {
      "text/plain": [
       "<IPython.core.display.HTML object>"
      ],
      "text/html": [
       "<style>\n",
       "    table.wandb td:nth-child(1) { padding: 0 10px; text-align: left ; width: auto;} td:nth-child(2) {text-align: left ; width: 100%}\n",
       "    .wandb-row { display: flex; flex-direction: row; flex-wrap: wrap; justify-content: flex-start; width: 100% }\n",
       "    .wandb-col { display: flex; flex-direction: column; flex-basis: 100%; flex: 1; padding: 10px; }\n",
       "    </style>\n",
       "<div class=\"wandb-row\"><div class=\"wandb-col\"><h3>Run history:</h3><br/><table class=\"wandb\"><tr><td>eval/episode_dist</td><td>▂█▆▆▆▄▃▅▅▅▆▂▃▃▃▂▂▃▂▂▂▃▄▂▂▂▃▃▂▂▃▂▃▂▁▂▂▁▂▂</td></tr><tr><td>eval/episode_reward_survive</td><td>▁▇▆▄▆▅▄▇▇▇█▆▇▇▇▇▆▆▆▆▇▇▆▇▅▆▇▆▇▆▆▆▇▇▅▅▆▆▆▆</td></tr><tr><td>eval/episode_success</td><td>▁▂▁▁▂▂▃▃▃▄▅▆▇▆▆▇▆▅▅▆▇▆▅▆▅▆▇▅▇▅▅▆▆█▆▆▇▇▆▅</td></tr><tr><td>eval/episode_success_any</td><td>▁▂▂▂▃▄▄▄▅▆▆▆█▆▇▇▇▇▇▇█▇▆▇▆▇▇▆█▆▅▇▆█▇▇▇█▆▆</td></tr><tr><td>eval/episode_success_easy</td><td>▁▃▂▂▃▄▄▄▅▆▆▆▇▆▇▇▆▆▆▇█▇▆▇▆▇▇▅▇▆▅▇▆█▇▆▇█▆▆</td></tr><tr><td>eval/episode_success_hard</td><td>▁▁▁▁▁▁▁▁▁▁▁▁▁▁▁▁▁▁▁▁▁▁▁▁▁▁▁▁▁▁▁▁▁▁▁▁▁▁▁▁</td></tr><tr><td>step</td><td>▁▁▁▂▂▂▂▂▃▃▃▃▃▃▄▄▄▄▄▄▅▅▅▅▅▅▆▆▆▆▆▆▇▇▇▇▇███</td></tr><tr><td>training/actor_loss</td><td>▁███▇▇▇▇▇▇▇▇▇▇▇▇▇▇▇▇▇▇▇▇▇▇▇▇▇▇▇▇▇▇▇▇▇▇▇▇</td></tr><tr><td>training/alpha</td><td>▁█▂▂▂▂▂▂▂▂▂▂▂▂▂▂▂▂▂▂▂▂▂▂▂▂▂▂▂▂▂▂▂▂▂▂▂▂▂▂</td></tr><tr><td>training/alpha_loss</td><td>▁█▁▁▁▁▁▁▁▁▁▁▁▁▁▁▁▁▁▁▁▁▁▁▁▁▁▁▁▁▁▁▁▁▁▁▁▁▁▁</td></tr><tr><td>training/binary_accuracy</td><td>▁███████████████████████████████████████</td></tr><tr><td>training/c_target</td><td>▁▁▁▁▁▁▁▁▁▁▁▁▁▁▁▁▁▁▁▁▁▁▁▁▁▁▁▁▁▁▁▁▁▁▁▁▁▁▁▁</td></tr><tr><td>training/categorical_accuracy</td><td>▁▄▆▆▇▇▇█████████▇▇▇▇▇▇▇▇▇▇▇▇▇▇▇▇▇▇▇▇▇▇▇▇</td></tr><tr><td>training/crl_critic_loss</td><td>▁██▇▇▇▇▇▇▇▆▆▆▆▆▆▆▆▆▆▆▆▆▆▆▆▆▆▆▆▆▆▆▆▆▆▆▆▆▆</td></tr><tr><td>training/entropy</td><td>█▆▁▁▁▁▁▁▁▁▁▁▁▁▁▁▁▁▁▁▁▁▁▁▁▁▁▁▁▁▁▁▁▁▁▁▁▁▁▁</td></tr><tr><td>training/g_repr_mean</td><td>▁█▅▄▄▄▄▄▄▄▄▄▄▄▄▄▄▄▄▄▄▄▄▄▄▄▄▄▄▄▄▄▄▄▄▄▄▄▄▄</td></tr><tr><td>training/g_repr_std</td><td>▁█▆▅▅▅▅▅▆▆▆▆▆▆▅▅▅▅▅▅▅▅▅▅▅▅▅▅▅▅▅▅▅▅▅▅▅▅▅▅</td></tr><tr><td>training/l_align</td><td>▁██▇▇▇▇▇▇▇▇▇▇▇▇▇▇▇▇▇▇▇▇▇▇▇▇▇▇▇▇▇▇▇▇▇▇▇▇▇</td></tr><tr><td>training/l_unif</td><td>▇█▇▆▄▄▃▃▃▂▂▂▂▂▂▂▂▂▂▂▁▁▁▁▁▁▁▁▁▁▁▁▁▁▁▁▁▁▁▁</td></tr><tr><td>training/logits_neg</td><td>█▃▃▃▂▂▂▂▂▂▂▂▁▁▁▁▁▁▁▁▁▁▁▁▁▁▁▁▁▁▁▁▁▁▁▁▁▁▁▁</td></tr><tr><td>training/logits_pos</td><td>█▁▁▂▂▂▂▂▂▂▂▂▂▂▂▂▂▂▂▂▂▂▂▂▂▂▂▂▂▂▂▂▂▂▂▂▂▂▂▂</td></tr><tr><td>training/logsumexp</td><td>▁▅▅▅▆▆▆▆▇▇██████████████████████████▇▇▇█</td></tr><tr><td>training/sa_repr_mean</td><td>▁█▅▄▄▄▄▄▄▄▄▄▄▄▄▄▄▄▄▄▄▄▄▄▄▄▄▄▄▄▄▄▄▄▄▄▄▄▄▄</td></tr><tr><td>training/sa_repr_std</td><td>▁█▆▆▆▆▆▆▇▇▆▆▆▆▆▆▆▆▆▆▆▆▆▆▆▆▆▆▆▆▆▆▆▆▆▆▆▆▆▆</td></tr><tr><td>training/sps</td><td>▁▆██████████████████████████████████████</td></tr></table><br/></div><div class=\"wandb-col\"><h3>Run summary:</h3><br/><table class=\"wandb\"><tr><td>eval/episode_dist</td><td>2986.96289</td></tr><tr><td>eval/episode_reward_survive</td><td>732.80469</td></tr><tr><td>eval/episode_success</td><td>190.625</td></tr><tr><td>eval/episode_success_any</td><td>0.46875</td></tr><tr><td>eval/episode_success_easy</td><td>311.01562</td></tr><tr><td>eval/episode_success_hard</td><td>0</td></tr><tr><td>step</td><td>50853888.0</td></tr><tr><td>training/actor_loss</td><td>3.40084</td></tr><tr><td>training/alpha</td><td>0.00903</td></tr><tr><td>training/alpha_loss</td><td>-0.0</td></tr><tr><td>training/binary_accuracy</td><td>0.99609</td></tr><tr><td>training/c_target</td><td>0</td></tr><tr><td>training/categorical_accuracy</td><td>0.16073</td></tr><tr><td>training/crl_critic_loss</td><td>6.95086</td></tr><tr><td>training/entropy</td><td>-3.99932</td></tr><tr><td>training/g_repr_mean</td><td>7.38466</td></tr><tr><td>training/g_repr_std</td><td>1.78958</td></tr><tr><td>training/l_align</td><td>7.4492</td></tr><tr><td>training/l_unif</td><td>-0.51463</td></tr><tr><td>training/logits_neg</td><td>-9.23047</td></tr><tr><td>training/logits_pos</td><td>-3.7246</td></tr><tr><td>training/logsumexp</td><td>0.16297</td></tr><tr><td>training/sa_repr_mean</td><td>7.41844</td></tr><tr><td>training/sa_repr_std</td><td>2.24707</td></tr><tr><td>training/sps</td><td>22012.14768</td></tr></table><br/></div></div>"
      ]
     },
     "metadata": {},
     "output_type": "display_data"
    },
    {
     "data": {
      "text/plain": [
       "<IPython.core.display.HTML object>"
      ],
      "text/html": [
       " View run <strong style=\"color:#cdcd00\">ant_l_symmetric_infonce_ef_l2_p_0.1</strong> at: <a href='https://wandb.ai/cl-probing/logsumexp_penalty/runs/keg7nclm' target=\"_blank\">https://wandb.ai/cl-probing/logsumexp_penalty/runs/keg7nclm</a><br/> View job at <a href='https://wandb.ai/cl-probing/logsumexp_penalty/jobs/QXJ0aWZhY3RDb2xsZWN0aW9uOjM3NzgwMzA4NA==/version_details/v13' target=\"_blank\">https://wandb.ai/cl-probing/logsumexp_penalty/jobs/QXJ0aWZhY3RDb2xsZWN0aW9uOjM3NzgwMzA4NA==/version_details/v13</a><br/>Synced 6 W&B file(s), 1 media file(s), 3 artifact file(s) and 4 other file(s)"
      ]
     },
     "metadata": {},
     "output_type": "display_data"
    },
    {
     "data": {
      "text/plain": [
       "<IPython.core.display.HTML object>"
      ],
      "text/html": [
       "Find logs at: <code>./wandb/run-20240805_112929-keg7nclm/logs</code>"
      ]
     },
     "metadata": {},
     "output_type": "display_data"
    },
    {
     "data": {
      "text/plain": [
       "<IPython.core.display.HTML object>"
      ],
      "text/html": [
       "wandb version 0.17.5 is available!  To upgrade, please run:\n",
       " $ pip install wandb --upgrade"
      ]
     },
     "metadata": {},
     "output_type": "display_data"
    },
    {
     "data": {
      "text/plain": [
       "<IPython.core.display.HTML object>"
      ],
      "text/html": [
       "Tracking run with wandb version 0.16.4"
      ]
     },
     "metadata": {},
     "output_type": "display_data"
    },
    {
     "data": {
      "text/plain": [
       "<IPython.core.display.HTML object>"
      ],
      "text/html": [
       "Run data is saved locally in <code>/home/mbortkie/repos/crl/notebooks/wandb/run-20240805_112949-k8f966vr</code>"
      ]
     },
     "metadata": {},
     "output_type": "display_data"
    },
    {
     "data": {
      "text/plain": [
       "<IPython.core.display.HTML object>"
      ],
      "text/html": [
       "Syncing run <strong><a href='https://wandb.ai/cl-probing/logsumexp_penalty/runs/k8f966vr' target=\"_blank\">ant_l_symmetric_infonce_ef_l2_p_0.1</a></strong> to <a href='https://wandb.ai/cl-probing/logsumexp_penalty' target=\"_blank\">Weights & Biases</a> (<a href='https://wandb.me/run' target=\"_blank\">docs</a>)<br/>"
      ]
     },
     "metadata": {},
     "output_type": "display_data"
    },
    {
     "data": {
      "text/plain": [
       "<IPython.core.display.HTML object>"
      ],
      "text/html": [
       " View project at <a href='https://wandb.ai/cl-probing/logsumexp_penalty' target=\"_blank\">https://wandb.ai/cl-probing/logsumexp_penalty</a>"
      ]
     },
     "metadata": {},
     "output_type": "display_data"
    },
    {
     "data": {
      "text/plain": [
       "<IPython.core.display.HTML object>"
      ],
      "text/html": [
       " View run at <a href='https://wandb.ai/cl-probing/logsumexp_penalty/runs/k8f966vr' target=\"_blank\">https://wandb.ai/cl-probing/logsumexp_penalty/runs/k8f966vr</a>"
      ]
     },
     "metadata": {},
     "output_type": "display_data"
    },
    {
     "data": {
      "text/plain": [
       "<IPython.core.display.HTML object>"
      ],
      "text/html": [
       "W&B sync reduced upload amount by 3.1%             "
      ]
     },
     "metadata": {},
     "output_type": "display_data"
    },
    {
     "data": {
      "text/plain": [
       "<IPython.core.display.HTML object>"
      ],
      "text/html": [
       "<style>\n",
       "    table.wandb td:nth-child(1) { padding: 0 10px; text-align: left ; width: auto;} td:nth-child(2) {text-align: left ; width: 100%}\n",
       "    .wandb-row { display: flex; flex-direction: row; flex-wrap: wrap; justify-content: flex-start; width: 100% }\n",
       "    .wandb-col { display: flex; flex-direction: column; flex-basis: 100%; flex: 1; padding: 10px; }\n",
       "    </style>\n",
       "<div class=\"wandb-row\"><div class=\"wandb-col\"><h3>Run history:</h3><br/><table class=\"wandb\"><tr><td>eval/episode_dist</td><td>▄█▅▄▆▇▅▂▅▃▃▃▂▃▂▄▂▃▃▂▂▂▂▂▁▁▁▂▁▁▁▂▁▂▃▂▃▂▂▂</td></tr><tr><td>eval/episode_reward_survive</td><td>▄█▅▄▆█▆▁▅▃▅▄▂▆▄▅▄▅▅▄▃▃▂▄▄▂▃▃▄▃▃▄▃▄▅▄▇▆▄▅</td></tr><tr><td>eval/episode_success</td><td>▁▁▁▁▁▁▁▁▂▂▃▃▃▄▄▃▃▄▂▂▆▆▂▃▄▄▂▄▆▅▆▅▆▆▅▆▆▇█▆</td></tr><tr><td>eval/episode_success_any</td><td>▁▁▁▁▁▁▁▁▂▂▂▂▂▃▃▂▄▅▃▄▄▅▃▅▄▆▄▄▅▆▆▆▆▆▆▇▇█▇█</td></tr><tr><td>eval/episode_success_easy</td><td>▁▁▁▂▂▁▂▂▃▃▅▃▄▅▅▅▄▅▄▅▅▅▄▅▆▅▄▅▆▆▆▅▆▅▆▇██▇▇</td></tr><tr><td>eval/episode_success_hard</td><td>▁▁▁▁▁▁▁▁▁▁▁▁▁▁▁▁▁▁▁▁▁▁▁▁▁▁▁▁▁▁▁▁▁▁▁▁▁▁▁▁</td></tr><tr><td>step</td><td>▁▁▁▂▂▂▂▂▃▃▃▃▃▃▄▄▄▄▄▄▅▅▅▅▅▅▆▆▆▆▆▆▇▇▇▇▇███</td></tr><tr><td>training/actor_loss</td><td>▁▅▆▆▇▇▇▇▇▇▇▇████████████████████████████</td></tr><tr><td>training/alpha</td><td>▁█▁▁▁▁▁▁▁▁▁▁▁▁▁▁▁▁▁▁▁▁▁▁▁▁▁▁▁▁▁▁▁▁▁▁▁▁▁▁</td></tr><tr><td>training/alpha_loss</td><td>▁█▁▁▁▁▁▁▁▁▁▁▁▁▁▁▁▁▁▁▁▁▁▁▁▁▁▁▁▁▁▁▁▁▁▁▁▁▁▁</td></tr><tr><td>training/binary_accuracy</td><td>▁███████████████████████████████████████</td></tr><tr><td>training/c_target</td><td>▁▁▁▁▁▁▁▁▁▁▁▁▁▁▁▁▁▁▁▁▁▁▁▁▁▁▁▁▁▁▁▁▁▁▁▁▁▁▁▁</td></tr><tr><td>training/categorical_accuracy</td><td>▁███████████████████████████████████████</td></tr><tr><td>training/crl_critic_loss</td><td>▁█▇▆▆▅▅▅▅▅▅▅▅▅▅▅▅▅▅▅▅▅▅▅▅▅▅▅▅▅▅▅▅▅▅▅▅▅▅▅</td></tr><tr><td>training/entropy</td><td>▇█▁▁▁▁▁▁▁▁▁▁▁▁▁▁▁▁▁▁▁▁▁▁▁▁▁▁▁▁▁▁▁▁▁▁▁▁▁▁</td></tr><tr><td>training/g_repr_mean</td><td>▁▇█▇▄▄▄▄▄▄▄▄▄▄▄▄▄▄▄▄▅▅▅▅▅▅▅▅▅▅▅▅▅▅▅▅▅▅▅▅</td></tr><tr><td>training/g_repr_std</td><td>▁▇█▇▄▃▃▃▃▃▃▃▃▃▃▃▃▃▃▃▃▃▃▃▃▃▃▃▃▃▃▃▃▃▃▃▃▃▃▃</td></tr><tr><td>training/l_align</td><td>▁▇▆▆▇▇▇▇▇▇▇▇████████████████████████████</td></tr><tr><td>training/l_unif</td><td>██▇▇▄▃▃▃▂▂▂▂▂▁▁▁▁▁▁▁▁▁▁▁▁▁▁▁▁▁▁▁▁▁▁▁▁▁▁▁</td></tr><tr><td>training/logits_neg</td><td>█▁▁▂▅▅▅▅▅▅▅▅▅▅▅▅▅▅▅▅▅▅▅▅▅▅▅▅▅▅▅▅▅▅▅▅▅▅▅▅</td></tr><tr><td>training/logits_pos</td><td>█▂▃▃▂▂▂▂▂▂▂▂▁▁▁▁▁▁▁▁▁▁▁▁▁▁▁▁▁▁▁▁▁▁▁▁▁▁▁▁</td></tr><tr><td>training/logsumexp</td><td>▁▅▄▄▅▆▆▆▇▇▇▇▇▇██████████████████████████</td></tr><tr><td>training/sa_repr_mean</td><td>▁▇█▇▄▄▄▄▄▄▄▄▄▄▄▄▄▄▄▅▅▅▅▅▅▅▅▅▅▅▅▅▅▅▅▅▅▅▅▅</td></tr><tr><td>training/sa_repr_std</td><td>▁▇█▇▄▃▃▃▃▃▃▃▃▃▃▃▃▃▃▃▃▃▃▃▃▃▃▃▃▃▃▃▃▃▃▃▃▃▃▃</td></tr><tr><td>training/sps</td><td>▁▅██████████████████████████████████████</td></tr></table><br/></div><div class=\"wandb-col\"><h3>Run summary:</h3><br/><table class=\"wandb\"><tr><td>eval/episode_dist</td><td>1230.62402</td></tr><tr><td>eval/episode_reward_survive</td><td>641.55469</td></tr><tr><td>eval/episode_success</td><td>69.82812</td></tr><tr><td>eval/episode_success_any</td><td>0.26562</td></tr><tr><td>eval/episode_success_easy</td><td>332.67969</td></tr><tr><td>eval/episode_success_hard</td><td>0</td></tr><tr><td>step</td><td>50853888.0</td></tr><tr><td>training/actor_loss</td><td>1.37999</td></tr><tr><td>training/alpha</td><td>0.00126</td></tr><tr><td>training/alpha_loss</td><td>-0.0</td></tr><tr><td>training/binary_accuracy</td><td>0.99609</td></tr><tr><td>training/c_target</td><td>0</td></tr><tr><td>training/categorical_accuracy</td><td>0.81676</td></tr><tr><td>training/crl_critic_loss</td><td>1.48649</td></tr><tr><td>training/entropy</td><td>-4.00147</td></tr><tr><td>training/g_repr_mean</td><td>14.37949</td></tr><tr><td>training/g_repr_std</td><td>2.27247</td></tr><tr><td>training/l_align</td><td>2.94429</td></tr><tr><td>training/l_unif</td><td>-1.58837</td></tr><tr><td>training/logits_neg</td><td>-14.97107</td></tr><tr><td>training/logits_pos</td><td>-1.47214</td></tr><tr><td>training/logsumexp</td><td>1.30574</td></tr><tr><td>training/sa_repr_mean</td><td>14.33303</td></tr><tr><td>training/sa_repr_std</td><td>2.2929</td></tr><tr><td>training/sps</td><td>36097.03235</td></tr></table><br/></div></div>"
      ]
     },
     "metadata": {},
     "output_type": "display_data"
    },
    {
     "data": {
      "text/plain": [
       "<IPython.core.display.HTML object>"
      ],
      "text/html": [
       " View run <strong style=\"color:#cdcd00\">ant_l_symmetric_infonce_ef_l2_p_0.1</strong> at: <a href='https://wandb.ai/cl-probing/logsumexp_penalty/runs/k8f966vr' target=\"_blank\">https://wandb.ai/cl-probing/logsumexp_penalty/runs/k8f966vr</a><br/> View job at <a href='https://wandb.ai/cl-probing/logsumexp_penalty/jobs/QXJ0aWZhY3RDb2xsZWN0aW9uOjM3NzgwMzA4NA==/version_details/v14' target=\"_blank\">https://wandb.ai/cl-probing/logsumexp_penalty/jobs/QXJ0aWZhY3RDb2xsZWN0aW9uOjM3NzgwMzA4NA==/version_details/v14</a><br/>Synced 6 W&B file(s), 1 media file(s), 3 artifact file(s) and 4 other file(s)"
      ]
     },
     "metadata": {},
     "output_type": "display_data"
    },
    {
     "data": {
      "text/plain": [
       "<IPython.core.display.HTML object>"
      ],
      "text/html": [
       "Find logs at: <code>./wandb/run-20240805_112949-k8f966vr/logs</code>"
      ]
     },
     "metadata": {},
     "output_type": "display_data"
    },
    {
     "data": {
      "text/plain": [
       "<IPython.core.display.HTML object>"
      ],
      "text/html": [
       "wandb version 0.17.5 is available!  To upgrade, please run:\n",
       " $ pip install wandb --upgrade"
      ]
     },
     "metadata": {},
     "output_type": "display_data"
    },
    {
     "data": {
      "text/plain": [
       "<IPython.core.display.HTML object>"
      ],
      "text/html": [
       "Tracking run with wandb version 0.16.4"
      ]
     },
     "metadata": {},
     "output_type": "display_data"
    },
    {
     "data": {
      "text/plain": [
       "<IPython.core.display.HTML object>"
      ],
      "text/html": [
       "Run data is saved locally in <code>/home/mbortkie/repos/crl/notebooks/wandb/run-20240805_113007-qwgo88pp</code>"
      ]
     },
     "metadata": {},
     "output_type": "display_data"
    },
    {
     "data": {
      "text/plain": [
       "<IPython.core.display.HTML object>"
      ],
      "text/html": [
       "Syncing run <strong><a href='https://wandb.ai/cl-probing/logsumexp_penalty/runs/qwgo88pp' target=\"_blank\">ant_l_symmetric_infonce_ef_l2_p_0.1</a></strong> to <a href='https://wandb.ai/cl-probing/logsumexp_penalty' target=\"_blank\">Weights & Biases</a> (<a href='https://wandb.me/run' target=\"_blank\">docs</a>)<br/>"
      ]
     },
     "metadata": {},
     "output_type": "display_data"
    },
    {
     "data": {
      "text/plain": [
       "<IPython.core.display.HTML object>"
      ],
      "text/html": [
       " View project at <a href='https://wandb.ai/cl-probing/logsumexp_penalty' target=\"_blank\">https://wandb.ai/cl-probing/logsumexp_penalty</a>"
      ]
     },
     "metadata": {},
     "output_type": "display_data"
    },
    {
     "data": {
      "text/plain": [
       "<IPython.core.display.HTML object>"
      ],
      "text/html": [
       " View run at <a href='https://wandb.ai/cl-probing/logsumexp_penalty/runs/qwgo88pp' target=\"_blank\">https://wandb.ai/cl-probing/logsumexp_penalty/runs/qwgo88pp</a>"
      ]
     },
     "metadata": {},
     "output_type": "display_data"
    },
    {
     "data": {
      "text/plain": [
       "<IPython.core.display.HTML object>"
      ],
      "text/html": [
       "W&B sync reduced upload amount by 3.1%             "
      ]
     },
     "metadata": {},
     "output_type": "display_data"
    },
    {
     "data": {
      "text/plain": [
       "<IPython.core.display.HTML object>"
      ],
      "text/html": [
       "<style>\n",
       "    table.wandb td:nth-child(1) { padding: 0 10px; text-align: left ; width: auto;} td:nth-child(2) {text-align: left ; width: 100%}\n",
       "    .wandb-row { display: flex; flex-direction: row; flex-wrap: wrap; justify-content: flex-start; width: 100% }\n",
       "    .wandb-col { display: flex; flex-direction: column; flex-basis: 100%; flex: 1; padding: 10px; }\n",
       "    </style>\n",
       "<div class=\"wandb-row\"><div class=\"wandb-col\"><h3>Run history:</h3><br/><table class=\"wandb\"><tr><td>eval/episode_dist</td><td>▂██▆▄▃▅▄▄▃▃▄▃▂▃▃▂▃▂▃▂▂▂▂▁▂▂▂▁▁▁▁▁▃▃▂▂▂▂▁</td></tr><tr><td>eval/episode_reward_survive</td><td>▁▇█▆▃▃▅▄▅▃▃▅▄▃▄▃▂▄▂▄▃▄▄▂▂▃▃▂▁▂▁▃▂▅▄▄▂▃▃▂</td></tr><tr><td>eval/episode_success</td><td>▁▁▁▁▂▃▂▂▂▃▂▃▄▄▅▅▄▄▃▄▅▆▆▃▅▄▄▃▂▄▃█▄▅▅▆▄▄▃▅</td></tr><tr><td>eval/episode_success_any</td><td>▁▁▁▁▂▃▂▂▃▃▃▃▄▄▄▃▅▄▄▅▆▆▆▄▆▅▅▄▄▅▄▇▅▇▇█▅▅▅▇</td></tr><tr><td>eval/episode_success_easy</td><td>▂▁▁▂▃▄▄▄▄▅▅▅▆▆▆▅▆▆▅▆▇█▇▄▆▇▇▅▄▅▅█▆█▆█▆▆▆▆</td></tr><tr><td>eval/episode_success_hard</td><td>▁▁▁▁▁▁▁▁▁▁▁▁▁▁▁▁▁▁▁▁▁▁▁▁▁▁▁▁▁▁▁▁▁▁▁▁▁▁▁▁</td></tr><tr><td>step</td><td>▁▁▁▂▂▂▂▂▃▃▃▃▃▃▄▄▄▄▄▄▅▅▅▅▅▅▆▆▆▆▆▆▇▇▇▇▇███</td></tr><tr><td>training/actor_loss</td><td>▁▅▆▆▇▇▇█████████████████████████████████</td></tr><tr><td>training/alpha</td><td>▁█▁▁▁▁▁▁▁▁▁▁▁▁▁▁▁▁▁▁▁▁▁▁▁▁▁▁▁▁▁▁▁▁▁▁▁▁▁▁</td></tr><tr><td>training/alpha_loss</td><td>▁█▁▁▁▁▁▁▁▁▁▁▁▁▁▁▁▁▁▁▁▁▁▁▁▁▁▁▁▁▁▁▁▁▁▁▁▁▁▁</td></tr><tr><td>training/binary_accuracy</td><td>▁███████████████████████████████████████</td></tr><tr><td>training/c_target</td><td>▁▁▁▁▁▁▁▁▁▁▁▁▁▁▁▁▁▁▁▁▁▁▁▁▁▁▁▁▁▁▁▁▁▁▁▁▁▁▁▁</td></tr><tr><td>training/categorical_accuracy</td><td>▁███████████████████████████████████████</td></tr><tr><td>training/crl_critic_loss</td><td>▁█▆▆▅▅▅▅▅▅▅▅▅▅▅▅▅▅▅▅▅▅▅▅▅▅▅▅▅▅▅▅▅▅▅▅▅▅▅▅</td></tr><tr><td>training/entropy</td><td>▇█▁▁▁▁▁▁▁▁▁▁▁▁▁▁▁▁▁▁▁▁▁▁▁▁▁▁▁▁▁▁▁▁▁▁▁▁▁▁</td></tr><tr><td>training/g_repr_mean</td><td>▁▇█▇▄▄▄▄▄▄▄▄▄▄▄▄▄▄▄▄▄▄▄▄▄▄▄▄▄▄▄▄▄▄▄▄▄▄▄▄</td></tr><tr><td>training/g_repr_std</td><td>▁█▇▆▃▃▃▃▃▃▃▃▃▃▃▃▃▃▃▃▃▃▃▃▃▃▃▃▃▃▃▃▃▃▃▃▃▃▃▃</td></tr><tr><td>training/l_align</td><td>▁▇▆▆▇▇▇█████████████████████████████████</td></tr><tr><td>training/l_unif</td><td>██▇▆▃▃▂▂▂▂▁▁▁▁▁▁▁▁▁▁▁▁▁▁▁▁▁▁▁▁▁▁▁▁▁▁▁▁▁▁</td></tr><tr><td>training/logits_neg</td><td>█▁▁▃▅▅▅▅▅▅▅▅▅▅▅▅▅▅▅▅▅▅▅▅▅▅▅▅▅▅▅▅▅▅▅▅▅▅▅▅</td></tr><tr><td>training/logits_pos</td><td>█▂▃▃▂▂▂▁▁▁▁▁▁▁▁▁▁▁▁▁▁▁▁▁▁▁▁▁▁▁▁▁▁▁▁▁▁▁▁▁</td></tr><tr><td>training/logsumexp</td><td>▁▅▄▄▆▆▇▇▇▇▇▇▇▇██████████████████████████</td></tr><tr><td>training/sa_repr_mean</td><td>▁▇█▇▄▄▄▄▄▄▄▄▄▄▄▄▄▄▄▄▄▄▄▄▄▄▄▄▄▄▄▄▄▄▄▄▄▄▄▄</td></tr><tr><td>training/sa_repr_std</td><td>▁█▇▆▃▃▃▃▃▃▃▃▃▃▃▃▃▃▃▃▃▃▃▃▃▃▃▃▃▃▃▃▃▃▃▃▃▃▃▃</td></tr><tr><td>training/sps</td><td>▁▅██████████████████████████████████████</td></tr></table><br/></div><div class=\"wandb-col\"><h3>Run summary:</h3><br/><table class=\"wandb\"><tr><td>eval/episode_dist</td><td>1067.42334</td></tr><tr><td>eval/episode_reward_survive</td><td>497.14844</td></tr><tr><td>eval/episode_success</td><td>74.77344</td></tr><tr><td>eval/episode_success_any</td><td>0.23438</td></tr><tr><td>eval/episode_success_easy</td><td>209.89844</td></tr><tr><td>eval/episode_success_hard</td><td>0</td></tr><tr><td>step</td><td>50853888.0</td></tr><tr><td>training/actor_loss</td><td>1.41031</td></tr><tr><td>training/alpha</td><td>0.00124</td></tr><tr><td>training/alpha_loss</td><td>0.0</td></tr><tr><td>training/binary_accuracy</td><td>0.99609</td></tr><tr><td>training/c_target</td><td>0</td></tr><tr><td>training/categorical_accuracy</td><td>0.81533</td></tr><tr><td>training/crl_critic_loss</td><td>1.51727</td></tr><tr><td>training/entropy</td><td>-3.99857</td></tr><tr><td>training/g_repr_mean</td><td>12.25449</td></tr><tr><td>training/g_repr_std</td><td>1.93587</td></tr><tr><td>training/l_align</td><td>3.01335</td></tr><tr><td>training/l_unif</td><td>-1.62931</td></tr><tr><td>training/logits_neg</td><td>-15.04145</td></tr><tr><td>training/logits_pos</td><td>-1.50668</td></tr><tr><td>training/logsumexp</td><td>1.33226</td></tr><tr><td>training/sa_repr_mean</td><td>12.19998</td></tr><tr><td>training/sa_repr_std</td><td>1.97759</td></tr><tr><td>training/sps</td><td>36057.47797</td></tr></table><br/></div></div>"
      ]
     },
     "metadata": {},
     "output_type": "display_data"
    },
    {
     "data": {
      "text/plain": [
       "<IPython.core.display.HTML object>"
      ],
      "text/html": [
       " View run <strong style=\"color:#cdcd00\">ant_l_symmetric_infonce_ef_l2_p_0.1</strong> at: <a href='https://wandb.ai/cl-probing/logsumexp_penalty/runs/qwgo88pp' target=\"_blank\">https://wandb.ai/cl-probing/logsumexp_penalty/runs/qwgo88pp</a><br/> View job at <a href='https://wandb.ai/cl-probing/logsumexp_penalty/jobs/QXJ0aWZhY3RDb2xsZWN0aW9uOjM3NzgwMzA4NA==/version_details/v15' target=\"_blank\">https://wandb.ai/cl-probing/logsumexp_penalty/jobs/QXJ0aWZhY3RDb2xsZWN0aW9uOjM3NzgwMzA4NA==/version_details/v15</a><br/>Synced 6 W&B file(s), 1 media file(s), 3 artifact file(s) and 4 other file(s)"
      ]
     },
     "metadata": {},
     "output_type": "display_data"
    },
    {
     "data": {
      "text/plain": [
       "<IPython.core.display.HTML object>"
      ],
      "text/html": [
       "Find logs at: <code>./wandb/run-20240805_113007-qwgo88pp/logs</code>"
      ]
     },
     "metadata": {},
     "output_type": "display_data"
    },
    {
     "data": {
      "text/plain": [
       "<IPython.core.display.HTML object>"
      ],
      "text/html": [
       "wandb version 0.17.5 is available!  To upgrade, please run:\n",
       " $ pip install wandb --upgrade"
      ]
     },
     "metadata": {},
     "output_type": "display_data"
    },
    {
     "data": {
      "text/plain": [
       "<IPython.core.display.HTML object>"
      ],
      "text/html": [
       "Tracking run with wandb version 0.16.4"
      ]
     },
     "metadata": {},
     "output_type": "display_data"
    },
    {
     "data": {
      "text/plain": [
       "<IPython.core.display.HTML object>"
      ],
      "text/html": [
       "Run data is saved locally in <code>/home/mbortkie/repos/crl/notebooks/wandb/run-20240805_113025-j24b8mqz</code>"
      ]
     },
     "metadata": {},
     "output_type": "display_data"
    },
    {
     "data": {
      "text/plain": [
       "<IPython.core.display.HTML object>"
      ],
      "text/html": [
       "Syncing run <strong><a href='https://wandb.ai/cl-probing/logsumexp_penalty/runs/j24b8mqz' target=\"_blank\">ant_l_symmetric_infonce_ef_l2_p_0.1</a></strong> to <a href='https://wandb.ai/cl-probing/logsumexp_penalty' target=\"_blank\">Weights & Biases</a> (<a href='https://wandb.me/run' target=\"_blank\">docs</a>)<br/>"
      ]
     },
     "metadata": {},
     "output_type": "display_data"
    },
    {
     "data": {
      "text/plain": [
       "<IPython.core.display.HTML object>"
      ],
      "text/html": [
       " View project at <a href='https://wandb.ai/cl-probing/logsumexp_penalty' target=\"_blank\">https://wandb.ai/cl-probing/logsumexp_penalty</a>"
      ]
     },
     "metadata": {},
     "output_type": "display_data"
    },
    {
     "data": {
      "text/plain": [
       "<IPython.core.display.HTML object>"
      ],
      "text/html": [
       " View run at <a href='https://wandb.ai/cl-probing/logsumexp_penalty/runs/j24b8mqz' target=\"_blank\">https://wandb.ai/cl-probing/logsumexp_penalty/runs/j24b8mqz</a>"
      ]
     },
     "metadata": {},
     "output_type": "display_data"
    },
    {
     "data": {
      "text/plain": [
       "<IPython.core.display.HTML object>"
      ],
      "text/html": [
       "W&B sync reduced upload amount by 3.1%             "
      ]
     },
     "metadata": {},
     "output_type": "display_data"
    },
    {
     "data": {
      "text/plain": [
       "<IPython.core.display.HTML object>"
      ],
      "text/html": [
       "<style>\n",
       "    table.wandb td:nth-child(1) { padding: 0 10px; text-align: left ; width: auto;} td:nth-child(2) {text-align: left ; width: 100%}\n",
       "    .wandb-row { display: flex; flex-direction: row; flex-wrap: wrap; justify-content: flex-start; width: 100% }\n",
       "    .wandb-col { display: flex; flex-direction: column; flex-basis: 100%; flex: 1; padding: 10px; }\n",
       "    </style>\n",
       "<div class=\"wandb-row\"><div class=\"wandb-col\"><h3>Run history:</h3><br/><table class=\"wandb\"><tr><td>eval/episode_dist</td><td>▂█▅▂▁▂▃▃▃▂▃▃▂▂▃▃▂▂▁▃▂▂▂▂▂▂▂▂▂▁▂▂▁▂▂▁▂▁▂▁</td></tr><tr><td>eval/episode_reward_survive</td><td>▁█▅▂▁▃▄▃▅▃▅▅▄▄▅▆▄▅▄▅▅▅▆▆▆▆▆▆▆▄▅▄▄▅▅▃▄▃▄▃</td></tr><tr><td>eval/episode_success</td><td>▁▁▁▂▁▁▁▁▃▂▅▃▃▄▂▅▅▅▇▄▅▄▅▆▄▆█▆▅▄▅▄▆▄▃▄▅▄▄▄</td></tr><tr><td>eval/episode_success_any</td><td>▁▁▁▂▁▂▂▂▂▃▅▃▃▅▃▆▅▅▆▄▅▅▆▇▆▆██▅▅▆▄▇▆▅▅▅▆▅▆</td></tr><tr><td>eval/episode_success_easy</td><td>▁▁▂▂▂▃▄▃▅▄▆▅▅▆▅▆▆▆▇▆▆▆▇███▇█▇▆▆▅▆▇▆▅▆▅▅▅</td></tr><tr><td>eval/episode_success_hard</td><td>▁▁▁▁▁▁▁▁▁▁▁▁▁▁▁▁▁▁▁▁▁▁▁▁▁▁▁▁▁▁▁▁▁▁▁▁▁▁▁▁</td></tr><tr><td>step</td><td>▁▁▁▂▂▂▂▂▃▃▃▃▃▃▄▄▄▄▄▄▅▅▅▅▅▅▆▆▆▆▆▆▇▇▇▇▇███</td></tr><tr><td>training/actor_loss</td><td>▁▅▆▆▇▇██████████████████████████████████</td></tr><tr><td>training/alpha</td><td>▁█▁▁▁▁▁▁▁▁▁▁▁▁▁▁▁▁▁▁▁▁▁▁▁▁▁▁▁▁▁▁▁▁▁▁▁▁▁▁</td></tr><tr><td>training/alpha_loss</td><td>▁█▁▁▁▁▁▁▁▁▁▁▁▁▁▁▁▁▁▁▁▁▁▁▁▁▁▁▁▁▁▁▁▁▁▁▁▁▁▁</td></tr><tr><td>training/binary_accuracy</td><td>▁███████████████████████████████████████</td></tr><tr><td>training/c_target</td><td>▁▁▁▁▁▁▁▁▁▁▁▁▁▁▁▁▁▁▁▁▁▁▁▁▁▁▁▁▁▁▁▁▁▁▁▁▁▁▁▁</td></tr><tr><td>training/categorical_accuracy</td><td>▁███████████████████████████████████████</td></tr><tr><td>training/crl_critic_loss</td><td>▁█▆▆▅▅▅▅▅▅▅▅▅▅▅▅▅▅▅▅▅▅▅▅▅▅▅▅▅▅▅▅▅▅▅▅▅▅▅▅</td></tr><tr><td>training/entropy</td><td>██▁▁▁▁▁▁▁▁▁▁▁▁▁▁▁▁▁▁▁▁▁▁▁▁▁▁▁▁▁▁▁▁▁▁▁▁▁▁</td></tr><tr><td>training/g_repr_mean</td><td>▁██▆▅▅▅▅▅▅▅▅▅▅▅▅▅▅▅▅▅▅▅▅▅▅▅▅▅▅▅▅▅▅▅▅▅▅▅▅</td></tr><tr><td>training/g_repr_std</td><td>▁██▅▃▃▃▃▃▃▃▃▃▃▃▃▃▃▃▃▃▃▃▃▃▃▃▃▃▃▃▃▃▃▃▃▃▃▃▃</td></tr><tr><td>training/l_align</td><td>▁▇▆▆▇▇▇█████████████████████████████████</td></tr><tr><td>training/l_unif</td><td>██▇▆▃▂▂▂▂▂▂▂▁▁▁▁▁▁▁▁▁▁▁▁▁▁▁▁▁▁▁▁▁▁▁▁▁▁▁▁</td></tr><tr><td>training/logits_neg</td><td>█▁▁▃▅▅▅▅▅▅▅▅▅▅▅▅▅▅▅▅▅▅▅▄▄▄▄▄▄▄▄▄▄▄▄▄▄▄▄▄</td></tr><tr><td>training/logits_pos</td><td>█▂▃▃▂▂▂▁▁▁▁▁▁▁▁▁▁▁▁▁▁▁▁▁▁▁▁▁▁▁▁▁▁▁▁▁▁▁▁▁</td></tr><tr><td>training/logsumexp</td><td>▁▅▄▄▆▆▇▇▇▇▇▇▇▇▇▇▇▇▇▇▇▇██████████████████</td></tr><tr><td>training/sa_repr_mean</td><td>▁██▆▅▅▅▅▅▅▅▅▅▅▅▅▅▅▅▅▅▅▅▅▅▅▅▅▅▅▅▅▅▅▅▅▅▅▅▅</td></tr><tr><td>training/sa_repr_std</td><td>▁██▅▃▃▃▃▃▃▃▃▃▃▃▃▃▃▃▃▃▃▃▃▃▃▃▃▃▃▃▃▃▃▃▃▃▃▃▃</td></tr><tr><td>training/sps</td><td>▁▅██████████████████████████████████████</td></tr></table><br/></div><div class=\"wandb-col\"><h3>Run summary:</h3><br/><table class=\"wandb\"><tr><td>eval/episode_dist</td><td>995.47235</td></tr><tr><td>eval/episode_reward_survive</td><td>496.15625</td></tr><tr><td>eval/episode_success</td><td>52.375</td></tr><tr><td>eval/episode_success_any</td><td>0.20312</td></tr><tr><td>eval/episode_success_easy</td><td>248.24219</td></tr><tr><td>eval/episode_success_hard</td><td>0</td></tr><tr><td>step</td><td>50853888.0</td></tr><tr><td>training/actor_loss</td><td>1.50113</td></tr><tr><td>training/alpha</td><td>0.00159</td></tr><tr><td>training/alpha_loss</td><td>-0.0</td></tr><tr><td>training/binary_accuracy</td><td>0.99609</td></tr><tr><td>training/c_target</td><td>0</td></tr><tr><td>training/categorical_accuracy</td><td>0.80198</td></tr><tr><td>training/crl_critic_loss</td><td>1.62965</td></tr><tr><td>training/entropy</td><td>-4.001</td></tr><tr><td>training/g_repr_mean</td><td>13.60162</td></tr><tr><td>training/g_repr_std</td><td>1.85859</td></tr><tr><td>training/l_align</td><td>3.2311</td></tr><tr><td>training/l_unif</td><td>-1.74351</td></tr><tr><td>training/logits_neg</td><td>-15.67099</td></tr><tr><td>training/logits_pos</td><td>-1.61555</td></tr><tr><td>training/logsumexp</td><td>1.42064</td></tr><tr><td>training/sa_repr_mean</td><td>13.54516</td></tr><tr><td>training/sa_repr_std</td><td>1.89393</td></tr><tr><td>training/sps</td><td>35932.73469</td></tr></table><br/></div></div>"
      ]
     },
     "metadata": {},
     "output_type": "display_data"
    },
    {
     "data": {
      "text/plain": [
       "<IPython.core.display.HTML object>"
      ],
      "text/html": [
       " View run <strong style=\"color:#cdcd00\">ant_l_symmetric_infonce_ef_l2_p_0.1</strong> at: <a href='https://wandb.ai/cl-probing/logsumexp_penalty/runs/j24b8mqz' target=\"_blank\">https://wandb.ai/cl-probing/logsumexp_penalty/runs/j24b8mqz</a><br/> View job at <a href='https://wandb.ai/cl-probing/logsumexp_penalty/jobs/QXJ0aWZhY3RDb2xsZWN0aW9uOjM3NzgwMzA4NA==/version_details/v16' target=\"_blank\">https://wandb.ai/cl-probing/logsumexp_penalty/jobs/QXJ0aWZhY3RDb2xsZWN0aW9uOjM3NzgwMzA4NA==/version_details/v16</a><br/>Synced 6 W&B file(s), 1 media file(s), 3 artifact file(s) and 4 other file(s)"
      ]
     },
     "metadata": {},
     "output_type": "display_data"
    },
    {
     "data": {
      "text/plain": [
       "<IPython.core.display.HTML object>"
      ],
      "text/html": [
       "Find logs at: <code>./wandb/run-20240805_113025-j24b8mqz/logs</code>"
      ]
     },
     "metadata": {},
     "output_type": "display_data"
    },
    {
     "data": {
      "text/plain": [
       "<IPython.core.display.HTML object>"
      ],
      "text/html": [
       "wandb version 0.17.5 is available!  To upgrade, please run:\n",
       " $ pip install wandb --upgrade"
      ]
     },
     "metadata": {},
     "output_type": "display_data"
    },
    {
     "data": {
      "text/plain": [
       "<IPython.core.display.HTML object>"
      ],
      "text/html": [
       "Tracking run with wandb version 0.16.4"
      ]
     },
     "metadata": {},
     "output_type": "display_data"
    },
    {
     "data": {
      "text/plain": [
       "<IPython.core.display.HTML object>"
      ],
      "text/html": [
       "Run data is saved locally in <code>/home/mbortkie/repos/crl/notebooks/wandb/run-20240805_113042-5slmt9c6</code>"
      ]
     },
     "metadata": {},
     "output_type": "display_data"
    },
    {
     "data": {
      "text/plain": [
       "<IPython.core.display.HTML object>"
      ],
      "text/html": [
       "Syncing run <strong><a href='https://wandb.ai/cl-probing/logsumexp_penalty/runs/5slmt9c6' target=\"_blank\">ant_l_symmetric_infonce_ef_l2_p_0.1</a></strong> to <a href='https://wandb.ai/cl-probing/logsumexp_penalty' target=\"_blank\">Weights & Biases</a> (<a href='https://wandb.me/run' target=\"_blank\">docs</a>)<br/>"
      ]
     },
     "metadata": {},
     "output_type": "display_data"
    },
    {
     "data": {
      "text/plain": [
       "<IPython.core.display.HTML object>"
      ],
      "text/html": [
       " View project at <a href='https://wandb.ai/cl-probing/logsumexp_penalty' target=\"_blank\">https://wandb.ai/cl-probing/logsumexp_penalty</a>"
      ]
     },
     "metadata": {},
     "output_type": "display_data"
    },
    {
     "data": {
      "text/plain": [
       "<IPython.core.display.HTML object>"
      ],
      "text/html": [
       " View run at <a href='https://wandb.ai/cl-probing/logsumexp_penalty/runs/5slmt9c6' target=\"_blank\">https://wandb.ai/cl-probing/logsumexp_penalty/runs/5slmt9c6</a>"
      ]
     },
     "metadata": {},
     "output_type": "display_data"
    },
    {
     "data": {
      "text/plain": [
       "<IPython.core.display.HTML object>"
      ],
      "text/html": [
       "W&B sync reduced upload amount by 3.2%             "
      ]
     },
     "metadata": {},
     "output_type": "display_data"
    },
    {
     "data": {
      "text/plain": [
       "<IPython.core.display.HTML object>"
      ],
      "text/html": [
       "<style>\n",
       "    table.wandb td:nth-child(1) { padding: 0 10px; text-align: left ; width: auto;} td:nth-child(2) {text-align: left ; width: 100%}\n",
       "    .wandb-row { display: flex; flex-direction: row; flex-wrap: wrap; justify-content: flex-start; width: 100% }\n",
       "    .wandb-col { display: flex; flex-direction: column; flex-basis: 100%; flex: 1; padding: 10px; }\n",
       "    </style>\n",
       "<div class=\"wandb-row\"><div class=\"wandb-col\"><h3>Run history:</h3><br/><table class=\"wandb\"><tr><td>eval/episode_dist</td><td>▄██▆▇▇▅▇▆▆▅▄▄▅▃▄▄▃▂▃▃▂▂▂▂▂▂▂▂▂▃▁▃▃▃▁▂▃▂▃</td></tr><tr><td>eval/episode_reward_survive</td><td>▁▇▆▄▆▇▅█▆▆▆▅▆▅▄▆▅▅▃▃▄▃▅▂▂▃▃▃▂▃▄▂▅▄▅▂▄▅▄▄</td></tr><tr><td>eval/episode_success</td><td>▁▁▁▁▃▁▂▃▁▂▂▆▆▂▄▃▂▅▅▂▆▅▇▃▅▅▄▆▃▄▆▅█▄▄█▄█▇▆</td></tr><tr><td>eval/episode_success_any</td><td>▁▁▁▁▂▂▂▃▂▁▄▅▄▃▅▃▂▄▄▃▅▆▇▄▅▄▅▆▅▅▇▆▇▆▇█▆▇▇▇</td></tr><tr><td>eval/episode_success_easy</td><td>▁▁▁▂▃▃▄▄▄▄▅▆█▅▅▇▅▇▇▅▇▇█▅▅▆▆▆▆▆▇▆▇▇██▇██▇</td></tr><tr><td>eval/episode_success_hard</td><td>▁▁▁▁▁▁▁▁▁▁▁▁▁▁▁▁▁▁▁▁▁▁▁▁▁▁▁▁▁▁▁▁▁▁▁▁▁▁▁▁</td></tr><tr><td>step</td><td>▁▁▁▂▂▂▂▂▃▃▃▃▃▃▄▄▄▄▄▄▅▅▅▅▅▅▆▆▆▆▆▆▇▇▇▇▇███</td></tr><tr><td>training/actor_loss</td><td>▁▅▆▆▇▇▇▇▇██████████████▇████████████████</td></tr><tr><td>training/alpha</td><td>▁█▁▁▁▁▁▁▁▁▁▁▁▁▁▁▁▁▁▁▁▁▁▁▁▁▁▁▁▁▁▁▁▁▁▁▁▁▁▁</td></tr><tr><td>training/alpha_loss</td><td>▁█▁▁▁▁▁▁▁▁▁▁▁▁▁▁▁▁▁▁▁▁▁▁▁▁▁▁▁▁▁▁▁▁▁▁▁▁▁▁</td></tr><tr><td>training/binary_accuracy</td><td>▁███████████████████████████████████████</td></tr><tr><td>training/c_target</td><td>▁▁▁▁▁▁▁▁▁▁▁▁▁▁▁▁▁▁▁▁▁▁▁▁▁▁▁▁▁▁▁▁▁▁▁▁▁▁▁▁</td></tr><tr><td>training/categorical_accuracy</td><td>▁███████████████████████████████████████</td></tr><tr><td>training/crl_critic_loss</td><td>▁█▇▆▆▅▆▅▅▆▆▆▆▅▅▅▅▅▅▅▅▅▅▅▅▅▅▅▅▅▅▅▆▅▅▅▅▅▅▅</td></tr><tr><td>training/entropy</td><td>▇█▁▁▁▁▁▁▁▁▁▁▁▁▁▁▁▁▁▁▁▁▁▁▁▁▁▁▁▁▁▁▁▁▁▁▁▁▁▁</td></tr><tr><td>training/g_repr_mean</td><td>▁██▇▅▄▄▄▄▄▄▄▄▄▄▄▄▄▄▄▄▄▄▄▄▄▄▄▄▄▄▄▄▄▄▄▄▄▄▄</td></tr><tr><td>training/g_repr_std</td><td>▁▇██▃▃▃▂▂▂▂▃▃▃▃▃▃▃▃▃▃▃▃▃▃▃▃▃▃▃▃▃▃▃▃▃▃▃▃▃</td></tr><tr><td>training/l_align</td><td>▁▇▆▆▇▇▇▇▇██████████████▇████████████████</td></tr><tr><td>training/l_unif</td><td>██▇▆▄▃▃▃▂▂▂▂▂▂▂▁▁▁▁▁▁▁▁▁▁▁▁▁▁▁▁▁▁▁▁▁▁▁▁▁</td></tr><tr><td>training/logits_neg</td><td>█▁▁▂▅▅▅▅▅▅▅▅▅▅▅▅▅▅▅▅▅▅▅▅▅▅▅▅▅▅▅▅▅▅▅▅▅▅▅▅</td></tr><tr><td>training/logits_pos</td><td>█▂▃▃▂▂▂▂▂▁▁▁▁▁▁▁▁▁▁▁▁▁▁▂▁▁▁▁▁▁▁▁▁▁▁▁▁▁▁▁</td></tr><tr><td>training/logsumexp</td><td>▁▅▄▄▅▆▆▆▇▇▇▇▇▇▇▇████████████████████████</td></tr><tr><td>training/sa_repr_mean</td><td>▁██▇▅▄▄▄▄▄▄▄▄▄▄▄▄▄▄▄▄▄▄▄▄▄▄▄▄▄▄▄▄▄▄▄▄▄▄▄</td></tr><tr><td>training/sa_repr_std</td><td>▁▇██▃▃▃▂▂▂▂▃▃▃▃▃▃▃▃▃▃▃▃▃▃▃▃▃▃▃▃▃▃▃▃▃▃▃▃▃</td></tr><tr><td>training/sps</td><td>▁▅██████████████████████████████████████</td></tr></table><br/></div><div class=\"wandb-col\"><h3>Run summary:</h3><br/><table class=\"wandb\"><tr><td>eval/episode_dist</td><td>1585.57117</td></tr><tr><td>eval/episode_reward_survive</td><td>696.59375</td></tr><tr><td>eval/episode_success</td><td>61.17969</td></tr><tr><td>eval/episode_success_any</td><td>0.20312</td></tr><tr><td>eval/episode_success_easy</td><td>309.55469</td></tr><tr><td>eval/episode_success_hard</td><td>0</td></tr><tr><td>step</td><td>50853888.0</td></tr><tr><td>training/actor_loss</td><td>1.43405</td></tr><tr><td>training/alpha</td><td>0.00133</td></tr><tr><td>training/alpha_loss</td><td>-0.0</td></tr><tr><td>training/binary_accuracy</td><td>0.99609</td></tr><tr><td>training/c_target</td><td>0</td></tr><tr><td>training/categorical_accuracy</td><td>0.81043</td></tr><tr><td>training/crl_critic_loss</td><td>1.557</td></tr><tr><td>training/entropy</td><td>-4.00127</td></tr><tr><td>training/g_repr_mean</td><td>12.38904</td></tr><tr><td>training/g_repr_std</td><td>2.28783</td></tr><tr><td>training/l_align</td><td>3.07</td></tr><tr><td>training/l_unif</td><td>-1.64824</td></tr><tr><td>training/logits_neg</td><td>-15.32257</td></tr><tr><td>training/logits_pos</td><td>-1.535</td></tr><tr><td>training/logsumexp</td><td>1.35233</td></tr><tr><td>training/sa_repr_mean</td><td>12.33327</td></tr><tr><td>training/sa_repr_std</td><td>2.32011</td></tr><tr><td>training/sps</td><td>35823.97698</td></tr></table><br/></div></div>"
      ]
     },
     "metadata": {},
     "output_type": "display_data"
    },
    {
     "data": {
      "text/plain": [
       "<IPython.core.display.HTML object>"
      ],
      "text/html": [
       " View run <strong style=\"color:#cdcd00\">ant_l_symmetric_infonce_ef_l2_p_0.1</strong> at: <a href='https://wandb.ai/cl-probing/logsumexp_penalty/runs/5slmt9c6' target=\"_blank\">https://wandb.ai/cl-probing/logsumexp_penalty/runs/5slmt9c6</a><br/> View job at <a href='https://wandb.ai/cl-probing/logsumexp_penalty/jobs/QXJ0aWZhY3RDb2xsZWN0aW9uOjM3NzgwMzA4NA==/version_details/v17' target=\"_blank\">https://wandb.ai/cl-probing/logsumexp_penalty/jobs/QXJ0aWZhY3RDb2xsZWN0aW9uOjM3NzgwMzA4NA==/version_details/v17</a><br/>Synced 6 W&B file(s), 1 media file(s), 3 artifact file(s) and 4 other file(s)"
      ]
     },
     "metadata": {},
     "output_type": "display_data"
    },
    {
     "data": {
      "text/plain": [
       "<IPython.core.display.HTML object>"
      ],
      "text/html": [
       "Find logs at: <code>./wandb/run-20240805_113042-5slmt9c6/logs</code>"
      ]
     },
     "metadata": {},
     "output_type": "display_data"
    },
    {
     "data": {
      "text/plain": [
       "<IPython.core.display.HTML object>"
      ],
      "text/html": [
       "wandb version 0.17.5 is available!  To upgrade, please run:\n",
       " $ pip install wandb --upgrade"
      ]
     },
     "metadata": {},
     "output_type": "display_data"
    },
    {
     "data": {
      "text/plain": [
       "<IPython.core.display.HTML object>"
      ],
      "text/html": [
       "Tracking run with wandb version 0.16.4"
      ]
     },
     "metadata": {},
     "output_type": "display_data"
    },
    {
     "data": {
      "text/plain": [
       "<IPython.core.display.HTML object>"
      ],
      "text/html": [
       "Run data is saved locally in <code>/home/mbortkie/repos/crl/notebooks/wandb/run-20240805_113101-s8knmfp6</code>"
      ]
     },
     "metadata": {},
     "output_type": "display_data"
    },
    {
     "data": {
      "text/plain": [
       "<IPython.core.display.HTML object>"
      ],
      "text/html": [
       "Syncing run <strong><a href='https://wandb.ai/cl-probing/logsumexp_penalty/runs/s8knmfp6' target=\"_blank\">ant_l_symmetric_infonce_ef_l2_p_0.1</a></strong> to <a href='https://wandb.ai/cl-probing/logsumexp_penalty' target=\"_blank\">Weights & Biases</a> (<a href='https://wandb.me/run' target=\"_blank\">docs</a>)<br/>"
      ]
     },
     "metadata": {},
     "output_type": "display_data"
    },
    {
     "data": {
      "text/plain": [
       "<IPython.core.display.HTML object>"
      ],
      "text/html": [
       " View project at <a href='https://wandb.ai/cl-probing/logsumexp_penalty' target=\"_blank\">https://wandb.ai/cl-probing/logsumexp_penalty</a>"
      ]
     },
     "metadata": {},
     "output_type": "display_data"
    },
    {
     "data": {
      "text/plain": [
       "<IPython.core.display.HTML object>"
      ],
      "text/html": [
       " View run at <a href='https://wandb.ai/cl-probing/logsumexp_penalty/runs/s8knmfp6' target=\"_blank\">https://wandb.ai/cl-probing/logsumexp_penalty/runs/s8knmfp6</a>"
      ]
     },
     "metadata": {},
     "output_type": "display_data"
    },
    {
     "data": {
      "text/plain": [
       "<IPython.core.display.HTML object>"
      ],
      "text/html": [
       "W&B sync reduced upload amount by 3.1%             "
      ]
     },
     "metadata": {},
     "output_type": "display_data"
    },
    {
     "data": {
      "text/plain": [
       "<IPython.core.display.HTML object>"
      ],
      "text/html": [
       "<style>\n",
       "    table.wandb td:nth-child(1) { padding: 0 10px; text-align: left ; width: auto;} td:nth-child(2) {text-align: left ; width: 100%}\n",
       "    .wandb-row { display: flex; flex-direction: row; flex-wrap: wrap; justify-content: flex-start; width: 100% }\n",
       "    .wandb-col { display: flex; flex-direction: column; flex-basis: 100%; flex: 1; padding: 10px; }\n",
       "    </style>\n",
       "<div class=\"wandb-row\"><div class=\"wandb-col\"><h3>Run history:</h3><br/><table class=\"wandb\"><tr><td>eval/episode_dist</td><td>▃█▇▇▇▇▅▅▆▅▄▄▄▃▂▃▂▃▃▂▂▂▂▂▃▁▂▁▁▂▂▁▂▂▂▁▁▁▂▂</td></tr><tr><td>eval/episode_reward_survive</td><td>▁█▇▇▇▇▅▆▇▇▅▅▅▃▃▃▂▄▄▄▃▄▃▃▄▂▃▂▂▃▂▂▃▃▂▁▁▄▄▃</td></tr><tr><td>eval/episode_success</td><td>▁▁▁▁▁▁▂▃▂▃▂▂▂▃▆▃▄▂▄▅▃▆▃▃▅▅▃▄▆▃▅▄▂▄▃▃▂█▆▆</td></tr><tr><td>eval/episode_success_any</td><td>▁▁▁▁▁▁▂▃▂▃▂▂▃▃▅▄▄▃▄▆▄▆▄▃▅▆▆▅█▅▆▅▆▅▅▄▅▇▇▇</td></tr><tr><td>eval/episode_success_easy</td><td>▁▁▂▂▃▃▃▅▅▅▅▄▅▄▅▅▅▆▅▆▅█▅▆▆▆▆▅▆▅▅▅▆▆▅▅▅█▆▆</td></tr><tr><td>eval/episode_success_hard</td><td>▁▁▁▁▁▁▁▁▁▁▁▁▁▁▁▁▁▁▁▁▁▁▁▁▁▁▁▁▁▁▁▁▁▁▁▁▁▁▁▁</td></tr><tr><td>step</td><td>▁▁▁▂▂▂▂▂▃▃▃▃▃▃▄▄▄▄▄▄▅▅▅▅▅▅▆▆▆▆▆▆▇▇▇▇▇███</td></tr><tr><td>training/actor_loss</td><td>▁▆▆▆▇▇▇█████████████████████████████████</td></tr><tr><td>training/alpha</td><td>▁█▁▁▁▁▁▁▁▁▁▁▁▁▁▁▁▁▁▁▁▁▁▁▁▁▁▁▁▁▁▁▁▁▁▁▁▁▁▁</td></tr><tr><td>training/alpha_loss</td><td>▁█▁▁▁▁▁▁▁▁▁▁▁▁▁▁▁▁▁▁▁▁▁▁▁▁▁▁▁▁▁▁▁▁▁▁▁▁▁▁</td></tr><tr><td>training/binary_accuracy</td><td>▁███████████████████████████████████████</td></tr><tr><td>training/c_target</td><td>▁▁▁▁▁▁▁▁▁▁▁▁▁▁▁▁▁▁▁▁▁▁▁▁▁▁▁▁▁▁▁▁▁▁▁▁▁▁▁▁</td></tr><tr><td>training/categorical_accuracy</td><td>▁███████████████████████████████████████</td></tr><tr><td>training/crl_critic_loss</td><td>▁█▆▆▅▅▅▅▅▅▅▅▅▅▅▅▅▅▅▅▅▅▅▅▅▅▅▅▅▅▅▅▅▅▅▅▅▅▅▅</td></tr><tr><td>training/entropy</td><td>▇█▁▁▁▁▁▁▁▁▁▁▁▁▁▁▁▁▁▁▁▁▁▁▁▁▁▁▁▁▁▁▁▁▁▁▁▁▁▁</td></tr><tr><td>training/g_repr_mean</td><td>▁▇█▇▅▅▄▄▄▄▄▄▄▄▄▄▄▄▄▄▄▄▄▄▄▄▄▄▄▄▄▄▄▄▄▄▄▄▄▄</td></tr><tr><td>training/g_repr_std</td><td>▁█▇▆▄▄▃▃▃▃▃▃▃▃▃▃▃▃▃▃▃▃▃▃▃▃▃▃▄▃▄▄▃▃▄▃▃▃▃▃</td></tr><tr><td>training/l_align</td><td>▁▇▆▆▇▇▇▇████████████████████████████████</td></tr><tr><td>training/l_unif</td><td>██▇▆▃▃▂▂▂▂▂▂▁▁▁▁▁▁▁▁▁▁▁▁▁▁▁▁▁▁▁▁▁▁▁▁▁▁▁▁</td></tr><tr><td>training/logits_neg</td><td>█▁▁▃▅▅▅▅▅▅▅▅▅▅▅▅▅▅▅▅▅▅▅▅▅▅▅▅▅▅▅▅▅▅▅▅▅▅▅▅</td></tr><tr><td>training/logits_pos</td><td>█▂▃▃▂▂▂▂▁▁▁▁▁▁▁▁▁▁▁▁▁▁▁▁▁▁▁▁▁▁▁▁▁▁▁▁▁▁▁▁</td></tr><tr><td>training/logsumexp</td><td>▁▅▄▄▆▆▆▇▇▇▇▇▇███████████████████████████</td></tr><tr><td>training/sa_repr_mean</td><td>▁▇█▇▅▅▄▄▄▄▄▄▄▄▄▄▄▄▄▄▄▄▄▄▄▄▄▄▄▄▄▄▄▄▄▄▄▄▄▄</td></tr><tr><td>training/sa_repr_std</td><td>▁█▇▆▄▄▃▃▃▃▃▃▃▃▃▃▃▃▃▃▃▃▃▃▃▃▃▄▄▄▄▄▃▄▄▄▄▃▄▄</td></tr><tr><td>training/sps</td><td>▁▅██████████████████████████████████████</td></tr></table><br/></div><div class=\"wandb-col\"><h3>Run summary:</h3><br/><table class=\"wandb\"><tr><td>eval/episode_dist</td><td>1143.7063</td></tr><tr><td>eval/episode_reward_survive</td><td>546.39062</td></tr><tr><td>eval/episode_success</td><td>78.11719</td></tr><tr><td>eval/episode_success_any</td><td>0.21875</td></tr><tr><td>eval/episode_success_easy</td><td>252.71875</td></tr><tr><td>eval/episode_success_hard</td><td>0</td></tr><tr><td>step</td><td>50853888.0</td></tr><tr><td>training/actor_loss</td><td>1.39993</td></tr><tr><td>training/alpha</td><td>0.00116</td></tr><tr><td>training/alpha_loss</td><td>0.0</td></tr><tr><td>training/binary_accuracy</td><td>0.99609</td></tr><tr><td>training/c_target</td><td>0</td></tr><tr><td>training/categorical_accuracy</td><td>0.81682</td></tr><tr><td>training/crl_critic_loss</td><td>1.5099</td></tr><tr><td>training/entropy</td><td>-4.00007</td></tr><tr><td>training/g_repr_mean</td><td>12.90586</td></tr><tr><td>training/g_repr_std</td><td>2.34904</td></tr><tr><td>training/l_align</td><td>2.98467</td></tr><tr><td>training/l_unif</td><td>-1.60776</td></tr><tr><td>training/logits_neg</td><td>-14.46849</td></tr><tr><td>training/logits_pos</td><td>-1.49234</td></tr><tr><td>training/logsumexp</td><td>1.32984</td></tr><tr><td>training/sa_repr_mean</td><td>12.84789</td></tr><tr><td>training/sa_repr_std</td><td>2.38662</td></tr><tr><td>training/sps</td><td>35815.42272</td></tr></table><br/></div></div>"
      ]
     },
     "metadata": {},
     "output_type": "display_data"
    },
    {
     "data": {
      "text/plain": [
       "<IPython.core.display.HTML object>"
      ],
      "text/html": [
       " View run <strong style=\"color:#cdcd00\">ant_l_symmetric_infonce_ef_l2_p_0.1</strong> at: <a href='https://wandb.ai/cl-probing/logsumexp_penalty/runs/s8knmfp6' target=\"_blank\">https://wandb.ai/cl-probing/logsumexp_penalty/runs/s8knmfp6</a><br/> View job at <a href='https://wandb.ai/cl-probing/logsumexp_penalty/jobs/QXJ0aWZhY3RDb2xsZWN0aW9uOjM3NzgwMzA4NA==/version_details/v18' target=\"_blank\">https://wandb.ai/cl-probing/logsumexp_penalty/jobs/QXJ0aWZhY3RDb2xsZWN0aW9uOjM3NzgwMzA4NA==/version_details/v18</a><br/>Synced 6 W&B file(s), 1 media file(s), 3 artifact file(s) and 4 other file(s)"
      ]
     },
     "metadata": {},
     "output_type": "display_data"
    },
    {
     "data": {
      "text/plain": [
       "<IPython.core.display.HTML object>"
      ],
      "text/html": [
       "Find logs at: <code>./wandb/run-20240805_113101-s8knmfp6/logs</code>"
      ]
     },
     "metadata": {},
     "output_type": "display_data"
    },
    {
     "data": {
      "text/plain": [
       "<IPython.core.display.HTML object>"
      ],
      "text/html": [
       "wandb version 0.17.5 is available!  To upgrade, please run:\n",
       " $ pip install wandb --upgrade"
      ]
     },
     "metadata": {},
     "output_type": "display_data"
    },
    {
     "data": {
      "text/plain": [
       "<IPython.core.display.HTML object>"
      ],
      "text/html": [
       "Tracking run with wandb version 0.16.4"
      ]
     },
     "metadata": {},
     "output_type": "display_data"
    },
    {
     "data": {
      "text/plain": [
       "<IPython.core.display.HTML object>"
      ],
      "text/html": [
       "Run data is saved locally in <code>/home/mbortkie/repos/crl/notebooks/wandb/run-20240805_113120-n473las1</code>"
      ]
     },
     "metadata": {},
     "output_type": "display_data"
    },
    {
     "data": {
      "text/plain": [
       "<IPython.core.display.HTML object>"
      ],
      "text/html": [
       "Syncing run <strong><a href='https://wandb.ai/cl-probing/logsumexp_penalty/runs/n473las1' target=\"_blank\">ant_l_symmetric_infonce_ef_l2_p_0.1</a></strong> to <a href='https://wandb.ai/cl-probing/logsumexp_penalty' target=\"_blank\">Weights & Biases</a> (<a href='https://wandb.me/run' target=\"_blank\">docs</a>)<br/>"
      ]
     },
     "metadata": {},
     "output_type": "display_data"
    },
    {
     "data": {
      "text/plain": [
       "<IPython.core.display.HTML object>"
      ],
      "text/html": [
       " View project at <a href='https://wandb.ai/cl-probing/logsumexp_penalty' target=\"_blank\">https://wandb.ai/cl-probing/logsumexp_penalty</a>"
      ]
     },
     "metadata": {},
     "output_type": "display_data"
    },
    {
     "data": {
      "text/plain": [
       "<IPython.core.display.HTML object>"
      ],
      "text/html": [
       " View run at <a href='https://wandb.ai/cl-probing/logsumexp_penalty/runs/n473las1' target=\"_blank\">https://wandb.ai/cl-probing/logsumexp_penalty/runs/n473las1</a>"
      ]
     },
     "metadata": {},
     "output_type": "display_data"
    },
    {
     "data": {
      "text/plain": [
       "<IPython.core.display.HTML object>"
      ],
      "text/html": [
       "W&B sync reduced upload amount by 3.4%             "
      ]
     },
     "metadata": {},
     "output_type": "display_data"
    },
    {
     "data": {
      "text/plain": [
       "<IPython.core.display.HTML object>"
      ],
      "text/html": [
       "<style>\n",
       "    table.wandb td:nth-child(1) { padding: 0 10px; text-align: left ; width: auto;} td:nth-child(2) {text-align: left ; width: 100%}\n",
       "    .wandb-row { display: flex; flex-direction: row; flex-wrap: wrap; justify-content: flex-start; width: 100% }\n",
       "    .wandb-col { display: flex; flex-direction: column; flex-basis: 100%; flex: 1; padding: 10px; }\n",
       "    </style>\n",
       "<div class=\"wandb-row\"><div class=\"wandb-col\"><h3>Run history:</h3><br/><table class=\"wandb\"><tr><td>eval/episode_dist</td><td>▇█▄▂▂▁▁▁▁▁▁▂▁▂▂▂▂▂▁▂▂▂▁▂▂▂▂▂▂▂▂▂▂▂▂▂▂▂▂▂</td></tr><tr><td>eval/episode_reward_survive</td><td>▂▄▄▁▆▅▅▆▇▇▇▇▅█▆█▅▅▅▇▆▇▆▇▇▆▇▇▆▇▆▇▇▆▆▅▅▅▅▅</td></tr><tr><td>eval/episode_success</td><td>▁▁▁▂▄▄▅▆█▇▇▆▅▆▆▇▄▄▅▆▅▆▅▅▆▅▆▆▅▅▆▆▅▅▆▅▅▄▅▅</td></tr><tr><td>eval/episode_success_any</td><td>▁▁▂▃▆▆▆▆▇▇▇█▇▇▇█▆▆▇▇▇█▇▇▇▇▇█▇▇▇▇▇▇▇▆▇▇▇▇</td></tr><tr><td>eval/episode_success_easy</td><td>▁▁▂▃▆▇▆▇████▆▇▇█▆▆▆▇▆▇▇▇▇▆▇▇▇▇▇▇▇▆▆▆▆▅▆▆</td></tr><tr><td>eval/episode_success_hard</td><td>▁▁▁▁▁▁▁▁▁▁▁▁▁▁▁▁▁▁▁▁▁▁▁▁▁▁▁▁▁▁▁▁▁▁▁▁▁▁▁▁</td></tr><tr><td>step</td><td>▁▁▁▂▂▂▂▂▃▃▃▃▃▃▄▄▄▄▄▄▅▅▅▅▅▅▆▆▆▆▆▆▇▇▇▇▇███</td></tr><tr><td>training/actor_loss</td><td>▁███▇▇▆▆▆▆▆▆▆▆▆▆▆▆▆▆▆▆▆▆▆▆▆▆▆▆▆▆▆▆▆▆▆▆▆▆</td></tr><tr><td>training/alpha</td><td>▁█▂▂▂▂▂▂▂▂▂▂▂▂▂▂▂▂▂▂▂▂▂▂▂▂▂▂▂▂▂▂▂▂▂▂▂▂▂▂</td></tr><tr><td>training/alpha_loss</td><td>▁█▁▁▁▁▁▁▁▁▁▁▁▁▁▁▁▁▁▁▁▁▁▁▁▁▁▁▁▁▁▁▁▁▁▁▁▁▁▁</td></tr><tr><td>training/binary_accuracy</td><td>▁███████████████████████████████████████</td></tr><tr><td>training/c_target</td><td>▁▁▁▁▁▁▁▁▁▁▁▁▁▁▁▁▁▁▁▁▁▁▁▁▁▁▁▁▁▁▁▁▁▁▁▁▁▁▁▁</td></tr><tr><td>training/categorical_accuracy</td><td>▁▅▆▆▇███████████████████████████████████</td></tr><tr><td>training/crl_critic_loss</td><td>▁██▇▆▆▆▆▅▅▅▅▅▅▅▅▅▅▅▅▅▅▅▅▅▅▅▅▅▅▅▅▅▅▅▅▅▅▅▅</td></tr><tr><td>training/entropy</td><td>█▆▁▁▁▁▁▁▁▁▁▁▁▁▁▁▁▁▁▁▁▁▁▁▁▁▁▁▁▁▁▁▁▁▁▁▁▁▁▁</td></tr><tr><td>training/g_repr_mean</td><td>▁▅▅▅▆▇▇▇███████▇▇▇▇▇▇▇▇▇▇▇▇▇▇▇▇▇▇▇▇▇▇▆▆▆</td></tr><tr><td>training/g_repr_std</td><td>▁█▇▆████▇▇▆▆▆▅▅▅▅▅▆▆▆▆▆▆▆▆▆▆▆▆▆▆▆▆▆▆▆▆▆▆</td></tr><tr><td>training/l_align</td><td>▁███▇▇▇▇▆▆▆▆▆▆▆▆▆▆▆▆▆▆▆▆▆▆▆▆▆▆▆▆▆▆▆▆▆▆▆▆</td></tr><tr><td>training/l_unif</td><td>█▇▅▃▂▁▁▁▁▂▂▂▂▂▂▂▂▂▂▂▂▂▂▁▁▁▁▁▁▁▁▁▁▁▁▁▁▁▁▁</td></tr><tr><td>training/logits_neg</td><td>█▃▃▃▂▂▁▁▁▁▁▁▁▁▁▁▁▁▁▁▁▁▁▁▁▁▁▁▁▁▁▁▁▁▁▁▁▁▁▁</td></tr><tr><td>training/logits_pos</td><td>█▁▁▁▂▂▂▂▃▃▃▃▃▃▃▃▃▃▃▃▃▃▃▃▃▃▃▃▃▃▃▃▃▃▃▃▃▃▃▃</td></tr><tr><td>training/logsumexp</td><td>▁▄▄▅▇▇▇▇██▇▇▇▇▇▇▇▇▇▇▇▇██████████████████</td></tr><tr><td>training/sa_repr_mean</td><td>▁▄▄▅▆▇▇▇███████▇▇▇▇▇▇▇▇▇▇▇▇▇▇▇▇▇▇▇▇▇▇▇▇▆</td></tr><tr><td>training/sa_repr_std</td><td>▁█▇▇▇▇▇▇▇▆▆▅▅▅▅▅▅▅▅▅▅▅▅▆▆▆▆▆▆▆▆▆▆▆▆▆▆▆▆▆</td></tr><tr><td>training/sps</td><td>▁▅██████████████████████████████████████</td></tr></table><br/></div><div class=\"wandb-col\"><h3>Run summary:</h3><br/><table class=\"wandb\"><tr><td>eval/episode_dist</td><td>2315.85645</td></tr><tr><td>eval/episode_reward_survive</td><td>710.51562</td></tr><tr><td>eval/episode_success</td><td>122.17969</td></tr><tr><td>eval/episode_success_any</td><td>0.74219</td></tr><tr><td>eval/episode_success_easy</td><td>376.125</td></tr><tr><td>eval/episode_success_hard</td><td>0</td></tr><tr><td>step</td><td>50853888.0</td></tr><tr><td>training/actor_loss</td><td>2.18963</td></tr><tr><td>training/alpha</td><td>0.01051</td></tr><tr><td>training/alpha_loss</td><td>-0.0</td></tr><tr><td>training/binary_accuracy</td><td>0.99609</td></tr><tr><td>training/c_target</td><td>0</td></tr><tr><td>training/categorical_accuracy</td><td>0.3935</td></tr><tr><td>training/crl_critic_loss</td><td>3.9318</td></tr><tr><td>training/entropy</td><td>-4.00069</td></tr><tr><td>training/g_repr_mean</td><td>10.72753</td></tr><tr><td>training/g_repr_std</td><td>2.19817</td></tr><tr><td>training/l_align</td><td>5.04055</td></tr><tr><td>training/l_unif</td><td>-1.1714</td></tr><tr><td>training/logits_neg</td><td>-13.56066</td></tr><tr><td>training/logits_pos</td><td>-2.52027</td></tr><tr><td>training/logsumexp</td><td>0.62649</td></tr><tr><td>training/sa_repr_mean</td><td>10.78972</td></tr><tr><td>training/sa_repr_std</td><td>2.31853</td></tr><tr><td>training/sps</td><td>35774.90894</td></tr></table><br/></div></div>"
      ]
     },
     "metadata": {},
     "output_type": "display_data"
    },
    {
     "data": {
      "text/plain": [
       "<IPython.core.display.HTML object>"
      ],
      "text/html": [
       " View run <strong style=\"color:#cdcd00\">ant_l_symmetric_infonce_ef_l2_p_0.1</strong> at: <a href='https://wandb.ai/cl-probing/logsumexp_penalty/runs/n473las1' target=\"_blank\">https://wandb.ai/cl-probing/logsumexp_penalty/runs/n473las1</a><br/> View job at <a href='https://wandb.ai/cl-probing/logsumexp_penalty/jobs/QXJ0aWZhY3RDb2xsZWN0aW9uOjM3NzgwMzA4NA==/version_details/v19' target=\"_blank\">https://wandb.ai/cl-probing/logsumexp_penalty/jobs/QXJ0aWZhY3RDb2xsZWN0aW9uOjM3NzgwMzA4NA==/version_details/v19</a><br/>Synced 6 W&B file(s), 1 media file(s), 3 artifact file(s) and 4 other file(s)"
      ]
     },
     "metadata": {},
     "output_type": "display_data"
    },
    {
     "data": {
      "text/plain": [
       "<IPython.core.display.HTML object>"
      ],
      "text/html": [
       "Find logs at: <code>./wandb/run-20240805_113120-n473las1/logs</code>"
      ]
     },
     "metadata": {},
     "output_type": "display_data"
    },
    {
     "data": {
      "text/plain": [
       "<IPython.core.display.HTML object>"
      ],
      "text/html": [
       "wandb version 0.17.5 is available!  To upgrade, please run:\n",
       " $ pip install wandb --upgrade"
      ]
     },
     "metadata": {},
     "output_type": "display_data"
    },
    {
     "data": {
      "text/plain": [
       "<IPython.core.display.HTML object>"
      ],
      "text/html": [
       "Tracking run with wandb version 0.16.4"
      ]
     },
     "metadata": {},
     "output_type": "display_data"
    },
    {
     "data": {
      "text/plain": [
       "<IPython.core.display.HTML object>"
      ],
      "text/html": [
       "Run data is saved locally in <code>/home/mbortkie/repos/crl/notebooks/wandb/run-20240805_113139-vi4agd4c</code>"
      ]
     },
     "metadata": {},
     "output_type": "display_data"
    },
    {
     "data": {
      "text/plain": [
       "<IPython.core.display.HTML object>"
      ],
      "text/html": [
       "Syncing run <strong><a href='https://wandb.ai/cl-probing/logsumexp_penalty/runs/vi4agd4c' target=\"_blank\">ant_l_symmetric_infonce_ef_l2_p_0.1</a></strong> to <a href='https://wandb.ai/cl-probing/logsumexp_penalty' target=\"_blank\">Weights & Biases</a> (<a href='https://wandb.me/run' target=\"_blank\">docs</a>)<br/>"
      ]
     },
     "metadata": {},
     "output_type": "display_data"
    },
    {
     "data": {
      "text/plain": [
       "<IPython.core.display.HTML object>"
      ],
      "text/html": [
       " View project at <a href='https://wandb.ai/cl-probing/logsumexp_penalty' target=\"_blank\">https://wandb.ai/cl-probing/logsumexp_penalty</a>"
      ]
     },
     "metadata": {},
     "output_type": "display_data"
    },
    {
     "data": {
      "text/plain": [
       "<IPython.core.display.HTML object>"
      ],
      "text/html": [
       " View run at <a href='https://wandb.ai/cl-probing/logsumexp_penalty/runs/vi4agd4c' target=\"_blank\">https://wandb.ai/cl-probing/logsumexp_penalty/runs/vi4agd4c</a>"
      ]
     },
     "metadata": {},
     "output_type": "display_data"
    },
    {
     "data": {
      "text/plain": [
       "<IPython.core.display.HTML object>"
      ],
      "text/html": [
       "W&B sync reduced upload amount by 3.4%             "
      ]
     },
     "metadata": {},
     "output_type": "display_data"
    },
    {
     "data": {
      "text/plain": [
       "<IPython.core.display.HTML object>"
      ],
      "text/html": [
       "<style>\n",
       "    table.wandb td:nth-child(1) { padding: 0 10px; text-align: left ; width: auto;} td:nth-child(2) {text-align: left ; width: 100%}\n",
       "    .wandb-row { display: flex; flex-direction: row; flex-wrap: wrap; justify-content: flex-start; width: 100% }\n",
       "    .wandb-col { display: flex; flex-direction: column; flex-basis: 100%; flex: 1; padding: 10px; }\n",
       "    </style>\n",
       "<div class=\"wandb-row\"><div class=\"wandb-col\"><h3>Run history:</h3><br/><table class=\"wandb\"><tr><td>eval/episode_dist</td><td>▃█▄▂▂▁▁▁▁▁▁▁▁▁▂▁▁▂▁▂▁▁▂▂▁▂▁▂▁▂▂▂▁▁▁▂▁▂▂▂</td></tr><tr><td>eval/episode_reward_survive</td><td>▁▇▅▅▆▅▆▅▇▆▆▆▆▆██▇█▇▇▇▆█▇▇█▇▇▆▇▇▆▇▆▇▇▇▇▇▇</td></tr><tr><td>eval/episode_success</td><td>▁▁▁▂▃▃▅▅▆▆▇▆▆▆▇█▇█▇▇█▇█▆███▇▆▇▇▇▇▆▇▇▇▇▇▆</td></tr><tr><td>eval/episode_success_any</td><td>▁▁▂▄▆▅▇▆▇▇▇▇▇▇▇█▇████▇▇▇▇█▇█▆▇█▇▇▇█▇▇▇█▆</td></tr><tr><td>eval/episode_success_easy</td><td>▁▁▂▄▆▅▆▆▇▇▇▇▆▆▇█▇█▇▇█▇█▆▇█▇▇▆▇▇▇▇▇▇▇▇▇▇▆</td></tr><tr><td>eval/episode_success_hard</td><td>▁▁▁▁▁▁▁▁▁▁▁▁▁▁▁▁▁▁▁▁▁▁▁▁▁▁▁▁▁▁▁▁▁▁▁▁▁▁▁▁</td></tr><tr><td>step</td><td>▁▁▁▂▂▂▂▂▃▃▃▃▃▃▄▄▄▄▄▄▅▅▅▅▅▅▆▆▆▆▆▆▇▇▇▇▇███</td></tr><tr><td>training/actor_loss</td><td>▁██▇▇▆▆▆▆▆▆▅▅▅▅▅▅▅▅▅▅▅▅▅▅▅▅▅▅▅▅▅▅▅▅▅▅▅▅▅</td></tr><tr><td>training/alpha</td><td>▁█▂▂▂▂▂▂▂▂▂▂▂▂▂▂▂▂▂▂▂▂▂▂▂▂▂▂▂▂▂▂▂▂▂▂▂▂▂▂</td></tr><tr><td>training/alpha_loss</td><td>▁█▁▁▁▁▁▁▁▁▁▁▁▁▁▁▁▁▁▁▁▁▁▁▁▁▁▁▁▁▁▁▁▁▁▁▁▁▁▁</td></tr><tr><td>training/binary_accuracy</td><td>▁███████████████████████████████████████</td></tr><tr><td>training/c_target</td><td>▁▁▁▁▁▁▁▁▁▁▁▁▁▁▁▁▁▁▁▁▁▁▁▁▁▁▁▁▁▁▁▁▁▁▁▁▁▁▁▁</td></tr><tr><td>training/categorical_accuracy</td><td>▁▅▅▆▇███████████████████████████████████</td></tr><tr><td>training/crl_critic_loss</td><td>▁█▇▇▆▅▅▅▅▅▅▅▅▅▅▅▅▅▅▅▅▅▅▅▅▅▅▅▅▅▅▅▅▅▅▅▅▅▅▅</td></tr><tr><td>training/entropy</td><td>█▇▁▁▁▁▁▁▁▁▁▁▁▁▁▁▁▁▁▁▁▁▁▁▁▁▁▁▁▁▁▁▁▁▁▁▁▁▁▁</td></tr><tr><td>training/g_repr_mean</td><td>▁▅▅▅▇▇▇██████▇▇▇▇▇▇▇▇▇▇▇▇▇▇▇▇▇▇▇▇▇▇▇▇▇▇▇</td></tr><tr><td>training/g_repr_std</td><td>▁▇▆▇███▇▇▇▆▆▆▆▆▆▆▆▆▆▆▆▆▆▆▆▆▆▆▆▆▆▆▆▆▆▆▆▆▆</td></tr><tr><td>training/l_align</td><td>▁██▇▇▆▆▆▆▆▆▆▆▆▆▆▆▆▆▆▆▆▆▆▅▆▅▅▆▆▆▆▆▆▆▆▆▆▆▆</td></tr><tr><td>training/l_unif</td><td>█▇▅▃▁▁▁▁▁▁▂▂▂▂▂▂▂▂▂▂▂▁▁▁▁▁▁▁▁▁▁▁▁▁▁▁▁▁▁▁</td></tr><tr><td>training/logits_neg</td><td>█▄▃▃▂▂▁▁▁▁▁▁▁▁▁▁▁▁▁▁▁▁▁▁▁▁▁▁▁▁▁▁▁▁▁▁▁▁▁▁</td></tr><tr><td>training/logits_pos</td><td>█▁▁▂▂▃▃▃▃▃▃▃▃▃▃▃▃▃▃▃▃▃▃▃▄▃▄▄▃▃▃▃▃▃▃▃▃▃▃▃</td></tr><tr><td>training/logsumexp</td><td>▁▄▄▅▆▇▇▇██▇▇▇▇▇▇▇███████████████████████</td></tr><tr><td>training/sa_repr_mean</td><td>▁▅▅▅▇▇▇███████▇▇▇▇▇▇▇▇▇▇▇▇▇▇▇▇▇▇▇▇▇▇▇▇▇▇</td></tr><tr><td>training/sa_repr_std</td><td>▁▇▇▇██▇▇▇▆▆▆▅▅▅▅▅▆▆▆▆▆▆▆▆▆▆▆▆▆▆▆▆▆▆▆▆▆▆▆</td></tr><tr><td>training/sps</td><td>▁▅██████████████████████████████████████</td></tr></table><br/></div><div class=\"wandb-col\"><h3>Run summary:</h3><br/><table class=\"wandb\"><tr><td>eval/episode_dist</td><td>2199.82568</td></tr><tr><td>eval/episode_reward_survive</td><td>726.67969</td></tr><tr><td>eval/episode_success</td><td>171.9375</td></tr><tr><td>eval/episode_success_any</td><td>0.71094</td></tr><tr><td>eval/episode_success_easy</td><td>437.22656</td></tr><tr><td>eval/episode_success_hard</td><td>0</td></tr><tr><td>step</td><td>50853888.0</td></tr><tr><td>training/actor_loss</td><td>2.02486</td></tr><tr><td>training/alpha</td><td>0.00933</td></tr><tr><td>training/alpha_loss</td><td>0.0</td></tr><tr><td>training/binary_accuracy</td><td>0.99609</td></tr><tr><td>training/c_target</td><td>0</td></tr><tr><td>training/categorical_accuracy</td><td>0.42699</td></tr><tr><td>training/crl_critic_loss</td><td>3.6023</td></tr><tr><td>training/entropy</td><td>-3.99952</td></tr><tr><td>training/g_repr_mean</td><td>10.26352</td></tr><tr><td>training/g_repr_std</td><td>2.21032</td></tr><tr><td>training/l_align</td><td>4.6586</td></tr><tr><td>training/l_unif</td><td>-1.12395</td></tr><tr><td>training/logits_neg</td><td>-13.81212</td></tr><tr><td>training/logits_pos</td><td>-2.3293</td></tr><tr><td>training/logsumexp</td><td>0.67657</td></tr><tr><td>training/sa_repr_mean</td><td>10.33692</td></tr><tr><td>training/sa_repr_std</td><td>2.3138</td></tr><tr><td>training/sps</td><td>36163.14605</td></tr></table><br/></div></div>"
      ]
     },
     "metadata": {},
     "output_type": "display_data"
    },
    {
     "data": {
      "text/plain": [
       "<IPython.core.display.HTML object>"
      ],
      "text/html": [
       " View run <strong style=\"color:#cdcd00\">ant_l_symmetric_infonce_ef_l2_p_0.1</strong> at: <a href='https://wandb.ai/cl-probing/logsumexp_penalty/runs/vi4agd4c' target=\"_blank\">https://wandb.ai/cl-probing/logsumexp_penalty/runs/vi4agd4c</a><br/> View job at <a href='https://wandb.ai/cl-probing/logsumexp_penalty/jobs/QXJ0aWZhY3RDb2xsZWN0aW9uOjM3NzgwMzA4NA==/version_details/v20' target=\"_blank\">https://wandb.ai/cl-probing/logsumexp_penalty/jobs/QXJ0aWZhY3RDb2xsZWN0aW9uOjM3NzgwMzA4NA==/version_details/v20</a><br/>Synced 6 W&B file(s), 1 media file(s), 3 artifact file(s) and 4 other file(s)"
      ]
     },
     "metadata": {},
     "output_type": "display_data"
    },
    {
     "data": {
      "text/plain": [
       "<IPython.core.display.HTML object>"
      ],
      "text/html": [
       "Find logs at: <code>./wandb/run-20240805_113139-vi4agd4c/logs</code>"
      ]
     },
     "metadata": {},
     "output_type": "display_data"
    },
    {
     "data": {
      "text/plain": [
       "<IPython.core.display.HTML object>"
      ],
      "text/html": [
       "wandb version 0.17.5 is available!  To upgrade, please run:\n",
       " $ pip install wandb --upgrade"
      ]
     },
     "metadata": {},
     "output_type": "display_data"
    },
    {
     "data": {
      "text/plain": [
       "<IPython.core.display.HTML object>"
      ],
      "text/html": [
       "Tracking run with wandb version 0.16.4"
      ]
     },
     "metadata": {},
     "output_type": "display_data"
    },
    {
     "data": {
      "text/plain": [
       "<IPython.core.display.HTML object>"
      ],
      "text/html": [
       "Run data is saved locally in <code>/home/mbortkie/repos/crl/notebooks/wandb/run-20240805_113156-jvv5d562</code>"
      ]
     },
     "metadata": {},
     "output_type": "display_data"
    },
    {
     "data": {
      "text/plain": [
       "<IPython.core.display.HTML object>"
      ],
      "text/html": [
       "Syncing run <strong><a href='https://wandb.ai/cl-probing/logsumexp_penalty/runs/jvv5d562' target=\"_blank\">ant_l_symmetric_infonce_ef_l2_p_0.1</a></strong> to <a href='https://wandb.ai/cl-probing/logsumexp_penalty' target=\"_blank\">Weights & Biases</a> (<a href='https://wandb.me/run' target=\"_blank\">docs</a>)<br/>"
      ]
     },
     "metadata": {},
     "output_type": "display_data"
    },
    {
     "data": {
      "text/plain": [
       "<IPython.core.display.HTML object>"
      ],
      "text/html": [
       " View project at <a href='https://wandb.ai/cl-probing/logsumexp_penalty' target=\"_blank\">https://wandb.ai/cl-probing/logsumexp_penalty</a>"
      ]
     },
     "metadata": {},
     "output_type": "display_data"
    },
    {
     "data": {
      "text/plain": [
       "<IPython.core.display.HTML object>"
      ],
      "text/html": [
       " View run at <a href='https://wandb.ai/cl-probing/logsumexp_penalty/runs/jvv5d562' target=\"_blank\">https://wandb.ai/cl-probing/logsumexp_penalty/runs/jvv5d562</a>"
      ]
     },
     "metadata": {},
     "output_type": "display_data"
    },
    {
     "data": {
      "text/plain": [
       "<IPython.core.display.HTML object>"
      ],
      "text/html": [
       "W&B sync reduced upload amount by 3.4%             "
      ]
     },
     "metadata": {},
     "output_type": "display_data"
    },
    {
     "data": {
      "text/plain": [
       "<IPython.core.display.HTML object>"
      ],
      "text/html": [
       "<style>\n",
       "    table.wandb td:nth-child(1) { padding: 0 10px; text-align: left ; width: auto;} td:nth-child(2) {text-align: left ; width: 100%}\n",
       "    .wandb-row { display: flex; flex-direction: row; flex-wrap: wrap; justify-content: flex-start; width: 100% }\n",
       "    .wandb-col { display: flex; flex-direction: column; flex-basis: 100%; flex: 1; padding: 10px; }\n",
       "    </style>\n",
       "<div class=\"wandb-row\"><div class=\"wandb-col\"><h3>Run history:</h3><br/><table class=\"wandb\"><tr><td>eval/episode_dist</td><td>▄█▂▃▂▂▂▂▂▁▁▂▁▁▁▁▂▃▁▂▂▁▁▂▂▃▂▂▂▂▂▂▂▂▂▃▂▂▂▃</td></tr><tr><td>eval/episode_reward_survive</td><td>▁▄▁▅▆▆▇▇▆▇▆▇▇▇▆▇▇█▆▇▇▇▇▇▇█▇▇▇▇▇▇█▇▇▇▇██▇</td></tr><tr><td>eval/episode_success</td><td>▁▁▁▂▄▄▅▅▅▇▆▇▇█▆▆▇▆▆▆▇█▇▆▇▆▆▇▆▇▇▆█▇▇▆▇▇▇▆</td></tr><tr><td>eval/episode_success_any</td><td>▁▂▂▄▆▆▆▇▇█▇▇██▆▇▇▇▇▇▇█▇▇▇█▇▇▇▇▇▇█▇█▇▇▇▇▇</td></tr><tr><td>eval/episode_success_easy</td><td>▁▁▂▄▆▆▆▇▆█▇▇██▆▇▇▇▆▇▇█▇▆▇▇▇▇▇▇▇▇█▇▇▆▆▇▇▆</td></tr><tr><td>eval/episode_success_hard</td><td>▁▁▁▁▁▁▁▁▁▁▁▁▁▁▁▁▁▁▁▁▁▁▁▁▁▁▁▁▁▁▁▁▁▁▁▁▁▁▁▁</td></tr><tr><td>step</td><td>▁▁▁▂▂▂▂▂▃▃▃▃▃▃▄▄▄▄▄▄▅▅▅▅▅▅▆▆▆▆▆▆▇▇▇▇▇███</td></tr><tr><td>training/actor_loss</td><td>▁▇██▇▇▇▆▆▆▆▆▆▆▆▆▆▆▆▆▆▆▆▆▆▆▆▆▆▆▆▆▆▆▆▆▆▆▆▆</td></tr><tr><td>training/alpha</td><td>▁█▂▂▂▂▂▂▂▂▂▂▂▂▂▂▂▂▂▂▂▂▂▂▂▂▂▂▂▂▂▂▂▂▂▂▂▂▂▂</td></tr><tr><td>training/alpha_loss</td><td>▁█▁▁▁▁▁▁▁▁▁▁▁▁▁▁▁▁▁▁▁▁▁▁▁▁▁▁▁▁▁▁▁▁▁▁▁▁▁▁</td></tr><tr><td>training/binary_accuracy</td><td>▁███████████████████████████████████████</td></tr><tr><td>training/c_target</td><td>▁▁▁▁▁▁▁▁▁▁▁▁▁▁▁▁▁▁▁▁▁▁▁▁▁▁▁▁▁▁▁▁▁▁▁▁▁▁▁▁</td></tr><tr><td>training/categorical_accuracy</td><td>▁▅▆▆▇▇▇▇▇▇▇▇▇▇▇▇▇▇██████████████████████</td></tr><tr><td>training/crl_critic_loss</td><td>▁██▇▆▆▆▆▆▆▅▅▅▅▅▅▅▅▅▅▅▅▅▅▅▅▅▅▅▅▅▅▅▅▅▅▅▅▅▅</td></tr><tr><td>training/entropy</td><td>█▆▁▁▁▁▁▁▁▁▁▁▁▁▁▁▁▁▁▁▁▁▁▁▁▁▁▁▁▁▁▁▁▁▁▁▁▁▁▁</td></tr><tr><td>training/g_repr_mean</td><td>▁▆▆▆▇▇▇▇████████████████████▇▇▇▇▇▇▇▇▇▇▇▇</td></tr><tr><td>training/g_repr_std</td><td>▁█▇▆▇▇▇▇▇▇▆▆▆▆▆▆▆▆▆▆▆▆▆▆▆▆▆▆▆▆▆▆▆▆▆▆▆▆▆▆</td></tr><tr><td>training/l_align</td><td>▁███▇▇▇▇▇▆▆▆▆▆▆▆▆▆▆▆▆▆▆▆▆▆▆▆▆▆▆▆▆▆▆▆▆▆▆▆</td></tr><tr><td>training/l_unif</td><td>█▆▄▃▂▂▂▂▁▂▂▂▂▂▂▂▂▂▂▂▂▂▂▂▁▁▁▁▁▁▁▁▁▁▁▁▁▁▁▁</td></tr><tr><td>training/logits_neg</td><td>█▃▃▃▂▂▂▂▂▁▁▁▁▁▁▁▁▁▁▁▁▁▁▁▁▁▁▁▁▁▁▁▁▁▁▁▁▁▁▁</td></tr><tr><td>training/logits_pos</td><td>█▁▁▁▂▂▂▂▂▃▃▃▃▃▃▃▃▃▃▃▃▃▃▃▃▃▃▃▃▃▃▃▃▃▃▃▃▃▃▃</td></tr><tr><td>training/logsumexp</td><td>▁▄▄▅▆▆▆▇▇▇▇▇▇▇▇▇▇▇▇▇▇▇▇▇████████████████</td></tr><tr><td>training/sa_repr_mean</td><td>▁▅▅▆▇▇▇▇████████████████████▇▇▇▇▇▇▇▇▇▇▇▇</td></tr><tr><td>training/sa_repr_std</td><td>▁█▇▇▇▇▇▇▇▆▆▆▆▆▆▆▅▅▅▅▅▅▅▅▅▅▅▅▅▅▅▅▅▅▅▅▆▆▆▆</td></tr><tr><td>training/sps</td><td>▁▅██████████████████████████████████████</td></tr></table><br/></div><div class=\"wandb-col\"><h3>Run summary:</h3><br/><table class=\"wandb\"><tr><td>eval/episode_dist</td><td>2543.5332</td></tr><tr><td>eval/episode_reward_survive</td><td>761.53906</td></tr><tr><td>eval/episode_success</td><td>155.17188</td></tr><tr><td>eval/episode_success_any</td><td>0.76562</td></tr><tr><td>eval/episode_success_easy</td><td>393.69531</td></tr><tr><td>eval/episode_success_hard</td><td>0</td></tr><tr><td>step</td><td>50853888.0</td></tr><tr><td>training/actor_loss</td><td>2.00319</td></tr><tr><td>training/alpha</td><td>0.00903</td></tr><tr><td>training/alpha_loss</td><td>0.0</td></tr><tr><td>training/binary_accuracy</td><td>0.99609</td></tr><tr><td>training/c_target</td><td>0</td></tr><tr><td>training/categorical_accuracy</td><td>0.44089</td></tr><tr><td>training/crl_critic_loss</td><td>3.51893</td></tr><tr><td>training/entropy</td><td>-3.99956</td></tr><tr><td>training/g_repr_mean</td><td>10.36774</td></tr><tr><td>training/g_repr_std</td><td>2.36985</td></tr><tr><td>training/l_align</td><td>4.67068</td></tr><tr><td>training/l_unif</td><td>-1.22421</td></tr><tr><td>training/logits_neg</td><td>-14.17922</td></tr><tr><td>training/logits_pos</td><td>-2.33534</td></tr><tr><td>training/logsumexp</td><td>0.72448</td></tr><tr><td>training/sa_repr_mean</td><td>10.41014</td></tr><tr><td>training/sa_repr_std</td><td>2.47206</td></tr><tr><td>training/sps</td><td>36202.87798</td></tr></table><br/></div></div>"
      ]
     },
     "metadata": {},
     "output_type": "display_data"
    },
    {
     "data": {
      "text/plain": [
       "<IPython.core.display.HTML object>"
      ],
      "text/html": [
       " View run <strong style=\"color:#cdcd00\">ant_l_symmetric_infonce_ef_l2_p_0.1</strong> at: <a href='https://wandb.ai/cl-probing/logsumexp_penalty/runs/jvv5d562' target=\"_blank\">https://wandb.ai/cl-probing/logsumexp_penalty/runs/jvv5d562</a><br/> View job at <a href='https://wandb.ai/cl-probing/logsumexp_penalty/jobs/QXJ0aWZhY3RDb2xsZWN0aW9uOjM3NzgwMzA4NA==/version_details/v21' target=\"_blank\">https://wandb.ai/cl-probing/logsumexp_penalty/jobs/QXJ0aWZhY3RDb2xsZWN0aW9uOjM3NzgwMzA4NA==/version_details/v21</a><br/>Synced 6 W&B file(s), 1 media file(s), 3 artifact file(s) and 4 other file(s)"
      ]
     },
     "metadata": {},
     "output_type": "display_data"
    },
    {
     "data": {
      "text/plain": [
       "<IPython.core.display.HTML object>"
      ],
      "text/html": [
       "Find logs at: <code>./wandb/run-20240805_113156-jvv5d562/logs</code>"
      ]
     },
     "metadata": {},
     "output_type": "display_data"
    },
    {
     "data": {
      "text/plain": [
       "<IPython.core.display.HTML object>"
      ],
      "text/html": [
       "wandb version 0.17.5 is available!  To upgrade, please run:\n",
       " $ pip install wandb --upgrade"
      ]
     },
     "metadata": {},
     "output_type": "display_data"
    },
    {
     "data": {
      "text/plain": [
       "<IPython.core.display.HTML object>"
      ],
      "text/html": [
       "Tracking run with wandb version 0.16.4"
      ]
     },
     "metadata": {},
     "output_type": "display_data"
    },
    {
     "data": {
      "text/plain": [
       "<IPython.core.display.HTML object>"
      ],
      "text/html": [
       "Run data is saved locally in <code>/home/mbortkie/repos/crl/notebooks/wandb/run-20240805_113215-g1fhnn8s</code>"
      ]
     },
     "metadata": {},
     "output_type": "display_data"
    },
    {
     "data": {
      "text/plain": [
       "<IPython.core.display.HTML object>"
      ],
      "text/html": [
       "Syncing run <strong><a href='https://wandb.ai/cl-probing/logsumexp_penalty/runs/g1fhnn8s' target=\"_blank\">ant_l_symmetric_infonce_ef_l2_p_0.1</a></strong> to <a href='https://wandb.ai/cl-probing/logsumexp_penalty' target=\"_blank\">Weights & Biases</a> (<a href='https://wandb.me/run' target=\"_blank\">docs</a>)<br/>"
      ]
     },
     "metadata": {},
     "output_type": "display_data"
    },
    {
     "data": {
      "text/plain": [
       "<IPython.core.display.HTML object>"
      ],
      "text/html": [
       " View project at <a href='https://wandb.ai/cl-probing/logsumexp_penalty' target=\"_blank\">https://wandb.ai/cl-probing/logsumexp_penalty</a>"
      ]
     },
     "metadata": {},
     "output_type": "display_data"
    },
    {
     "data": {
      "text/plain": [
       "<IPython.core.display.HTML object>"
      ],
      "text/html": [
       " View run at <a href='https://wandb.ai/cl-probing/logsumexp_penalty/runs/g1fhnn8s' target=\"_blank\">https://wandb.ai/cl-probing/logsumexp_penalty/runs/g1fhnn8s</a>"
      ]
     },
     "metadata": {},
     "output_type": "display_data"
    },
    {
     "data": {
      "text/plain": [
       "<IPython.core.display.HTML object>"
      ],
      "text/html": [
       "W&B sync reduced upload amount by 3.4%             "
      ]
     },
     "metadata": {},
     "output_type": "display_data"
    },
    {
     "data": {
      "text/plain": [
       "<IPython.core.display.HTML object>"
      ],
      "text/html": [
       "<style>\n",
       "    table.wandb td:nth-child(1) { padding: 0 10px; text-align: left ; width: auto;} td:nth-child(2) {text-align: left ; width: 100%}\n",
       "    .wandb-row { display: flex; flex-direction: row; flex-wrap: wrap; justify-content: flex-start; width: 100% }\n",
       "    .wandb-col { display: flex; flex-direction: column; flex-basis: 100%; flex: 1; padding: 10px; }\n",
       "    </style>\n",
       "<div class=\"wandb-row\"><div class=\"wandb-col\"><h3>Run history:</h3><br/><table class=\"wandb\"><tr><td>eval/episode_dist</td><td>▄█▆▄▃▂▂▂▁▂▁▁▂▁▃▁▂▂▁▂▂▁▂▁▁▂▁▂▂▁▁▁▁▁▂▁▁▂▁▂</td></tr><tr><td>eval/episode_reward_survive</td><td>▁▅▅▅▆▆▇▆▇▇▆▆▇▇█▇▇▇▇█▆▆▇▆▆█▇▇▇▆▇▇▆▇█▇▆▇▇▆</td></tr><tr><td>eval/episode_success</td><td>▁▁▁▂▂▃▄▃▅▅▅▆▆▇▆▅▆▆▇▇▆▇▇▆▆▇▇▇▇▆▇█▆▇█▆▇▇█▆</td></tr><tr><td>eval/episode_success_any</td><td>▁▁▂▃▅▆▇▆▇▇▇▇▇▇█▇▇▇█▇▇▇▇▇▇█▇▇▇▇▇▇▇▇█▇▇▇▇▇</td></tr><tr><td>eval/episode_success_easy</td><td>▁▁▂▃▄▅▆▆▇▇▆▇▇█▇▇▇▇▇█▆▇▇▆▆▇▇▇▇▇▇█▇██▇▇▇█▇</td></tr><tr><td>eval/episode_success_hard</td><td>▁▁▁▁▁▁▁▁▁▁▁▁▁▁▁▁▁▁▁▁▁▁▁▁▁▁▁▁▁▁▁▁▁▁▁▁▁▁▁▁</td></tr><tr><td>step</td><td>▁▁▁▂▂▂▂▂▃▃▃▃▃▃▄▄▄▄▄▄▅▅▅▅▅▅▆▆▆▆▆▆▇▇▇▇▇███</td></tr><tr><td>training/actor_loss</td><td>▁███▇▇▆▆▆▆▆▆▅▅▅▅▅▅▅▅▅▅▅▅▅▅▅▅▅▅▅▅▅▅▅▅▅▅▅▅</td></tr><tr><td>training/alpha</td><td>▁█▂▂▂▂▂▂▂▂▂▂▂▂▂▂▂▂▂▂▂▂▂▂▂▂▂▂▂▂▂▂▂▂▂▂▂▂▂▂</td></tr><tr><td>training/alpha_loss</td><td>▁█▁▁▁▁▁▁▁▁▁▁▁▁▁▁▁▁▁▁▁▁▁▁▁▁▁▁▁▁▁▁▁▁▁▁▁▁▁▁</td></tr><tr><td>training/binary_accuracy</td><td>▁███████████████████████████████████████</td></tr><tr><td>training/c_target</td><td>▁▁▁▁▁▁▁▁▁▁▁▁▁▁▁▁▁▁▁▁▁▁▁▁▁▁▁▁▁▁▁▁▁▁▁▁▁▁▁▁</td></tr><tr><td>training/categorical_accuracy</td><td>▁▄▅▆▇▇▇█████████████████████████████████</td></tr><tr><td>training/crl_critic_loss</td><td>▁█▇▇▆▆▆▅▅▅▅▅▅▅▅▅▅▅▅▅▅▅▅▅▅▅▅▅▅▅▅▄▄▄▄▄▄▄▄▄</td></tr><tr><td>training/entropy</td><td>█▇▁▁▁▁▁▁▁▁▁▁▁▁▁▁▁▁▁▁▁▁▁▁▁▁▁▁▁▁▁▁▁▁▁▁▁▁▁▁</td></tr><tr><td>training/g_repr_mean</td><td>▁▅▅▅▆▇▇▇████████▇▇▇▇▇▇▇▇▇▇▇▇▇▇▇▇▇▇▇▇▇▇▇▇</td></tr><tr><td>training/g_repr_std</td><td>▁▇▆▆█████▇▇▇▇▇▇▇▇▇▇▇▇▇▇▇▇▇▇▇▇▇▆▆▇▇▆▇▇▇▇▇</td></tr><tr><td>training/l_align</td><td>▁███▇▇▆▆▆▆▆▆▆▆▆▆▆▆▆▆▆▆▆▆▆▆▆▆▆▆▅▅▅▅▅▅▅▅▅▅</td></tr><tr><td>training/l_unif</td><td>█▇▅▄▂▂▁▁▁▁▁▁▂▂▂▂▂▂▂▂▂▂▁▁▂▂▁▁▁▁▁▁▁▁▁▁▁▁▁▁</td></tr><tr><td>training/logits_neg</td><td>█▄▄▃▂▂▂▂▁▁▁▁▁▁▁▁▁▁▁▁▁▁▁▁▁▁▁▁▁▁▁▁▁▁▁▁▁▁▁▁</td></tr><tr><td>training/logits_pos</td><td>█▁▁▁▂▂▃▃▃▃▃▃▃▃▃▃▃▃▃▃▃▃▃▃▃▃▃▃▃▃▄▄▄▄▄▄▄▄▄▄</td></tr><tr><td>training/logsumexp</td><td>▁▃▃▄▆▆▇▇▇████▇▇▇▇▇██████████████████████</td></tr><tr><td>training/sa_repr_mean</td><td>▁▄▄▅▆▇▇▇█████████▇▇▇▇▇▇▇▇▇▇▇▇▇▇▇▇▇▇▇▇▇▇▇</td></tr><tr><td>training/sa_repr_std</td><td>▁▇▆▇████▇▇▇▆▆▆▆▆▆▆▇▇▇▇▇▇▇▆▆▆▆▆▆▆▆▆▆▆▆▆▆▆</td></tr><tr><td>training/sps</td><td>▁▅██████████████████████████████████████</td></tr></table><br/></div><div class=\"wandb-col\"><h3>Run summary:</h3><br/><table class=\"wandb\"><tr><td>eval/episode_dist</td><td>2206.58032</td></tr><tr><td>eval/episode_reward_survive</td><td>744.41406</td></tr><tr><td>eval/episode_success</td><td>170.91406</td></tr><tr><td>eval/episode_success_any</td><td>0.75781</td></tr><tr><td>eval/episode_success_easy</td><td>434.28125</td></tr><tr><td>eval/episode_success_hard</td><td>0</td></tr><tr><td>step</td><td>50853888.0</td></tr><tr><td>training/actor_loss</td><td>1.99142</td></tr><tr><td>training/alpha</td><td>0.00949</td></tr><tr><td>training/alpha_loss</td><td>-1e-05</td></tr><tr><td>training/binary_accuracy</td><td>0.99609</td></tr><tr><td>training/c_target</td><td>0</td></tr><tr><td>training/categorical_accuracy</td><td>0.44136</td></tr><tr><td>training/crl_critic_loss</td><td>3.48809</td></tr><tr><td>training/entropy</td><td>-4.00115</td></tr><tr><td>training/g_repr_mean</td><td>11.10165</td></tr><tr><td>training/g_repr_std</td><td>2.50422</td></tr><tr><td>training/l_align</td><td>4.59813</td></tr><tr><td>training/l_unif</td><td>-1.1808</td></tr><tr><td>training/logits_neg</td><td>-14.19449</td></tr><tr><td>training/logits_pos</td><td>-2.29906</td></tr><tr><td>training/logsumexp</td><td>0.70767</td></tr><tr><td>training/sa_repr_mean</td><td>11.13814</td></tr><tr><td>training/sa_repr_std</td><td>2.57857</td></tr><tr><td>training/sps</td><td>35886.58463</td></tr></table><br/></div></div>"
      ]
     },
     "metadata": {},
     "output_type": "display_data"
    },
    {
     "data": {
      "text/plain": [
       "<IPython.core.display.HTML object>"
      ],
      "text/html": [
       " View run <strong style=\"color:#cdcd00\">ant_l_symmetric_infonce_ef_l2_p_0.1</strong> at: <a href='https://wandb.ai/cl-probing/logsumexp_penalty/runs/g1fhnn8s' target=\"_blank\">https://wandb.ai/cl-probing/logsumexp_penalty/runs/g1fhnn8s</a><br/> View job at <a href='https://wandb.ai/cl-probing/logsumexp_penalty/jobs/QXJ0aWZhY3RDb2xsZWN0aW9uOjM3NzgwMzA4NA==/version_details/v22' target=\"_blank\">https://wandb.ai/cl-probing/logsumexp_penalty/jobs/QXJ0aWZhY3RDb2xsZWN0aW9uOjM3NzgwMzA4NA==/version_details/v22</a><br/>Synced 6 W&B file(s), 1 media file(s), 3 artifact file(s) and 4 other file(s)"
      ]
     },
     "metadata": {},
     "output_type": "display_data"
    },
    {
     "data": {
      "text/plain": [
       "<IPython.core.display.HTML object>"
      ],
      "text/html": [
       "Find logs at: <code>./wandb/run-20240805_113215-g1fhnn8s/logs</code>"
      ]
     },
     "metadata": {},
     "output_type": "display_data"
    },
    {
     "data": {
      "text/plain": [
       "<IPython.core.display.HTML object>"
      ],
      "text/html": [
       "wandb version 0.17.5 is available!  To upgrade, please run:\n",
       " $ pip install wandb --upgrade"
      ]
     },
     "metadata": {},
     "output_type": "display_data"
    },
    {
     "data": {
      "text/plain": [
       "<IPython.core.display.HTML object>"
      ],
      "text/html": [
       "Tracking run with wandb version 0.16.4"
      ]
     },
     "metadata": {},
     "output_type": "display_data"
    },
    {
     "data": {
      "text/plain": [
       "<IPython.core.display.HTML object>"
      ],
      "text/html": [
       "Run data is saved locally in <code>/home/mbortkie/repos/crl/notebooks/wandb/run-20240805_113234-cx0lklom</code>"
      ]
     },
     "metadata": {},
     "output_type": "display_data"
    },
    {
     "data": {
      "text/plain": [
       "<IPython.core.display.HTML object>"
      ],
      "text/html": [
       "Syncing run <strong><a href='https://wandb.ai/cl-probing/logsumexp_penalty/runs/cx0lklom' target=\"_blank\">ant_l_symmetric_infonce_ef_l2_p_0.1</a></strong> to <a href='https://wandb.ai/cl-probing/logsumexp_penalty' target=\"_blank\">Weights & Biases</a> (<a href='https://wandb.me/run' target=\"_blank\">docs</a>)<br/>"
      ]
     },
     "metadata": {},
     "output_type": "display_data"
    },
    {
     "data": {
      "text/plain": [
       "<IPython.core.display.HTML object>"
      ],
      "text/html": [
       " View project at <a href='https://wandb.ai/cl-probing/logsumexp_penalty' target=\"_blank\">https://wandb.ai/cl-probing/logsumexp_penalty</a>"
      ]
     },
     "metadata": {},
     "output_type": "display_data"
    },
    {
     "data": {
      "text/plain": [
       "<IPython.core.display.HTML object>"
      ],
      "text/html": [
       " View run at <a href='https://wandb.ai/cl-probing/logsumexp_penalty/runs/cx0lklom' target=\"_blank\">https://wandb.ai/cl-probing/logsumexp_penalty/runs/cx0lklom</a>"
      ]
     },
     "metadata": {},
     "output_type": "display_data"
    },
    {
     "data": {
      "text/plain": [
       "<IPython.core.display.HTML object>"
      ],
      "text/html": [
       "W&B sync reduced upload amount by 3.4%             "
      ]
     },
     "metadata": {},
     "output_type": "display_data"
    },
    {
     "data": {
      "text/plain": [
       "<IPython.core.display.HTML object>"
      ],
      "text/html": [
       "<style>\n",
       "    table.wandb td:nth-child(1) { padding: 0 10px; text-align: left ; width: auto;} td:nth-child(2) {text-align: left ; width: 100%}\n",
       "    .wandb-row { display: flex; flex-direction: row; flex-wrap: wrap; justify-content: flex-start; width: 100% }\n",
       "    .wandb-col { display: flex; flex-direction: column; flex-basis: 100%; flex: 1; padding: 10px; }\n",
       "    </style>\n",
       "<div class=\"wandb-row\"><div class=\"wandb-col\"><h3>Run history:</h3><br/><table class=\"wandb\"><tr><td>eval/episode_dist</td><td>█▄▆▆▄▂▃▃▃▃▂▂▂▂▃▂▃▃▁▃▂▂▄▂▂▃▂▂▂▂▁▃▄▃▃▃▄▃▄▂</td></tr><tr><td>eval/episode_reward_survive</td><td>▂▁▄▆▇▆█▆▇█▆▇█▇▆█▇█▇▇▇▇█▇▇▇▇▇▆▇▆▇▇▇█▇█▇██</td></tr><tr><td>eval/episode_success</td><td>▁▁▁▂▃▄▅▄▆▇▆▇██▅█▆██▇▇▇▆▇█▇▇▇▇█▇▇▆▇█▆▇▇▇█</td></tr><tr><td>eval/episode_success_any</td><td>▁▁▂▄▆▆█▆▇▇▆▇█▇▆█▇█▇▇▇▇▇▇██▇▇▇▇▆▇▇▇▇▇▇▇▇▇</td></tr><tr><td>eval/episode_success_easy</td><td>▁▁▂▄▆▆▇▆▇▇▆▇██▆█▇██▇▇▇▇▇█▇▇▇▇▇▆▇▆▇▇▆▇▇▇█</td></tr><tr><td>eval/episode_success_hard</td><td>▁▁▁▁▁▁▁▁▁▁▁▁▁▁▁▁▁▁▁▁▁▁▁▁▁▁▁▁▁▁▁▁▁▁▁▁▁▁▁▁</td></tr><tr><td>step</td><td>▁▁▁▂▂▂▂▂▃▃▃▃▃▃▄▄▄▄▄▄▅▅▅▅▅▅▆▆▆▆▆▆▇▇▇▇▇███</td></tr><tr><td>training/actor_loss</td><td>▁███▇▆▆▆▆▆▅▅▅▅▅▅▅▅▅▅▅▅▅▅▅▅▅▅▅▅▅▅▅▅▅▅▅▅▅▅</td></tr><tr><td>training/alpha</td><td>▁█▂▂▂▂▂▂▂▂▂▂▂▂▂▂▂▂▂▂▂▂▂▂▂▂▂▂▂▂▂▂▂▂▂▂▂▂▂▂</td></tr><tr><td>training/alpha_loss</td><td>▁█▁▁▁▁▁▁▁▁▁▁▁▁▁▁▁▁▁▁▁▁▁▁▁▁▁▁▁▁▁▁▁▁▁▁▁▁▁▁</td></tr><tr><td>training/binary_accuracy</td><td>▁███████████████████████████████████████</td></tr><tr><td>training/c_target</td><td>▁▁▁▁▁▁▁▁▁▁▁▁▁▁▁▁▁▁▁▁▁▁▁▁▁▁▁▁▁▁▁▁▁▁▁▁▁▁▁▁</td></tr><tr><td>training/categorical_accuracy</td><td>▁▄▅▆▇▇▇▇████████████████████████████████</td></tr><tr><td>training/crl_critic_loss</td><td>▁██▇▆▆▅▅▅▅▅▅▅▅▅▅▅▅▅▅▅▅▅▅▅▅▅▅▅▅▄▄▄▄▄▄▄▄▄▄</td></tr><tr><td>training/entropy</td><td>█▆▁▁▁▁▁▁▁▁▁▁▁▁▁▁▁▁▁▁▁▁▁▁▁▁▁▁▁▁▁▁▁▁▁▁▁▁▁▁</td></tr><tr><td>training/g_repr_mean</td><td>▁▅▅▅▆▇▇▇████████████▇▇▇▇▇▇▇▇▇▇▇▇▇▇▇▇▇▇▇▇</td></tr><tr><td>training/g_repr_std</td><td>▁▆▅▆████▇▇▆▆▆▆▆▆▆▆▆▇▆▇▇▇▇▆▇▇▇▆▆▆▇▇▇▇▇▇▆▆</td></tr><tr><td>training/l_align</td><td>▁███▇▇▆▆▆▆▆▆▆▆▆▆▆▆▆▆▆▆▆▆▅▆▅▅▅▅▅▅▅▅▅▅▅▅▅▅</td></tr><tr><td>training/l_unif</td><td>█▇▅▄▂▂▂▁▁▂▂▂▂▂▂▂▁▁▁▁▁▁▁▁▁▁▁▁▁▁▁▁▁▁▁▁▁▁▁▁</td></tr><tr><td>training/logits_neg</td><td>█▄▄▃▂▂▂▁▁▁▁▁▁▁▁▁▁▁▁▁▁▁▁▁▁▁▁▁▁▁▁▁▁▁▁▁▁▁▁▁</td></tr><tr><td>training/logits_pos</td><td>█▁▁▁▂▂▃▃▃▃▃▃▃▃▃▃▃▃▃▃▃▃▃▃▄▃▄▄▄▄▄▄▄▄▄▄▄▄▄▄</td></tr><tr><td>training/logsumexp</td><td>▁▃▃▄▅▆▆▆▇▇▇▇▇▇▇▇████████████████████████</td></tr><tr><td>training/sa_repr_mean</td><td>▁▄▄▅▆▇▇▇████████████▇▇▇▇▇▇▇▇▇▇▇▇▇▇▇▇▇▇▇▇</td></tr><tr><td>training/sa_repr_std</td><td>▁▇▆▆████▇▇▆▆▆▆▆▆▆▆▆▆▆▆▆▆▆▆▆▆▆▆▆▆▆▆▆▆▆▆▆▆</td></tr><tr><td>training/sps</td><td>▁▅██████████████████████████████████████</td></tr></table><br/></div><div class=\"wandb-col\"><h3>Run summary:</h3><br/><table class=\"wandb\"><tr><td>eval/episode_dist</td><td>2174.57617</td></tr><tr><td>eval/episode_reward_survive</td><td>838.99219</td></tr><tr><td>eval/episode_success</td><td>225.88281</td></tr><tr><td>eval/episode_success_any</td><td>0.82812</td></tr><tr><td>eval/episode_success_easy</td><td>542.42969</td></tr><tr><td>eval/episode_success_hard</td><td>0</td></tr><tr><td>step</td><td>50853888.0</td></tr><tr><td>training/actor_loss</td><td>2.00499</td></tr><tr><td>training/alpha</td><td>0.01013</td></tr><tr><td>training/alpha_loss</td><td>0.0</td></tr><tr><td>training/binary_accuracy</td><td>0.99609</td></tr><tr><td>training/c_target</td><td>0</td></tr><tr><td>training/categorical_accuracy</td><td>0.44193</td></tr><tr><td>training/crl_critic_loss</td><td>3.50327</td></tr><tr><td>training/entropy</td><td>-4.00088</td></tr><tr><td>training/g_repr_mean</td><td>11.72439</td></tr><tr><td>training/g_repr_std</td><td>2.38635</td></tr><tr><td>training/l_align</td><td>4.63158</td></tr><tr><td>training/l_unif</td><td>-1.2008</td></tr><tr><td>training/logits_neg</td><td>-14.02927</td></tr><tr><td>training/logits_pos</td><td>-2.31579</td></tr><tr><td>training/logsumexp</td><td>0.72492</td></tr><tr><td>training/sa_repr_mean</td><td>11.76322</td></tr><tr><td>training/sa_repr_std</td><td>2.45792</td></tr><tr><td>training/sps</td><td>36082.3108</td></tr></table><br/></div></div>"
      ]
     },
     "metadata": {},
     "output_type": "display_data"
    },
    {
     "data": {
      "text/plain": [
       "<IPython.core.display.HTML object>"
      ],
      "text/html": [
       " View run <strong style=\"color:#cdcd00\">ant_l_symmetric_infonce_ef_l2_p_0.1</strong> at: <a href='https://wandb.ai/cl-probing/logsumexp_penalty/runs/cx0lklom' target=\"_blank\">https://wandb.ai/cl-probing/logsumexp_penalty/runs/cx0lklom</a><br/> View job at <a href='https://wandb.ai/cl-probing/logsumexp_penalty/jobs/QXJ0aWZhY3RDb2xsZWN0aW9uOjM3NzgwMzA4NA==/version_details/v23' target=\"_blank\">https://wandb.ai/cl-probing/logsumexp_penalty/jobs/QXJ0aWZhY3RDb2xsZWN0aW9uOjM3NzgwMzA4NA==/version_details/v23</a><br/>Synced 6 W&B file(s), 1 media file(s), 3 artifact file(s) and 5 other file(s)"
      ]
     },
     "metadata": {},
     "output_type": "display_data"
    },
    {
     "data": {
      "text/plain": [
       "<IPython.core.display.HTML object>"
      ],
      "text/html": [
       "Find logs at: <code>./wandb/run-20240805_113234-cx0lklom/logs</code>"
      ]
     },
     "metadata": {},
     "output_type": "display_data"
    }
   ],
   "execution_count": 2
  },
  {
   "metadata": {
    "ExecuteTime": {
     "end_time": "2024-08-05T09:32:50.985851Z",
     "start_time": "2024-08-05T09:32:50.981729Z"
    }
   },
   "cell_type": "code",
   "source": "",
   "id": "289b245ce309476c",
   "outputs": [],
   "execution_count": 2
  }
 ],
 "metadata": {
  "kernelspec": {
   "display_name": "Python 3",
   "language": "python",
   "name": "python3"
  },
  "language_info": {
   "codemirror_mode": {
    "name": "ipython",
    "version": 2
   },
   "file_extension": ".py",
   "mimetype": "text/x-python",
   "name": "python",
   "nbconvert_exporter": "python",
   "pygments_lexer": "ipython2",
   "version": "2.7.6"
  }
 },
 "nbformat": 4,
 "nbformat_minor": 5
}

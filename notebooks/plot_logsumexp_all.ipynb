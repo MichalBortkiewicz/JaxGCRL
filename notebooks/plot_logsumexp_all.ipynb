{
 "cells": [
  {
   "metadata": {
    "ExecuteTime": {
     "end_time": "2024-08-17T10:30:02.002740Z",
     "start_time": "2024-08-17T10:30:01.643866Z"
    }
   },
   "cell_type": "code",
   "source": [
    "import matplotlib.pyplot as plt\n",
    "import matplotlib\n",
    "import wandb\n",
    "from rliable import library as rly\n",
    "from rliable import metrics\n",
    "from rliable import plot_utils\n",
    "import seaborn as sns\n",
    "import numpy as np\n",
    "import os\n",
    "\n",
    "from utils import *"
   ],
   "id": "a91ba18618559115",
   "outputs": [
    {
     "name": "stderr",
     "output_type": "stream",
     "text": [
      "/home/mbortkie/miniconda3/envs/c_r_l/lib/python3.10/site-packages/requests/__init__.py:86: RequestsDependencyWarning: Unable to find acceptable character detection dependency (chardet or charset_normalizer).\n",
      "  warnings.warn(\n"
     ]
    }
   ],
   "execution_count": 1
  },
  {
   "metadata": {
    "ExecuteTime": {
     "end_time": "2024-08-17T10:30:02.037755Z",
     "start_time": "2024-08-17T10:30:02.034971Z"
    }
   },
   "cell_type": "code",
   "source": [
    "plt.rcParams[\"legend.title_fontsize\"] = \"large\"\n",
    "plt.rcParams.update({'font.size': 12})\n",
    "\n",
    "matplotlib.rc(\"xtick\", labelsize=48)\n",
    "matplotlib.rc(\"ytick\", labelsize=48)"
   ],
   "id": "2f3327625854c7cd",
   "outputs": [],
   "execution_count": 2
  },
  {
   "metadata": {
    "ExecuteTime": {
     "end_time": "2024-08-17T10:30:02.603712Z",
     "start_time": "2024-08-17T10:30:02.598946Z"
    }
   },
   "cell_type": "code",
   "source": [
    "# Initialize the wandb API\n",
    "api = wandb.Api()\n",
    "\n",
    "# Define your project and entity (replace with your specific values)\n",
    "entity = \"cl-probing\"  # e.g., your username or team name\n",
    "project = \"logsumexp_penalty\"  # e.g., your project name\n",
    "figures_path = f\"./figures/{project}\"\n",
    "os.makedirs(figures_path, exist_ok=True)\n",
    "take_x_seeds = 8"
   ],
   "id": "66078c5eea3670e",
   "outputs": [],
   "execution_count": 3
  },
  {
   "metadata": {
    "ExecuteTime": {
     "end_time": "2024-08-17T10:30:02.703998Z",
     "start_time": "2024-08-17T10:30:02.671729Z"
    }
   },
   "cell_type": "code",
   "source": [
    "# TODO: wait for 0.0\n",
    "\n",
    "exp_names = [\n",
    "    \"ant_l_symmetric_infonce_ef_l2_p_0.0\",\n",
    "    \"ant_l_symmetric_infonce_ef_l2_p_0.01\",\n",
    "    \"ant_l_symmetric_infonce_ef_l2_p_0.1\",\n",
    "    \"ant_l_symmetric_infonce_ef_l2\",\n",
    "    \"ant_l_symmetric_infonce_ef_l2_p_1\",\n",
    "]\n",
    "\n",
    "exp_names_mapping = {\n",
    "    \"ant_l_symmetric_infonce_ef_l2_p_0.0\": \"Penalty coef = 0.0\",\n",
    "    \"ant_l_symmetric_infonce_ef_l2_p_0.01\": \"Penalty coef = 0.01\",\n",
    "    \"ant_l_symmetric_infonce_ef_l2_p_0.1\": \"Penalty coef = 0.1\",\n",
    "    \"ant_l_symmetric_infonce_ef_l2\": \"Penalty coef = 0.1\",\n",
    "    \"ant_l_symmetric_infonce_ef_l2_p_1\": \"Penalty coef = 1\",\n",
    "}"
   ],
   "id": "396fb324c8516278",
   "outputs": [],
   "execution_count": 4
  },
  {
   "metadata": {
    "ExecuteTime": {
     "end_time": "2024-08-17T10:30:02.793345Z",
     "start_time": "2024-08-17T10:30:02.755344Z"
    }
   },
   "cell_type": "code",
   "source": [
    "env_title_mapping = {\n",
    "    \"ant_ball\": \"Ant Soccer\",\n",
    "    \"ant\": \"Ant\",\n",
    "    \"ant_u_maze\": \"Ant U-Maze\",\n",
    "    \"ant_big_maze\": \"Ant Big Maze\"\n",
    "}\n",
    "metric_to_metric_label_dict = {\n",
    "    \"eval/episode_success\": \"Time in goal proximity\",\n",
    "    \"eval/episode_success_any\": \"Success rate\",\n",
    "}"
   ],
   "id": "62cfff369b54cc38",
   "outputs": [],
   "execution_count": 5
  },
  {
   "metadata": {},
   "cell_type": "markdown",
   "source": "# Results for all envs",
   "id": "49fa0d8131edca1c"
  },
  {
   "metadata": {
    "ExecuteTime": {
     "end_time": "2024-08-17T10:30:02.868667Z",
     "start_time": "2024-08-17T10:30:02.832237Z"
    }
   },
   "cell_type": "code",
   "source": [
    "metrics_ = [\"eval/episode_success_any\", \"eval/episode_success\"]\n",
    "single_env=False\n"
   ],
   "id": "5e6d6dd9e035069",
   "outputs": [],
   "execution_count": 6
  },
  {
   "metadata": {
    "ExecuteTime": {
     "end_time": "2024-08-17T10:30:03.193383Z",
     "start_time": "2024-08-17T10:30:02.903631Z"
    }
   },
   "cell_type": "code",
   "source": [
    "# Define filters for the run config (replace with your specific filters)\n",
    "filters = {\n",
    "    \"config.batch_size\": 256,  # example filter, modify as needed\n",
    "    \"config.exp_name\": {\"$in\": exp_names},\n",
    "    \"config.env_name\": {\"$in\": list(env_title_mapping.keys())},\n",
    "    \"state\": \"finished\",\n",
    "}\n",
    "\n",
    "# Fetch the runs from the API\n",
    "runs = api.runs(path=f\"{entity}/{project}\", filters=filters)"
   ],
   "id": "9391f960d2cb56d5",
   "outputs": [],
   "execution_count": 7
  },
  {
   "metadata": {
    "ExecuteTime": {
     "end_time": "2024-08-17T10:31:40.463858Z",
     "start_time": "2024-08-17T10:31:40.459716Z"
    }
   },
   "cell_type": "code",
   "source": [
    "runs_new = []\n",
    "for run in runs:\n",
    "    if not run.id in [\"5slmt9c6\", \"s8knmfp6\"]:\n",
    "        runs_new.append(run)\n",
    "runs=runs_new"
   ],
   "id": "43f6daa712b96e3f",
   "outputs": [],
   "execution_count": 11
  },
  {
   "metadata": {
    "ExecuteTime": {
     "end_time": "2024-08-17T10:31:40.777709Z",
     "start_time": "2024-08-17T10:31:40.773520Z"
    }
   },
   "cell_type": "code",
   "source": "len(runs)",
   "id": "1c38d94b6565f508",
   "outputs": [
    {
     "data": {
      "text/plain": [
       "158"
      ]
     },
     "execution_count": 12,
     "metadata": {},
     "output_type": "execute_result"
    }
   ],
   "execution_count": 12
  },
  {
   "metadata": {
    "ExecuteTime": {
     "end_time": "2024-08-17T10:34:36.349166Z",
     "start_time": "2024-08-17T10:34:35.518077Z"
    }
   },
   "cell_type": "code",
   "source": [
    "for metric in metrics_:\n",
    "    metric_label = metric_to_metric_label_dict[metric]\n",
    "    data = aggregate_data_from_wandb(\n",
    "        runs, metric, exp_names, exp_names_mapping, env_title_mapping, take_x_seeds, single_env, download_again=False\n",
    "    )\n",
    "    \n",
    "    # Smoothing\n",
    "    for key, item in data.items():\n",
    "        data[key] = np.apply_along_axis(moving_average_smoothing, axis=-1, arr=item) \n",
    "    \n",
    "    data_flattened = {key: np.mean(elem[:,:, -10:], axis=-1) for key, elem in data.items()}\n",
    "    \n",
    "    \n",
    "    aggregate_func = lambda x: np.array(\n",
    "    [\n",
    "        # metrics.aggregate_median(x),\n",
    "        metrics.aggregate_iqm(x),\n",
    "        # metrics.aggregate_mean(x),\n",
    "    ]\n",
    "    )\n",
    "    aggregate_scores, aggregate_score_cis = rly.get_interval_estimates(\n",
    "        data_flattened, aggregate_func, reps=500\n",
    "    )\n",
    "    fig, axes = plot_utils.plot_interval_estimates(\n",
    "        aggregate_scores,\n",
    "        aggregate_score_cis,\n",
    "        # metric_names=[\"Median\", \"IQM\", \"Mean\"],\n",
    "        metric_names=[\"IQM\"],\n",
    "        algorithms=list(data.keys()),\n",
    "        xlabel=f\"{metric_label}\",\n",
    "        grid_alpha=0.4,\n",
    "        max_ticks=3,\n",
    "        subfigure_width=4,\n",
    "        xlabel_y_coordinate=-0.5,\n",
    "    )\n",
    "    plt.subplots_adjust(wspace=0.2, left=0.0)\n",
    "    \n",
    "    if isinstance(axes, matplotlib.axes._axes.Axes):\n",
    "        axes = [axes]\n",
    "        \n",
    "    # for ax in axes:\n",
    "    #     if metric_label == \"Success rate\":\n",
    "    #         ax.set_xlim((0.4, 0.7))\n",
    "    #     else:\n",
    "    #         ax.set_xlim((100, 280))\n",
    "    \n",
    "    plt.savefig(\n",
    "        os.path.join(figures_path, f\"{metric_label}_all.pdf\"), bbox_inches=\"tight\"\n",
    "    )\n",
    "        \n",
    "    "
   ],
   "id": "3543ffd5043e59fc",
   "outputs": [
    {
     "name": "stdout",
     "output_type": "stream",
     "text": [
      "[50, 50, 50, 50, 50, 50, 50, 50]\n",
      "[50, 50, 50, 50, 50, 50, 50, 50]\n",
      "[50, 50, 50, 50, 50, 50, 50, 50]\n",
      "[1, 1, 1, 1, 1, 1, 1, 1]\n",
      "[50, 50, 50, 50, 50, 50, 50, 50]\n",
      "[50, 50, 50, 50, 50, 50, 50, 50]\n",
      "[50, 50, 50, 50, 50, 50, 50, 50]\n",
      "[50, 50, 50, 50, 50, 50, 50, 50]\n",
      "[1, 1, 1, 1, 1, 1, 1, 1]\n",
      "[50, 50, 50, 50, 50, 50, 50, 50]\n",
      "[50, 50, 50, 50, 50, 50, 50, 50]\n",
      "[50, 50, 50, 50, 50, 50, 50, 50]\n",
      "[50, 50, 50, 50, 50, 50, 50, 50]\n",
      "[1, 1, 1, 1, 1, 1, 1, 1]\n",
      "[50, 50, 50, 50, 50, 50, 50, 50]\n",
      "[50, 50, 50, 50, 50, 50, 50, 50]\n",
      "[50, 50, 50, 50, 50, 50, 50, 50]\n",
      "[50, 50, 50, 50, 50, 50, 50, 50]\n",
      "[1, 1, 1, 1, 1, 1, 1, 1]\n",
      "[50, 50, 50, 50, 50, 50, 50, 50]\n",
      "Penalty coef = 0.0, Ant Soccer\n",
      "(8, 1, 50)\n",
      "Penalty coef = 0.01, Ant Soccer\n",
      "(8, 1, 50)\n",
      "Penalty coef = 0.1, Ant Soccer\n",
      "(8, 1, 1, 50)\n",
      "Penalty coef = 0.1, Ant Soccer\n",
      "(8, 1, 1, 50)\n",
      "Penalty coef = 1, Ant Soccer\n",
      "(8, 1, 50)\n",
      "Penalty coef = 0.0, Ant\n",
      "(8, 1, 50)\n",
      "Penalty coef = 0.01, Ant\n",
      "(8, 1, 50)\n",
      "Penalty coef = 0.1, Ant\n",
      "(8, 1, 1, 50)\n",
      "Penalty coef = 0.1, Ant\n",
      "(8, 1, 1, 50)\n",
      "Penalty coef = 1, Ant\n",
      "(8, 1, 50)\n",
      "Penalty coef = 0.0, Ant U-Maze\n",
      "(8, 1, 50)\n",
      "Penalty coef = 0.01, Ant U-Maze\n",
      "(8, 1, 50)\n",
      "Penalty coef = 0.1, Ant U-Maze\n",
      "(8, 1, 1, 50)\n",
      "Penalty coef = 0.1, Ant U-Maze\n",
      "(8, 1, 1, 50)\n",
      "Penalty coef = 1, Ant U-Maze\n",
      "(8, 1, 50)\n",
      "Penalty coef = 0.0, Ant Big Maze\n",
      "(8, 1, 50)\n",
      "Penalty coef = 0.01, Ant Big Maze\n",
      "(8, 1, 50)\n",
      "Penalty coef = 0.1, Ant Big Maze\n",
      "(8, 1, 1, 50)\n",
      "Penalty coef = 0.1, Ant Big Maze\n",
      "(8, 1, 1, 50)\n",
      "Penalty coef = 1, Ant Big Maze\n",
      "(8, 1, 50)\n",
      "[50, 50, 50, 50, 50, 50, 50, 50]\n",
      "[50, 50, 50, 50, 50, 50, 50, 50]\n",
      "[50, 50, 50, 50, 50, 50, 50, 50]\n",
      "[1, 1, 1, 1, 1, 1, 1, 1]\n",
      "[50, 50, 50, 50, 50, 50, 50, 50]\n",
      "[50, 50, 50, 50, 50, 50, 50, 50]\n",
      "[50, 50, 50, 50, 50, 50, 50, 50]\n",
      "[50, 50, 50, 50, 50, 50, 50, 50]\n",
      "[1, 1, 1, 1, 1, 1, 1, 1]\n",
      "[50, 50, 50, 50, 50, 50, 50, 50]\n",
      "[50, 50, 50, 50, 50, 50, 50, 50]\n",
      "[50, 50, 50, 50, 50, 50, 50, 50]\n",
      "[50, 50, 50, 50, 50, 50, 50, 50]\n",
      "[1, 1, 1, 1, 1, 1, 1, 1]\n",
      "[50, 50, 50, 50, 50, 50, 50, 50]\n",
      "[50, 50, 50, 50, 50, 50, 50, 50]\n",
      "[50, 50, 50, 50, 50, 50, 50, 50]\n",
      "[50, 50, 50, 50, 50, 50, 50, 50]\n",
      "[1, 1, 1, 1, 1, 1, 1, 1]\n",
      "[50, 50, 50, 50, 50, 50, 50, 50]\n",
      "Penalty coef = 0.0, Ant Soccer\n",
      "(8, 1, 50)\n",
      "Penalty coef = 0.01, Ant Soccer\n",
      "(8, 1, 50)\n",
      "Penalty coef = 0.1, Ant Soccer\n",
      "(8, 1, 1, 50)\n",
      "Penalty coef = 0.1, Ant Soccer\n",
      "(8, 1, 1, 50)\n",
      "Penalty coef = 1, Ant Soccer\n",
      "(8, 1, 50)\n",
      "Penalty coef = 0.0, Ant\n",
      "(8, 1, 50)\n",
      "Penalty coef = 0.01, Ant\n",
      "(8, 1, 50)\n",
      "Penalty coef = 0.1, Ant\n",
      "(8, 1, 1, 50)\n",
      "Penalty coef = 0.1, Ant\n",
      "(8, 1, 1, 50)\n",
      "Penalty coef = 1, Ant\n",
      "(8, 1, 50)\n",
      "Penalty coef = 0.0, Ant U-Maze\n",
      "(8, 1, 50)\n",
      "Penalty coef = 0.01, Ant U-Maze\n",
      "(8, 1, 50)\n",
      "Penalty coef = 0.1, Ant U-Maze\n",
      "(8, 1, 1, 50)\n",
      "Penalty coef = 0.1, Ant U-Maze\n",
      "(8, 1, 1, 50)\n",
      "Penalty coef = 1, Ant U-Maze\n",
      "(8, 1, 50)\n",
      "Penalty coef = 0.0, Ant Big Maze\n",
      "(8, 1, 50)\n",
      "Penalty coef = 0.01, Ant Big Maze\n",
      "(8, 1, 50)\n",
      "Penalty coef = 0.1, Ant Big Maze\n",
      "(8, 1, 1, 50)\n",
      "Penalty coef = 0.1, Ant Big Maze\n",
      "(8, 1, 1, 50)\n",
      "Penalty coef = 1, Ant Big Maze\n",
      "(8, 1, 50)\n"
     ]
    },
    {
     "data": {
      "text/plain": [
       "<Figure size 400x148 with 1 Axes>"
      ],
      "image/png": "[encoded data removed]"
     },
     "metadata": {},
     "output_type": "display_data"
    },
    {
     "data": {
      "text/plain": [
       "<Figure size 400x148 with 1 Axes>"
      ],
      "image/png": "[encoded data removed]"
     },
     "metadata": {},
     "output_type": "display_data"
    }
   ],
   "execution_count": 14
  },
  {
   "metadata": {
    "ExecuteTime": {
     "end_time": "2024-08-17T10:35:13.930635Z",
     "start_time": "2024-08-17T10:35:13.925470Z"
    }
   },
   "cell_type": "code",
   "source": "data.keys()",
   "id": "100b363fd44a860c",
   "outputs": [
    {
     "data": {
      "text/plain": [
       "dict_keys(['Penalty coef = 0.0', 'Penalty coef = 0.01', 'Penalty coef = 0.1', 'Penalty coef = 1'])"
      ]
     },
     "execution_count": 16,
     "metadata": {},
     "output_type": "execute_result"
    }
   ],
   "execution_count": 16
  },
  {
   "metadata": {
    "ExecuteTime": {
     "end_time": "2024-08-17T10:35:32.357008Z",
     "start_time": "2024-08-17T10:35:32.351819Z"
    }
   },
   "cell_type": "code",
   "source": "data['Penalty coef = 0.0'].shape",
   "id": "361be70f1f2214fc",
   "outputs": [
    {
     "data": {
      "text/plain": [
       "(8, 4, 50)"
      ]
     },
     "execution_count": 18,
     "metadata": {},
     "output_type": "execute_result"
    }
   ],
   "execution_count": 18
  },
  {
   "metadata": {},
   "cell_type": "code",
   "outputs": [],
   "execution_count": null,
   "source": "",
   "id": "fa9350c0f877ff29"
  }
 ],
 "metadata": {
  "kernelspec": {
   "display_name": "Python 3",
   "language": "python",
   "name": "python3"
  },
  "language_info": {
   "codemirror_mode": {
    "name": "ipython",
    "version": 2
   },
   "file_extension": ".py",
   "mimetype": "text/x-python",
   "name": "python",
   "nbconvert_exporter": "python",
   "pygments_lexer": "ipython2",
   "version": "2.7.6"
  }
 },
 "nbformat": 4,
 "nbformat_minor": 5
}

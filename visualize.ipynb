{
 "cells": [
  {
   "cell_type": "code",
   "execution_count": 66,
   "metadata": {},
   "outputs": [],
   "source": [
    "\n",
    "import functools\n",
    "import jax\n",
    "import os\n",
    "\n",
    "from datetime import datetime\n",
    "from jax import numpy as jp\n",
    "import matplotlib.pyplot as plt\n",
    "\n",
    "from IPython.display import HTML, clear_output\n",
    "\n",
    "\n",
    "import brax\n",
    "\n",
    "import flax\n",
    "from brax import envs\n",
    "from brax.io import model\n",
    "from brax.io import json\n",
    "from brax.io import html\n",
    "from brax.training.agents.ppo import train as ppo\n",
    "from brax.training.agents.sac import train as sac\n",
    "import pprint"
   ]
  },
  {
   "cell_type": "code",
   "execution_count": 67,
   "metadata": {},
   "outputs": [],
   "source": [
    "params = model.load_params(\"./runs/run_reacher_vis_test_s_1/ckpt/final\")"
   ]
  },
  {
   "cell_type": "code",
   "execution_count": 68,
   "metadata": {},
   "outputs": [],
   "source": [
    "processor_params, policy_params, encoders_params = params\n",
    "sa_encoder_params, g_encoder_params = encoders_params['sa_encoder'], encoders_params['g_encoder']"
   ]
  },
  {
   "cell_type": "code",
   "execution_count": 69,
   "metadata": {},
   "outputs": [
    {
     "data": {
      "text/plain": [
       "Namespace(exp_name='reacher_vis_test', num_timesteps=2000, max_replay_size=2000, min_replay_size=0, num_evals=5, episode_length=1001, action_repeat=4, discounting=0.997, num_envs=4, batch_size=32, seed=1, unroll_length=200, multiplier_num_sgd_steps=1, env_name='reacher', normalize_observations=False, use_tested_args=False, log_wandb=False, policy_lr=0.0006, alpha_lr=0.0003, critic_lr=0.0003, contrastive_loss_fn='binary', logsumexp_penalty=0.0, random_goals=0.0, use_old_trans_actor=False, use_old_trans_alpha=False, disable_entropy_actor=False, use_traj_idx_wrapper=False, sgd_to_env=0.15640625)"
      ]
     },
     "execution_count": 69,
     "metadata": {},
     "output_type": "execute_result"
    }
   ],
   "source": [
    "from crl_new import networks\n",
    "from utils import get_env_config\n",
    "import pickle\n",
    "\n",
    "args_path = \"./runs/run_reacher_vis_test_s_1/args.pkl\"\n",
    "\n",
    "with open(args_path, \"rb\") as f:\n",
    "    args = pickle.load(f)\n",
    "\n",
    "config = get_env_config(args)\n",
    "args\n"
   ]
  },
  {
   "cell_type": "code",
   "execution_count": 70,
   "metadata": {},
   "outputs": [
    {
     "name": "stdout",
     "output_type": "stream",
     "text": [
      "13\n",
      "2\n"
     ]
    }
   ],
   "source": [
    "from utils import create_env\n",
    "env = create_env(args)\n",
    "obs_size = env.observation_size\n",
    "action_size = env.action_size\n",
    "print(obs_size)\n",
    "print(action_size)"
   ]
  },
  {
   "cell_type": "code",
   "execution_count": 71,
   "metadata": {},
   "outputs": [],
   "source": [
    "crl_networks = networks.make_crl_networks(config, obs_size, action_size)"
   ]
  },
  {
   "cell_type": "code",
   "execution_count": 72,
   "metadata": {},
   "outputs": [
    {
     "data": {
      "text/plain": [
       "FeedForwardNetwork(init=<function make_policy_network.<locals>.<lambda> at 0x7f266b9af400>, apply=<function make_policy_network.<locals>.apply at 0x7f266b9af9a0>)"
      ]
     },
     "execution_count": 72,
     "metadata": {},
     "output_type": "execute_result"
    }
   ],
   "source": [
    "crl_networks.policy_network"
   ]
  },
  {
   "cell_type": "code",
   "execution_count": 73,
   "metadata": {},
   "outputs": [
    {
     "data": {
      "text/plain": [
       "<function crl_new.networks.make_inference_fn.<locals>.make_policy.<locals>.policy(observations: jax.Array, key_sample: jax.Array) -> Tuple[jax.Array, Mapping[str, Any]]>"
      ]
     },
     "execution_count": 73,
     "metadata": {},
     "output_type": "execute_result"
    }
   ],
   "source": [
    "inference_fn = networks.make_inference_fn(crl_networks)\n",
    "inference_fn = inference_fn(params[:2])\n",
    "inference_fn"
   ]
  },
  {
   "cell_type": "code",
   "execution_count": 75,
   "metadata": {},
   "outputs": [
    {
     "data": {
      "text/plain": [
       "Array([0., 0., 0., 0., 0., 0., 0., 0., 0., 0., 0., 0., 0., 0., 0., 0., 0.,\n",
       "       0., 0., 0., 0., 0., 0., 0., 0., 0., 0., 0., 0., 0., 0., 0., 0., 0.,\n",
       "       0., 0., 0., 0., 0., 0., 0., 0., 0., 0., 0., 0., 0., 0., 0., 0., 0.,\n",
       "       0., 0., 0., 0., 0., 0., 0., 0., 0., 0., 0., 0., 0.], dtype=float32)"
      ]
     },
     "execution_count": 75,
     "metadata": {},
     "output_type": "execute_result"
    }
   ],
   "source": [
    "sa_encoder = lambda obs: crl_networks.sa_encoder.apply(processor_params, sa_encoder_params, obs)\n",
    "g_encoder = lambda obs: crl_networks.g_encoder.apply(processor_params, g_encoder_params, obs)\n",
    "\n",
    "g_encoder(jp.zeros(3))"
   ]
  },
  {
   "cell_type": "code",
   "execution_count": null,
   "metadata": {},
   "outputs": [],
   "source": []
  }
 ],
 "metadata": {
  "kernelspec": {
   "display_name": "Python 3 (ipykernel)",
   "language": "python",
   "name": "python3"
  },
  "language_info": {
   "codemirror_mode": {
    "name": "ipython",
    "version": 3
   },
   "file_extension": ".py",
   "mimetype": "text/x-python",
   "name": "python",
   "nbconvert_exporter": "python",
   "pygments_lexer": "ipython3",
   "version": "3.10.12"
  }
 },
 "nbformat": 4,
 "nbformat_minor": 4
}
